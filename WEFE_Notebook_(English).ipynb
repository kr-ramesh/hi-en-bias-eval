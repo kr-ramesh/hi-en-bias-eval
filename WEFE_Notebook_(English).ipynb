{
  "nbformat": 4,
  "nbformat_minor": 0,
  "metadata": {
    "colab": {
      "name": "WEFE Notebook (English).ipynb",
      "provenance": [],
      "collapsed_sections": [],
      "include_colab_link": true
    },
    "kernelspec": {
      "display_name": "Python 3",
      "name": "python3"
    },
    "accelerator": "GPU"
  },
  "cells": [
    {
      "cell_type": "markdown",
      "metadata": {
        "id": "view-in-github",
        "colab_type": "text"
      },
      "source": [
        "<a href=\"https://colab.research.google.com/github/stolenpyjak/hi-en-bias-eval/blob/main/WEFE_Notebook_(English).ipynb\" target=\"_parent\"><img src=\"https://colab.research.google.com/assets/colab-badge.svg\" alt=\"Open In Colab\"/></a>"
      ]
    },
    {
      "cell_type": "markdown",
      "metadata": {
        "id": "fdT0UII81bbg"
      },
      "source": [
        "**Word Embedding Fairness Evaluation**\n",
        "\n",
        "Link to the documentation for the same: [WEFE Documentation](https://wefe.readthedocs.io/en/latest/loading_embeddings.html)\n",
        "\n",
        "\n"
      ]
    },
    {
      "cell_type": "code",
      "metadata": {
        "colab": {
          "base_uri": "https://localhost:8080/"
        },
        "id": "aKZ7QJkxO-Zq",
        "outputId": "c22e1aa8-d797-4eeb-c961-0ca86b9d9ddb"
      },
      "source": [
        "!pip install wefe==0.1.5\n",
        "#WEAT\n",
        "import wefe"
      ],
      "execution_count": null,
      "outputs": [
        {
          "output_type": "stream",
          "text": [
            "Collecting wefe==0.1.5\n",
            "\u001b[?25l  Downloading https://files.pythonhosted.org/packages/e6/11/f49bc6a4a9637bcf354395ce9980f52a4632e2a162e0fabcd27c2c396a20/wefe-0.1.5-py3-none-any.whl (339kB)\n",
            "\r\u001b[K     |█                               | 10kB 21.5MB/s eta 0:00:01\r\u001b[K     |██                              | 20kB 16.3MB/s eta 0:00:01\r\u001b[K     |███                             | 30kB 14.3MB/s eta 0:00:01\r\u001b[K     |███▉                            | 40kB 13.1MB/s eta 0:00:01\r\u001b[K     |████▉                           | 51kB 8.3MB/s eta 0:00:01\r\u001b[K     |█████▉                          | 61kB 7.8MB/s eta 0:00:01\r\u001b[K     |██████▊                         | 71kB 8.8MB/s eta 0:00:01\r\u001b[K     |███████▊                        | 81kB 9.7MB/s eta 0:00:01\r\u001b[K     |████████▊                       | 92kB 9.1MB/s eta 0:00:01\r\u001b[K     |█████████▋                      | 102kB 8.0MB/s eta 0:00:01\r\u001b[K     |██████████▋                     | 112kB 8.0MB/s eta 0:00:01\r\u001b[K     |███████████▋                    | 122kB 8.0MB/s eta 0:00:01\r\u001b[K     |████████████▌                   | 133kB 8.0MB/s eta 0:00:01\r\u001b[K     |█████████████▌                  | 143kB 8.0MB/s eta 0:00:01\r\u001b[K     |██████████████▌                 | 153kB 8.0MB/s eta 0:00:01\r\u001b[K     |███████████████▍                | 163kB 8.0MB/s eta 0:00:01\r\u001b[K     |████████████████▍               | 174kB 8.0MB/s eta 0:00:01\r\u001b[K     |█████████████████▍              | 184kB 8.0MB/s eta 0:00:01\r\u001b[K     |██████████████████▎             | 194kB 8.0MB/s eta 0:00:01\r\u001b[K     |███████████████████▎            | 204kB 8.0MB/s eta 0:00:01\r\u001b[K     |████████████████████▎           | 215kB 8.0MB/s eta 0:00:01\r\u001b[K     |█████████████████████▏          | 225kB 8.0MB/s eta 0:00:01\r\u001b[K     |██████████████████████▏         | 235kB 8.0MB/s eta 0:00:01\r\u001b[K     |███████████████████████▏        | 245kB 8.0MB/s eta 0:00:01\r\u001b[K     |████████████████████████        | 256kB 8.0MB/s eta 0:00:01\r\u001b[K     |█████████████████████████       | 266kB 8.0MB/s eta 0:00:01\r\u001b[K     |██████████████████████████      | 276kB 8.0MB/s eta 0:00:01\r\u001b[K     |███████████████████████████     | 286kB 8.0MB/s eta 0:00:01\r\u001b[K     |████████████████████████████    | 296kB 8.0MB/s eta 0:00:01\r\u001b[K     |█████████████████████████████   | 307kB 8.0MB/s eta 0:00:01\r\u001b[K     |█████████████████████████████▉  | 317kB 8.0MB/s eta 0:00:01\r\u001b[K     |██████████████████████████████▉ | 327kB 8.0MB/s eta 0:00:01\r\u001b[K     |███████████████████████████████▉| 337kB 8.0MB/s eta 0:00:01\r\u001b[K     |████████████████████████████████| 348kB 8.0MB/s \n",
            "\u001b[?25hRequirement already satisfied: scikit-learn in /usr/local/lib/python3.7/dist-packages (from wefe==0.1.5) (0.22.2.post1)\n",
            "Requirement already satisfied: scipy in /usr/local/lib/python3.7/dist-packages (from wefe==0.1.5) (1.4.1)\n",
            "Requirement already satisfied: numpy in /usr/local/lib/python3.7/dist-packages (from wefe==0.1.5) (1.19.5)\n",
            "Requirement already satisfied: gensim in /usr/local/lib/python3.7/dist-packages (from wefe==0.1.5) (3.6.0)\n",
            "Requirement already satisfied: plotly in /usr/local/lib/python3.7/dist-packages (from wefe==0.1.5) (4.4.1)\n",
            "Requirement already satisfied: pandas in /usr/local/lib/python3.7/dist-packages (from wefe==0.1.5) (1.1.5)\n",
            "Requirement already satisfied: joblib>=0.11 in /usr/local/lib/python3.7/dist-packages (from scikit-learn->wefe==0.1.5) (1.0.1)\n",
            "Requirement already satisfied: six>=1.5.0 in /usr/local/lib/python3.7/dist-packages (from gensim->wefe==0.1.5) (1.15.0)\n",
            "Requirement already satisfied: smart-open>=1.2.1 in /usr/local/lib/python3.7/dist-packages (from gensim->wefe==0.1.5) (5.0.0)\n",
            "Requirement already satisfied: retrying>=1.3.3 in /usr/local/lib/python3.7/dist-packages (from plotly->wefe==0.1.5) (1.3.3)\n",
            "Requirement already satisfied: pytz>=2017.2 in /usr/local/lib/python3.7/dist-packages (from pandas->wefe==0.1.5) (2018.9)\n",
            "Requirement already satisfied: python-dateutil>=2.7.3 in /usr/local/lib/python3.7/dist-packages (from pandas->wefe==0.1.5) (2.8.1)\n",
            "Installing collected packages: wefe\n",
            "Successfully installed wefe-0.1.5\n"
          ],
          "name": "stdout"
        }
      ]
    },
    {
      "cell_type": "code",
      "metadata": {
        "colab": {
          "base_uri": "https://localhost:8080/"
        },
        "id": "QQg8csQIZ7Hx",
        "outputId": "dbb31c62-1371-4e19-b01a-a3c5b5d4814b"
      },
      "source": [
        "!git clone https://github.com/OpenNMT/OpenNMT-tf.git\n",
        "!pip install OpenNMT-tf[tensorflow_gpu]"
      ],
      "execution_count": null,
      "outputs": [
        {
          "output_type": "stream",
          "text": [
            "Cloning into 'OpenNMT-tf'...\n",
            "remote: Enumerating objects: 29444, done.\u001b[K\n",
            "remote: Counting objects: 100% (1101/1101), done.\u001b[K\n",
            "remote: Compressing objects: 100% (460/460), done.\u001b[K\n",
            "remote: Total 29444 (delta 936), reused 724 (delta 635), pack-reused 28343\u001b[K\n",
            "Receiving objects: 100% (29444/29444), 20.10 MiB | 26.70 MiB/s, done.\n",
            "Resolving deltas: 100% (24600/24600), done.\n",
            "Collecting OpenNMT-tf[tensorflow_gpu]\n",
            "\u001b[?25l  Downloading https://files.pythonhosted.org/packages/ce/52/0669f430f051f49db9ef204d7d7e6c7e60b53b1449e8b15615b0c38164c2/OpenNMT_tf-2.18.0-py3-none-any.whl (154kB)\n",
            "\u001b[K     |████████████████████████████████| 163kB 7.5MB/s \n",
            "\u001b[33m  WARNING: OpenNMT-tf 2.18.0 does not provide the extra 'tensorflow_gpu'\u001b[0m\n",
            "\u001b[?25hCollecting rouge<2,>=1.0\n",
            "  Downloading https://files.pythonhosted.org/packages/43/cc/e18e33be20971ff73a056ebdb023476b5a545e744e3fc22acd8c758f1e0d/rouge-1.0.0-py3-none-any.whl\n",
            "Collecting pyonmttok<2,>=1.23.0; platform_system == \"Linux\" or platform_system == \"Darwin\"\n",
            "\u001b[?25l  Downloading https://files.pythonhosted.org/packages/90/67/cd64b4c2fd0a83eb1088e31e0217b612281d014299993424420f933df3e7/pyonmttok-1.26.0-cp37-cp37m-manylinux1_x86_64.whl (14.3MB)\n",
            "\u001b[K     |████████████████████████████████| 14.3MB 247kB/s \n",
            "\u001b[?25hCollecting tensorflow-addons<0.13,>=0.12\n",
            "\u001b[?25l  Downloading https://files.pythonhosted.org/packages/74/e3/56d2fe76f0bb7c88ed9b2a6a557e25e83e252aec08f13de34369cd850a0b/tensorflow_addons-0.12.1-cp37-cp37m-manylinux2010_x86_64.whl (703kB)\n",
            "\u001b[K     |████████████████████████████████| 706kB 38.3MB/s \n",
            "\u001b[?25hCollecting ctranslate2<2,>=1.18.1; platform_system == \"Linux\" or platform_system == \"Darwin\"\n",
            "\u001b[?25l  Downloading https://files.pythonhosted.org/packages/70/dd/2bdc55f8dbdbadb6c8d69bf3c14c78e400cabd8b91b7ebe64220b6e2ffeb/ctranslate2-1.20.0-cp37-cp37m-manylinux2014_x86_64.whl (76.8MB)\n",
            "\u001b[K     |████████████████████████████████| 76.8MB 62kB/s \n",
            "\u001b[?25hCollecting sacrebleu<1.6,>=1.5.0\n",
            "\u001b[?25l  Downloading https://files.pythonhosted.org/packages/7e/57/0c7ca4e31a126189dab99c19951910bd081dea5bbd25f24b77107750eae7/sacrebleu-1.5.1-py3-none-any.whl (54kB)\n",
            "\u001b[K     |████████████████████████████████| 61kB 10.1MB/s \n",
            "\u001b[?25hCollecting pyyaml<5.5,>=5.3\n",
            "\u001b[?25l  Downloading https://files.pythonhosted.org/packages/7a/a5/393c087efdc78091afa2af9f1378762f9821c9c1d7a22c5753fb5ac5f97a/PyYAML-5.4.1-cp37-cp37m-manylinux1_x86_64.whl (636kB)\n",
            "\u001b[K     |████████████████████████████████| 645kB 51.7MB/s \n",
            "\u001b[?25hRequirement already satisfied: six in /usr/local/lib/python3.7/dist-packages (from rouge<2,>=1.0->OpenNMT-tf[tensorflow_gpu]) (1.15.0)\n",
            "Requirement already satisfied: typeguard>=2.7 in /usr/local/lib/python3.7/dist-packages (from tensorflow-addons<0.13,>=0.12->OpenNMT-tf[tensorflow_gpu]) (2.7.1)\n",
            "Requirement already satisfied: numpy in /usr/local/lib/python3.7/dist-packages (from ctranslate2<2,>=1.18.1; platform_system == \"Linux\" or platform_system == \"Darwin\"->OpenNMT-tf[tensorflow_gpu]) (1.19.5)\n",
            "Collecting portalocker==2.0.0\n",
            "  Downloading https://files.pythonhosted.org/packages/89/a6/3814b7107e0788040870e8825eebf214d72166adf656ba7d4bf14759a06a/portalocker-2.0.0-py2.py3-none-any.whl\n",
            "Installing collected packages: rouge, pyonmttok, tensorflow-addons, ctranslate2, portalocker, sacrebleu, pyyaml, OpenNMT-tf\n",
            "  Found existing installation: PyYAML 3.13\n",
            "    Uninstalling PyYAML-3.13:\n",
            "      Successfully uninstalled PyYAML-3.13\n",
            "Successfully installed OpenNMT-tf-2.18.0 ctranslate2-1.20.0 portalocker-2.0.0 pyonmttok-1.26.0 pyyaml-5.4.1 rouge-1.0.0 sacrebleu-1.5.1 tensorflow-addons-0.12.1\n"
          ],
          "name": "stdout"
        }
      ]
    },
    {
      "cell_type": "code",
      "metadata": {
        "colab": {
          "base_uri": "https://localhost:8080/"
        },
        "id": "MCkjGHzsKjv1",
        "outputId": "b458287f-0684-43a3-cca8-ccb1535cd856"
      },
      "source": [
        "from google.colab import drive\n",
        "drive.flush_and_unmount()\n",
        "drive.mount('/content/drive')"
      ],
      "execution_count": null,
      "outputs": [
        {
          "output_type": "stream",
          "text": [
            "Drive not mounted, so nothing to flush and unmount.\n",
            "Mounted at /content/drive\n"
          ],
          "name": "stdout"
        }
      ]
    },
    {
      "cell_type": "code",
      "metadata": {
        "colab": {
          "base_uri": "https://localhost:8080/"
        },
        "id": "0zcqD382Z9Uc",
        "outputId": "9d8a328d-7006-4458-8656-750c4acbb971"
      },
      "source": [
        "%cd drive/MyDrive/FinalModel"
      ],
      "execution_count": null,
      "outputs": [
        {
          "output_type": "stream",
          "text": [
            "/content/drive/MyDrive/FinalModel\n"
          ],
          "name": "stdout"
        }
      ]
    },
    {
      "cell_type": "code",
      "metadata": {
        "id": "mlhSWxWCmwcI"
      },
      "source": [
        "import tensorflow as tf\n",
        "import opennmt\n",
        "\n",
        "model = opennmt.models.TransformerBase()\n",
        "model.initialize({\n",
        "    \"source_vocabulary\": \"src-vocab-bpe.txt\",\n",
        "    \"target_vocabulary\": \"tgt-vocab-bpe.txt\"\n",
        "})\n",
        "model.create_variables()\n",
        "checkpoint = tf.train.Checkpoint(model=model)\n",
        "checkpoint.restore(\"ckpt-70000\")\n",
        "\n",
        "source_embedding = model.features_inputter.embedding.numpy()\n",
        "target_embedding = model.labels_inputter.embedding.numpy()"
      ],
      "execution_count": null,
      "outputs": []
    },
    {
      "cell_type": "code",
      "metadata": {
        "id": "CgvVZ7rn_cVG"
      },
      "source": [
        "words=[]\n",
        "with open(\"tgt-vocab-bpe.txt\",\"r\") as f:\n",
        "  content=f.readlines()\n",
        "  for i in content:\n",
        "    words.append(i.strip())\n",
        "f.close()"
      ],
      "execution_count": null,
      "outputs": []
    },
    {
      "cell_type": "code",
      "metadata": {
        "id": "692Tt49Gr85U"
      },
      "source": [
        "for i in words:\n",
        "  if i==\"\":\n",
        "    print(i)"
      ],
      "execution_count": null,
      "outputs": []
    },
    {
      "cell_type": "code",
      "metadata": {
        "id": "lEJIv9jncGj-"
      },
      "source": [
        "words.append('unk')"
      ],
      "execution_count": null,
      "outputs": []
    },
    {
      "cell_type": "code",
      "metadata": {
        "id": "TTReSHCCn3Bc"
      },
      "source": [
        "from gensim.models.keyedvectors import WordEmbeddingsKeyedVectors\n",
        "\n",
        "test = WordEmbeddingsKeyedVectors(vector_size=512)\n",
        "\n",
        "test.add(entities=words, weights=target_embedding)\n"
      ],
      "execution_count": null,
      "outputs": []
    },
    {
      "cell_type": "code",
      "metadata": {
        "id": "BnRRjiMfcj7C",
        "colab": {
          "base_uri": "https://localhost:8080/"
        },
        "outputId": "c923f597-64c9-47ff-a0f0-44b381114778"
      },
      "source": [
        "test.load(\"emb.gensim\")"
      ],
      "execution_count": null,
      "outputs": [
        {
          "output_type": "execute_result",
          "data": {
            "text/plain": [
              "<gensim.models.keyedvectors.WordEmbeddingsKeyedVectors at 0x7fbe2e8e8510>"
            ]
          },
          "metadata": {
            "tags": []
          },
          "execution_count": 10
        }
      ]
    },
    {
      "cell_type": "code",
      "metadata": {
        "id": "ZVlCTKqV1ngi"
      },
      "source": [
        "for i,n in embeddings_index.items():\n",
        "  print(i)\n",
        "  print(len(n))\n",
        "  break"
      ],
      "execution_count": null,
      "outputs": []
    },
    {
      "cell_type": "code",
      "metadata": {
        "id": "bcDkqqPe8cIS",
        "colab": {
          "base_uri": "https://localhost:8080/",
          "height": 35
        },
        "outputId": "dc45b0a5-2667-4f0b-869b-5f59867ec391"
      },
      "source": [
        "from wefe import WordEmbeddingModel, Query, WEAT\n",
        "import gensim.downloader as api\n",
        "\n",
        "english_keyed_vectors = test\n",
        "english_512 = WordEmbeddingModel(test, 'english-512')\n",
        "\n",
        "\"\"\"hindi_keyed_vectors = hindi_embedding.precomputed_word_embeddings\n",
        "hindi_300 = WordEmbeddingModel(hindi_keyed_vectors, 'hi-300')\"\"\""
      ],
      "execution_count": null,
      "outputs": [
        {
          "output_type": "execute_result",
          "data": {
            "application/vnd.google.colaboratory.intrinsic+json": {
              "type": "string"
            },
            "text/plain": [
              "\"hindi_keyed_vectors = hindi_embedding.precomputed_word_embeddings\\nhindi_300 = WordEmbeddingModel(hindi_keyed_vectors, 'hi-300')\""
            ]
          },
          "metadata": {
            "tags": []
          },
          "execution_count": 11
        }
      ]
    },
    {
      "cell_type": "code",
      "metadata": {
        "id": "jJHhGwhGc38p"
      },
      "source": [
        "male= ['male', 'man', 'boy', 'he', 'him', 'his', 'son', 'father', 'uncle', 'grandfather', 'husband', 'brother', 'nephew', 'sir']\n",
        "female= ['female', 'woman', 'girl', 'she', 'her', 'hers', 'mother','daughter', 'aunt', 'grandmother', 'wife', 'sister', 'niece', 'madam']\n",
        "career= ['executive', 'management', 'career', 'professional', 'corporation', 'industry', 'office', 'business', 'salary', 'job', 'education', 'college', 'money']\n",
        "family= ['home', 'family', 'parents', 'children', 'baby', 'caregiver', 'marriage', 'wedding', 'relatives', 'household', 'kin', 'relationship', 'love']\n",
        "math= ['algebra', 'geometry', 'calculus', 'equations', 'computation', 'numbers', 'addition', 'calculation', 'number', 'logic', 'arithmetic']\n",
        "arts1= ['poetry', 'art', 'dance', 'literature', 'novel', 'music', 'symphony', 'drama', 'culture', 'painting', 'theatre']\n",
        "science= ['science', 'technology', 'physics', 'chemistry', 'biology', 'mathematics', 'experiment', 'astronomy', 'engineering', 'computers']\n",
        "arts2= ['poetry', 'art', 'dance', 'literature', 'novel', 'music', 'symphony', 'drama', 'culture', 'painting']\n",
        "intelligence= ['resourceful', 'genius', 'inventive', 'adaptable', 'reflective', 'intuitive', 'inquiring', 'analytical', 'imaginative', 'shrewd', 'thoughtful', 'wise', 'smart', 'clever', 'brilliant', 'logical', 'intelligent', 'skill', 'witty', 'logical', 'creative', 'knowledge', 'rational', 'curious']\n",
        "appearance= ['alluring', 'cute', 'plump', 'sensual', 'gorgeous', 'slim', 'bald', 'athletic', 'fashionable', 'ugly', 'muscular', 'slender', 'feeble', 'handsome', 'healthy', 'attractive', 'fat', 'weak', 'thin', 'pretty', 'beautiful', 'strong', 'masculine', 'feminine']\n",
        "strength= ['power', 'strong', 'confident', 'dominant', 'command', 'assert', 'bold', 'succeed', 'triumph', 'leader', 'shout', 'dynamic', 'winner', 'powerful', 'force'] \n",
        "weakness= ['weak', 'surrender', 'timid', 'vulnerable', 'weakness', 'withdraw', 'yield', 'failure', 'lose', 'fragile', 'afraid', 'loser', 'powerless', 'faint', 'imperfect']"
      ],
      "execution_count": null,
      "outputs": []
    },
    {
      "cell_type": "code",
      "metadata": {
        "colab": {
          "base_uri": "https://localhost:8080/"
        },
        "id": "RkL68YRAeCWJ",
        "outputId": "a0eda4d3-a7df-4254-fd3a-d4c8fed0ae7b"
      },
      "source": [
        "print(len(male))\n",
        "print(len(female))"
      ],
      "execution_count": null,
      "outputs": [
        {
          "output_type": "stream",
          "text": [
            "14\n",
            "14\n"
          ],
          "name": "stdout"
        }
      ]
    },
    {
      "cell_type": "code",
      "metadata": {
        "id": "4RDddbWrSfzv"
      },
      "source": [
        "#male_names=['आदमी', 'लड़का', 'पिता', 'बेटा', 'पुरुष', 'उनके',]\n",
        "#female_names=['महिला', 'लड़की', 'मां', 'बेटी', 'महिला', 'उसके']\n",
        "\n",
        "#career=['प्रबंध', 'पेशेवर', 'निगम', 'वेतन', 'कार्यालय', 'व्यापार']\n",
        "#family=['घर', 'माता-पिता', 'बच्चे', 'परिवार', 'शादी', 'रिश्तेदारों']\n",
        "\n",
        "#male_names=[ 'जत', 'ज़रुर', 'जीएल', 'जीपी']\n",
        "#female_names=['ड़कना', 'दराज', 'दोज़ख़', 'निर्णय']\n",
        "\n",
        "#career=['पेशेवर','वेतन', 'कार्यालय', 'व्यापार','नियंत्रण','पश्च','पढ़ा','बील']\n",
        "#family=['घर', 'बच्चे', 'परिवार', 'शादी','कम्बख्त','काव','ख़बरदार','रेटिंग']\"\"\"\n",
        "\n",
        "gender_occupation_query = Query([male, female],\n",
        "                                [career, family],\n",
        "                                ['Male words', 'Female words'],\n",
        "                                ['Strength', 'Weakness'])\n",
        "gender_occupation_query = Query([male,female],\n",
        "                                [career],\n",
        "                                ['Male words','Female Words'],\n",
        "                                ['Strength'])"
      ],
      "execution_count": null,
      "outputs": []
    },
    {
      "cell_type": "code",
      "metadata": {
        "id": "1Wwa8iPMCo_f",
        "colab": {
          "base_uri": "https://localhost:8080/"
        },
        "outputId": "69cd0592-cc45-4cbb-ada4-40990110214d"
      },
      "source": [
        "from wefe.utils import run_queries\n",
        "from wefe import WordEmbeddingModel, Query, WEAT, RNSB, RND, ECT\n",
        "import gensim.downloader as api\n",
        "\n",
        "weat = RND()\n",
        "results = weat.run_query(gender_occupation_query, english_512)\n",
        "\n",
        "print(results)"
      ],
      "execution_count": null,
      "outputs": [
        {
          "output_type": "stream",
          "text": [
            "{'query_name': 'Male words and Female Words wrt Strength', 'result': -0.08838000653805735, 'results_by_word': {'job': -0.16777885570387907, 'money': -0.15899587526562486, 'executive': -0.14296608909050557, 'education': -0.11169331278965977, 'management': -0.11123015920107582, 'professional': -0.08892715337989632, 'corporation': -0.08061971770150711, 'industry': -0.07649500718232494, 'office': -0.07375591893899314, 'career': -0.06673139156903307, 'salary': -0.04507224675065791, 'business': -0.03329656741846643, 'college': 0.00862220999687846}}\n"
          ],
          "name": "stdout"
        }
      ]
    },
    {
      "cell_type": "code",
      "metadata": {
        "id": "OFkATFOiB7Yz"
      },
      "source": [
        "from wefe import WordEmbeddingModel, Query, WEAT, RND, RNSB, ECT\n",
        "from wefe.utils import run_queries\n",
        "import gensim.downloader as api\n",
        "\n",
        "word2vec_model = WordEmbeddingModel(api.load('word2vec-google-news-300'),\n",
        "                                    'word2vec-google-news-300')"
      ],
      "execution_count": null,
      "outputs": []
    },
    {
      "cell_type": "code",
      "metadata": {
        "colab": {
          "base_uri": "https://localhost:8080/"
        },
        "id": "exA-laLoCmX-",
        "outputId": "6519b9cd-973e-4bf3-e963-62d7c03cda10"
      },
      "source": [
        "gender_occupation_query = Query([male, female],\n",
        "                                [science, arts2],\n",
        "                                ['Male words', 'Female words'],\n",
        "                                ['Science', 'Arts'])\n",
        "mode = RND()\n",
        "results = weat.run_query(gender_occupation_query, word2vec_model)\n",
        "\n",
        "print(results)"
      ],
      "execution_count": null,
      "outputs": [
        {
          "output_type": "stream",
          "text": [
            "{'query_name': 'Male words and Female words wrt Science and Arts', 'result': 0.0020494144216242037, 'negative_sentiment_probabilities': {'male': 0.7430207873341068, 'man': 0.7283502566539763, 'boy': 0.7456651944653354, 'he': 0.6751529712983765, 'him': 0.6942539715379561, 'his': 0.7093114022660778, 'son': 0.6819924284987967, 'father': 0.6937961257329681, 'uncle': 0.7148216552978832, 'grandfather': 0.7224299002118241, 'husband': 0.7056498200474042, 'brother': 0.6429338220408914, 'nephew': 0.6921686199534526, 'sir': 0.6751356259753134, 'female': 0.7087304179653299, 'woman': 0.811016810526434, 'girl': 0.7703946702522808, 'she': 0.7325140269788394, 'her': 0.7551569163809249, 'hers': 0.6864893315010778, 'mother': 0.732132372880106, 'daughter': 0.665559166631462, 'aunt': 0.7391429989408114, 'grandmother': 0.7902814238812679, 'wife': 0.6971012349136948, 'sister': 0.6431322267828569, 'niece': 0.7137799434506462, 'madam': 0.8494062933758235}, 'negative_sentiment_distribution': {'male': 0.03693034286997699, 'man': 0.036201173865102146, 'boy': 0.03706177776885038, 'he': 0.033557110574513604, 'him': 0.034506487092683606, 'his': 0.0352548861805821, 'son': 0.03389705193788017, 'father': 0.03448373079454496, 'uncle': 0.03552876214372308, 'grandfather': 0.03590691454282178, 'husband': 0.03507289465478993, 'brother': 0.031955723036855316, 'nephew': 0.03440283891711038, 'sir': 0.03355624846037248, 'female': 0.035226009532991015, 'woman': 0.04030994744241058, 'girl': 0.038290906260777795, 'she': 0.03640812563327641, 'her': 0.03753354457638059, 'hers': 0.03412056139085674, 'mother': 0.03638915628953231, 'daughter': 0.033080269950649034, 'aunt': 0.03673760525431023, 'grandmother': 0.03927933705922733, 'wife': 0.034648004550202435, 'sister': 0.03196558434258554, 'niece': 0.03547698596687047, 'madam': 0.0422180189101225}}\n"
          ],
          "name": "stdout"
        }
      ]
    },
    {
      "cell_type": "markdown",
      "metadata": {
        "id": "PrxlPLPN20qZ"
      },
      "source": [
        "**Testing was done beyond this point**"
      ]
    },
    {
      "cell_type": "code",
      "metadata": {
        "id": "G1cM0yqcfEZM"
      },
      "source": [
        "from wefe.utils import run_queries\n",
        "from wefe.datasets import load_weat\n",
        "\n",
        "# Load the sets used in the weat case study\n",
        "gender_career_family_query = Query(\n",
        "    [male, female],\n",
        "    [career, family],\n",
        "    ['Male words', 'Female words'],\n",
        "    ['Career', 'Family'])\n",
        "\n",
        "gender_int_app_query = Query(\n",
        "    [male, female],\n",
        "    [intelligence, appearance],\n",
        "    ['Male words', 'Female words'],\n",
        "    ['Intelligence', 'Appearance'])\n",
        "\n",
        "gender_math_arts_query = Query(\n",
        "    [male, female],\n",
        "    [math, arts1],\n",
        "    ['Male words', 'Female words'],\n",
        "    ['Math', 'Arts'])\n",
        "\n",
        "gender_science_arts_query = Query(\n",
        "    [male, female],\n",
        "    [science, arts2],\n",
        "    ['Male words', 'Female words'],\n",
        "    ['Science', 'Arts'])\n",
        "\n",
        "gender_stren_weak_query = Query(\n",
        "    [male, female],\n",
        "    [strength, weakness],\n",
        "    ['Male words', 'Female words'],\n",
        "    ['Strength', 'Weakness'])"
      ],
      "execution_count": null,
      "outputs": []
    },
    {
      "cell_type": "code",
      "metadata": {
        "id": "gEoHWRO1gZSi"
      },
      "source": [
        "queries = [\n",
        "    gender_career_family_query,\n",
        "    gender_int_app_query,\n",
        "    gender_stren_weak_query,\n",
        "    gender_science_arts_query,\n",
        "    gender_math_arts_query\n",
        "]"
      ],
      "execution_count": null,
      "outputs": []
    },
    {
      "cell_type": "code",
      "metadata": {
        "colab": {
          "base_uri": "https://localhost:8080/",
          "height": 186
        },
        "id": "BJmuZzqP0gJa",
        "outputId": "a0543224-fa10-46f3-c98d-4504cb6a23a5"
      },
      "source": [
        "from wefe.utils import plot_queries_results\n",
        "\n",
        "weat_results = run_queries(WEAT, queries, [english_512, word2vec_model])\n",
        "weat_results"
      ],
      "execution_count": null,
      "outputs": [
        {
          "output_type": "execute_result",
          "data": {
            "text/html": [
              "<div>\n",
              "<style scoped>\n",
              "    .dataframe tbody tr th:only-of-type {\n",
              "        vertical-align: middle;\n",
              "    }\n",
              "\n",
              "    .dataframe tbody tr th {\n",
              "        vertical-align: top;\n",
              "    }\n",
              "\n",
              "    .dataframe thead th {\n",
              "        text-align: right;\n",
              "    }\n",
              "</style>\n",
              "<table border=\"1\" class=\"dataframe\">\n",
              "  <thead>\n",
              "    <tr style=\"text-align: right;\">\n",
              "      <th>query_name</th>\n",
              "      <th>Male words and Female words wrt Career and Family</th>\n",
              "      <th>Male words and Female words wrt Intelligence and Appearance</th>\n",
              "      <th>Male words and Female words wrt Strength and Weakness</th>\n",
              "      <th>Male words and Female words wrt Science and Arts</th>\n",
              "      <th>Male words and Female words wrt Math and Arts</th>\n",
              "    </tr>\n",
              "    <tr>\n",
              "      <th>model_name</th>\n",
              "      <th></th>\n",
              "      <th></th>\n",
              "      <th></th>\n",
              "      <th></th>\n",
              "      <th></th>\n",
              "    </tr>\n",
              "  </thead>\n",
              "  <tbody>\n",
              "    <tr>\n",
              "      <th>english-512</th>\n",
              "      <td>0.719703</td>\n",
              "      <td>0.262086</td>\n",
              "      <td>0.486364</td>\n",
              "      <td>0.058027</td>\n",
              "      <td>0.106466</td>\n",
              "    </tr>\n",
              "    <tr>\n",
              "      <th>word2vec-google-news-300</th>\n",
              "      <td>0.830547</td>\n",
              "      <td>0.790591</td>\n",
              "      <td>0.414192</td>\n",
              "      <td>0.521449</td>\n",
              "      <td>0.634229</td>\n",
              "    </tr>\n",
              "  </tbody>\n",
              "</table>\n",
              "</div>"
            ],
            "text/plain": [
              "query_name                Male words and Female words wrt Career and Family  ...  Male words and Female words wrt Math and Arts\n",
              "model_name                                                                   ...                                               \n",
              "english-512                                                        0.719703  ...                                       0.106466\n",
              "word2vec-google-news-300                                           0.830547  ...                                       0.634229\n",
              "\n",
              "[2 rows x 5 columns]"
            ]
          },
          "metadata": {
            "tags": []
          },
          "execution_count": 38
        }
      ]
    },
    {
      "cell_type": "code",
      "metadata": {
        "colab": {
          "base_uri": "https://localhost:8080/",
          "height": 542
        },
        "id": "oeIqq5DI0ncn",
        "outputId": "d9b34465-5dbb-4543-dbc2-dc6688db941c"
      },
      "source": [
        "from wefe.utils import plot_queries_results\n",
        "plot_queries_results(weat_results)"
      ],
      "execution_count": null,
      "outputs": [
        {
          "output_type": "display_data",
          "data": {
            "text/html": [
              "<html>\n",
              "<head><meta charset=\"utf-8\" /></head>\n",
              "<body>\n",
              "    <div>\n",
              "            <script src=\"https://cdnjs.cloudflare.com/ajax/libs/mathjax/2.7.5/MathJax.js?config=TeX-AMS-MML_SVG\"></script><script type=\"text/javascript\">if (window.MathJax) {MathJax.Hub.Config({SVG: {font: \"STIX-Web\"}});}</script>\n",
              "                <script type=\"text/javascript\">window.PlotlyConfig = {MathJaxConfig: 'local'};</script>\n",
              "        <script src=\"https://cdn.plot.ly/plotly-latest.min.js\"></script>    \n",
              "            <div id=\"a6c7c125-0a22-4748-bc85-ecc5f5a929a3\" class=\"plotly-graph-div\" style=\"height:525px; width:100%;\"></div>\n",
              "            <script type=\"text/javascript\">\n",
              "                \n",
              "                    window.PLOTLYENV=window.PLOTLYENV || {};\n",
              "                    \n",
              "                if (document.getElementById(\"a6c7c125-0a22-4748-bc85-ecc5f5a929a3\")) {\n",
              "                    Plotly.newPlot(\n",
              "                        'a6c7c125-0a22-4748-bc85-ecc5f5a929a3',\n",
              "                        [{\"alignmentgroup\": \"True\", \"hoverlabel\": {\"namelength\": 0}, \"hovertemplate\": \"Word Embedding Model=english-512<br>query_name=%{x}<br>value=%{y}\", \"legendgroup\": \"Word Embedding Model=english-512\", \"marker\": {\"color\": \"#636efa\"}, \"name\": \"Word Embedding Model=english-512\", \"offsetgroup\": \"Word Embedding Model=english-512\", \"orientation\": \"v\", \"showlegend\": true, \"textposition\": \"auto\", \"type\": \"bar\", \"x\": [\"Male words and Female words wrt<br> Career and Family\", \"Male words and Female words wrt<br> Intelligence and Appearance\", \"Male words and Female words wrt<br> Strength and Weakness\", \"Male words and Female words wrt<br> Science and Arts\", \"Male words and Female words wrt<br> Math and Arts\"], \"xaxis\": \"x\", \"y\": [0.7197034843584212, 0.2620863208433647, 0.48636447902311897, 0.05802674887345463, 0.10646618248313955], \"yaxis\": \"y\"}, {\"alignmentgroup\": \"True\", \"hoverlabel\": {\"namelength\": 0}, \"hovertemplate\": \"Word Embedding Model=word2vec-google-news-300<br>query_name=%{x}<br>value=%{y}\", \"legendgroup\": \"Word Embedding Model=word2vec-google-news-300\", \"marker\": {\"color\": \"#EF553B\"}, \"name\": \"Word Embedding Model=word2vec-google-news-300\", \"offsetgroup\": \"Word Embedding Model=word2vec-google-news-300\", \"orientation\": \"v\", \"showlegend\": true, \"textposition\": \"auto\", \"type\": \"bar\", \"x\": [\"Male words and Female words wrt<br> Career and Family\", \"Male words and Female words wrt<br> Intelligence and Appearance\", \"Male words and Female words wrt<br> Strength and Weakness\", \"Male words and Female words wrt<br> Science and Arts\", \"Male words and Female words wrt<br> Math and Arts\"], \"xaxis\": \"x\", \"y\": [0.8305470943450928, 0.7905905246734619, 0.414191871881485, 0.5214489698410034, 0.6342291831970215], \"yaxis\": \"y\"}],\n",
              "                        {\"barmode\": \"group\", \"legend\": {\"tracegroupgap\": 0}, \"margin\": {\"t\": 60}, \"template\": {\"data\": {\"bar\": [{\"error_x\": {\"color\": \"#2a3f5f\"}, \"error_y\": {\"color\": \"#2a3f5f\"}, \"marker\": {\"line\": {\"color\": \"#E5ECF6\", \"width\": 0.5}}, \"type\": \"bar\"}], \"barpolar\": [{\"marker\": {\"line\": {\"color\": \"#E5ECF6\", \"width\": 0.5}}, \"type\": \"barpolar\"}], \"carpet\": [{\"aaxis\": {\"endlinecolor\": \"#2a3f5f\", \"gridcolor\": \"white\", \"linecolor\": \"white\", \"minorgridcolor\": \"white\", \"startlinecolor\": \"#2a3f5f\"}, \"baxis\": {\"endlinecolor\": \"#2a3f5f\", \"gridcolor\": \"white\", \"linecolor\": \"white\", \"minorgridcolor\": \"white\", \"startlinecolor\": \"#2a3f5f\"}, \"type\": \"carpet\"}], \"choropleth\": [{\"colorbar\": {\"outlinewidth\": 0, \"ticks\": \"\"}, \"type\": \"choropleth\"}], \"contour\": [{\"colorbar\": {\"outlinewidth\": 0, \"ticks\": \"\"}, \"colorscale\": [[0.0, \"#0d0887\"], [0.1111111111111111, \"#46039f\"], [0.2222222222222222, \"#7201a8\"], [0.3333333333333333, \"#9c179e\"], [0.4444444444444444, \"#bd3786\"], [0.5555555555555556, \"#d8576b\"], [0.6666666666666666, \"#ed7953\"], [0.7777777777777778, \"#fb9f3a\"], [0.8888888888888888, \"#fdca26\"], [1.0, \"#f0f921\"]], \"type\": \"contour\"}], \"contourcarpet\": [{\"colorbar\": {\"outlinewidth\": 0, \"ticks\": \"\"}, \"type\": \"contourcarpet\"}], \"heatmap\": [{\"colorbar\": {\"outlinewidth\": 0, \"ticks\": \"\"}, \"colorscale\": [[0.0, \"#0d0887\"], [0.1111111111111111, \"#46039f\"], [0.2222222222222222, \"#7201a8\"], [0.3333333333333333, \"#9c179e\"], [0.4444444444444444, \"#bd3786\"], [0.5555555555555556, \"#d8576b\"], [0.6666666666666666, \"#ed7953\"], [0.7777777777777778, \"#fb9f3a\"], [0.8888888888888888, \"#fdca26\"], [1.0, \"#f0f921\"]], \"type\": \"heatmap\"}], \"heatmapgl\": [{\"colorbar\": {\"outlinewidth\": 0, \"ticks\": \"\"}, \"colorscale\": [[0.0, \"#0d0887\"], [0.1111111111111111, \"#46039f\"], [0.2222222222222222, \"#7201a8\"], [0.3333333333333333, \"#9c179e\"], [0.4444444444444444, \"#bd3786\"], [0.5555555555555556, \"#d8576b\"], [0.6666666666666666, \"#ed7953\"], [0.7777777777777778, \"#fb9f3a\"], [0.8888888888888888, \"#fdca26\"], [1.0, \"#f0f921\"]], \"type\": \"heatmapgl\"}], \"histogram\": [{\"marker\": {\"colorbar\": {\"outlinewidth\": 0, \"ticks\": \"\"}}, \"type\": \"histogram\"}], \"histogram2d\": [{\"colorbar\": {\"outlinewidth\": 0, \"ticks\": \"\"}, \"colorscale\": [[0.0, \"#0d0887\"], [0.1111111111111111, \"#46039f\"], [0.2222222222222222, \"#7201a8\"], [0.3333333333333333, \"#9c179e\"], [0.4444444444444444, \"#bd3786\"], [0.5555555555555556, \"#d8576b\"], [0.6666666666666666, \"#ed7953\"], [0.7777777777777778, \"#fb9f3a\"], [0.8888888888888888, \"#fdca26\"], [1.0, \"#f0f921\"]], \"type\": \"histogram2d\"}], \"histogram2dcontour\": [{\"colorbar\": {\"outlinewidth\": 0, \"ticks\": \"\"}, \"colorscale\": [[0.0, \"#0d0887\"], [0.1111111111111111, \"#46039f\"], [0.2222222222222222, \"#7201a8\"], [0.3333333333333333, \"#9c179e\"], [0.4444444444444444, \"#bd3786\"], [0.5555555555555556, \"#d8576b\"], [0.6666666666666666, \"#ed7953\"], [0.7777777777777778, \"#fb9f3a\"], [0.8888888888888888, \"#fdca26\"], [1.0, \"#f0f921\"]], \"type\": \"histogram2dcontour\"}], \"mesh3d\": [{\"colorbar\": {\"outlinewidth\": 0, \"ticks\": \"\"}, \"type\": \"mesh3d\"}], \"parcoords\": [{\"line\": {\"colorbar\": {\"outlinewidth\": 0, \"ticks\": \"\"}}, \"type\": \"parcoords\"}], \"pie\": [{\"automargin\": true, \"type\": \"pie\"}], \"scatter\": [{\"marker\": {\"colorbar\": {\"outlinewidth\": 0, \"ticks\": \"\"}}, \"type\": \"scatter\"}], \"scatter3d\": [{\"line\": {\"colorbar\": {\"outlinewidth\": 0, \"ticks\": \"\"}}, \"marker\": {\"colorbar\": {\"outlinewidth\": 0, \"ticks\": \"\"}}, \"type\": \"scatter3d\"}], \"scattercarpet\": [{\"marker\": {\"colorbar\": {\"outlinewidth\": 0, \"ticks\": \"\"}}, \"type\": \"scattercarpet\"}], \"scattergeo\": [{\"marker\": {\"colorbar\": {\"outlinewidth\": 0, \"ticks\": \"\"}}, \"type\": \"scattergeo\"}], \"scattergl\": [{\"marker\": {\"colorbar\": {\"outlinewidth\": 0, \"ticks\": \"\"}}, \"type\": \"scattergl\"}], \"scattermapbox\": [{\"marker\": {\"colorbar\": {\"outlinewidth\": 0, \"ticks\": \"\"}}, \"type\": \"scattermapbox\"}], \"scatterpolar\": [{\"marker\": {\"colorbar\": {\"outlinewidth\": 0, \"ticks\": \"\"}}, \"type\": \"scatterpolar\"}], \"scatterpolargl\": [{\"marker\": {\"colorbar\": {\"outlinewidth\": 0, \"ticks\": \"\"}}, \"type\": \"scatterpolargl\"}], \"scatterternary\": [{\"marker\": {\"colorbar\": {\"outlinewidth\": 0, \"ticks\": \"\"}}, \"type\": \"scatterternary\"}], \"surface\": [{\"colorbar\": {\"outlinewidth\": 0, \"ticks\": \"\"}, \"colorscale\": [[0.0, \"#0d0887\"], [0.1111111111111111, \"#46039f\"], [0.2222222222222222, \"#7201a8\"], [0.3333333333333333, \"#9c179e\"], [0.4444444444444444, \"#bd3786\"], [0.5555555555555556, \"#d8576b\"], [0.6666666666666666, \"#ed7953\"], [0.7777777777777778, \"#fb9f3a\"], [0.8888888888888888, \"#fdca26\"], [1.0, \"#f0f921\"]], \"type\": \"surface\"}], \"table\": [{\"cells\": {\"fill\": {\"color\": \"#EBF0F8\"}, \"line\": {\"color\": \"white\"}}, \"header\": {\"fill\": {\"color\": \"#C8D4E3\"}, \"line\": {\"color\": \"white\"}}, \"type\": \"table\"}]}, \"layout\": {\"annotationdefaults\": {\"arrowcolor\": \"#2a3f5f\", \"arrowhead\": 0, \"arrowwidth\": 1}, \"coloraxis\": {\"colorbar\": {\"outlinewidth\": 0, \"ticks\": \"\"}}, \"colorscale\": {\"diverging\": [[0, \"#8e0152\"], [0.1, \"#c51b7d\"], [0.2, \"#de77ae\"], [0.3, \"#f1b6da\"], [0.4, \"#fde0ef\"], [0.5, \"#f7f7f7\"], [0.6, \"#e6f5d0\"], [0.7, \"#b8e186\"], [0.8, \"#7fbc41\"], [0.9, \"#4d9221\"], [1, \"#276419\"]], \"sequential\": [[0.0, \"#0d0887\"], [0.1111111111111111, \"#46039f\"], [0.2222222222222222, \"#7201a8\"], [0.3333333333333333, \"#9c179e\"], [0.4444444444444444, \"#bd3786\"], [0.5555555555555556, \"#d8576b\"], [0.6666666666666666, \"#ed7953\"], [0.7777777777777778, \"#fb9f3a\"], [0.8888888888888888, \"#fdca26\"], [1.0, \"#f0f921\"]], \"sequentialminus\": [[0.0, \"#0d0887\"], [0.1111111111111111, \"#46039f\"], [0.2222222222222222, \"#7201a8\"], [0.3333333333333333, \"#9c179e\"], [0.4444444444444444, \"#bd3786\"], [0.5555555555555556, \"#d8576b\"], [0.6666666666666666, \"#ed7953\"], [0.7777777777777778, \"#fb9f3a\"], [0.8888888888888888, \"#fdca26\"], [1.0, \"#f0f921\"]]}, \"colorway\": [\"#636efa\", \"#EF553B\", \"#00cc96\", \"#ab63fa\", \"#FFA15A\", \"#19d3f3\", \"#FF6692\", \"#B6E880\", \"#FF97FF\", \"#FECB52\"], \"font\": {\"color\": \"#2a3f5f\"}, \"geo\": {\"bgcolor\": \"white\", \"lakecolor\": \"white\", \"landcolor\": \"#E5ECF6\", \"showlakes\": true, \"showland\": true, \"subunitcolor\": \"white\"}, \"hoverlabel\": {\"align\": \"left\"}, \"hovermode\": \"closest\", \"mapbox\": {\"style\": \"light\"}, \"paper_bgcolor\": \"white\", \"plot_bgcolor\": \"#E5ECF6\", \"polar\": {\"angularaxis\": {\"gridcolor\": \"white\", \"linecolor\": \"white\", \"ticks\": \"\"}, \"bgcolor\": \"#E5ECF6\", \"radialaxis\": {\"gridcolor\": \"white\", \"linecolor\": \"white\", \"ticks\": \"\"}}, \"scene\": {\"xaxis\": {\"backgroundcolor\": \"#E5ECF6\", \"gridcolor\": \"white\", \"gridwidth\": 2, \"linecolor\": \"white\", \"showbackground\": true, \"ticks\": \"\", \"zerolinecolor\": \"white\"}, \"yaxis\": {\"backgroundcolor\": \"#E5ECF6\", \"gridcolor\": \"white\", \"gridwidth\": 2, \"linecolor\": \"white\", \"showbackground\": true, \"ticks\": \"\", \"zerolinecolor\": \"white\"}, \"zaxis\": {\"backgroundcolor\": \"#E5ECF6\", \"gridcolor\": \"white\", \"gridwidth\": 2, \"linecolor\": \"white\", \"showbackground\": true, \"ticks\": \"\", \"zerolinecolor\": \"white\"}}, \"shapedefaults\": {\"line\": {\"color\": \"#2a3f5f\"}}, \"ternary\": {\"aaxis\": {\"gridcolor\": \"white\", \"linecolor\": \"white\", \"ticks\": \"\"}, \"baxis\": {\"gridcolor\": \"white\", \"linecolor\": \"white\", \"ticks\": \"\"}, \"bgcolor\": \"#E5ECF6\", \"caxis\": {\"gridcolor\": \"white\", \"linecolor\": \"white\", \"ticks\": \"\"}}, \"title\": {\"x\": 0.05}, \"xaxis\": {\"automargin\": true, \"gridcolor\": \"white\", \"linecolor\": \"white\", \"ticks\": \"\", \"title\": {\"standoff\": 15}, \"zerolinecolor\": \"white\", \"zerolinewidth\": 2}, \"yaxis\": {\"automargin\": true, \"gridcolor\": \"white\", \"linecolor\": \"white\", \"ticks\": \"\", \"title\": {\"standoff\": 15}, \"zerolinecolor\": \"white\", \"zerolinewidth\": 2}}}, \"xaxis\": {\"anchor\": \"y\", \"domain\": [0.0, 1.0], \"title\": {\"text\": \"Query\"}}, \"yaxis\": {\"anchor\": \"x\", \"domain\": [0.0, 1.0], \"title\": {\"text\": \"Bias measure\"}}},\n",
              "                        {\"responsive\": true}\n",
              "                    ).then(function(){\n",
              "                            \n",
              "var gd = document.getElementById('a6c7c125-0a22-4748-bc85-ecc5f5a929a3');\n",
              "var x = new MutationObserver(function (mutations, observer) {{\n",
              "        var display = window.getComputedStyle(gd).display;\n",
              "        if (!display || display === 'none') {{\n",
              "            console.log([gd, 'removed!']);\n",
              "            Plotly.purge(gd);\n",
              "            observer.disconnect();\n",
              "        }}\n",
              "}});\n",
              "\n",
              "// Listen for the removal of the full notebook cells\n",
              "var notebookContainer = gd.closest('#notebook-container');\n",
              "if (notebookContainer) {{\n",
              "    x.observe(notebookContainer, {childList: true});\n",
              "}}\n",
              "\n",
              "// Listen for the clearing of the current output cell\n",
              "var outputEl = gd.closest('.output');\n",
              "if (outputEl) {{\n",
              "    x.observe(outputEl, {childList: true});\n",
              "}}\n",
              "\n",
              "                        })\n",
              "                };\n",
              "                \n",
              "            </script>\n",
              "        </div>\n",
              "</body>\n",
              "</html>"
            ]
          },
          "metadata": {
            "tags": []
          }
        }
      ]
    },
    {
      "cell_type": "code",
      "metadata": {
        "colab": {
          "base_uri": "https://localhost:8080/",
          "height": 136
        },
        "id": "6cczewO-1fIj",
        "outputId": "212dad5f-6201-4c45-d0d7-390f9672d5ab"
      },
      "source": [
        "weat_results = run_queries(WEAT,\n",
        "                        queries,\n",
        "                        [english_512, word2vec_model],\n",
        "                        aggregate_results=True,\n",
        "                        return_only_aggregation=True,\n",
        "                        queries_set_name='Gender bias')\n",
        "weat_results"
      ],
      "execution_count": null,
      "outputs": [
        {
          "output_type": "execute_result",
          "data": {
            "text/html": [
              "<div>\n",
              "<style scoped>\n",
              "    .dataframe tbody tr th:only-of-type {\n",
              "        vertical-align: middle;\n",
              "    }\n",
              "\n",
              "    .dataframe tbody tr th {\n",
              "        vertical-align: top;\n",
              "    }\n",
              "\n",
              "    .dataframe thead th {\n",
              "        text-align: right;\n",
              "    }\n",
              "</style>\n",
              "<table border=\"1\" class=\"dataframe\">\n",
              "  <thead>\n",
              "    <tr style=\"text-align: right;\">\n",
              "      <th></th>\n",
              "      <th>WEAT: Gender bias average of abs values score</th>\n",
              "    </tr>\n",
              "    <tr>\n",
              "      <th>model_name</th>\n",
              "      <th></th>\n",
              "    </tr>\n",
              "  </thead>\n",
              "  <tbody>\n",
              "    <tr>\n",
              "      <th>english-512</th>\n",
              "      <td>0.326529</td>\n",
              "    </tr>\n",
              "    <tr>\n",
              "      <th>word2vec-google-news-300</th>\n",
              "      <td>0.638202</td>\n",
              "    </tr>\n",
              "  </tbody>\n",
              "</table>\n",
              "</div>"
            ],
            "text/plain": [
              "                          WEAT: Gender bias average of abs values score\n",
              "model_name                                                             \n",
              "english-512                                                    0.326529\n",
              "word2vec-google-news-300                                       0.638202"
            ]
          },
          "metadata": {
            "tags": []
          },
          "execution_count": 40
        }
      ]
    },
    {
      "cell_type": "code",
      "metadata": {
        "id": "5OaRXr5vgZ4n",
        "colab": {
          "base_uri": "https://localhost:8080/",
          "height": 186
        },
        "outputId": "387cab42-75dc-4abe-e741-f12cc1f4f318"
      },
      "source": [
        "rnsb_results = run_queries(RNSB, queries, [english_512, word2vec_model])\n",
        "rnsb_results"
      ],
      "execution_count": null,
      "outputs": [
        {
          "output_type": "execute_result",
          "data": {
            "text/html": [
              "<div>\n",
              "<style scoped>\n",
              "    .dataframe tbody tr th:only-of-type {\n",
              "        vertical-align: middle;\n",
              "    }\n",
              "\n",
              "    .dataframe tbody tr th {\n",
              "        vertical-align: top;\n",
              "    }\n",
              "\n",
              "    .dataframe thead th {\n",
              "        text-align: right;\n",
              "    }\n",
              "</style>\n",
              "<table border=\"1\" class=\"dataframe\">\n",
              "  <thead>\n",
              "    <tr style=\"text-align: right;\">\n",
              "      <th>query_name</th>\n",
              "      <th>Male words and Female words wrt Career and Family</th>\n",
              "      <th>Male words and Female words wrt Intelligence and Appearance</th>\n",
              "      <th>Male words and Female words wrt Strength and Weakness</th>\n",
              "      <th>Male words and Female words wrt Science and Arts</th>\n",
              "      <th>Male words and Female words wrt Math and Arts</th>\n",
              "    </tr>\n",
              "    <tr>\n",
              "      <th>model_name</th>\n",
              "      <th></th>\n",
              "      <th></th>\n",
              "      <th></th>\n",
              "      <th></th>\n",
              "      <th></th>\n",
              "    </tr>\n",
              "  </thead>\n",
              "  <tbody>\n",
              "    <tr>\n",
              "      <th>english-512</th>\n",
              "      <td>0.039790</td>\n",
              "      <td>0.045948</td>\n",
              "      <td>0.048979</td>\n",
              "      <td>0.016830</td>\n",
              "      <td>0.017338</td>\n",
              "    </tr>\n",
              "    <tr>\n",
              "      <th>word2vec-google-news-300</th>\n",
              "      <td>0.051375</td>\n",
              "      <td>0.032985</td>\n",
              "      <td>0.020377</td>\n",
              "      <td>0.004595</td>\n",
              "      <td>0.024692</td>\n",
              "    </tr>\n",
              "  </tbody>\n",
              "</table>\n",
              "</div>"
            ],
            "text/plain": [
              "query_name                Male words and Female words wrt Career and Family  ...  Male words and Female words wrt Math and Arts\n",
              "model_name                                                                   ...                                               \n",
              "english-512                                                        0.039790  ...                                       0.017338\n",
              "word2vec-google-news-300                                           0.051375  ...                                       0.024692\n",
              "\n",
              "[2 rows x 5 columns]"
            ]
          },
          "metadata": {
            "tags": []
          },
          "execution_count": 77
        }
      ]
    },
    {
      "cell_type": "code",
      "metadata": {
        "colab": {
          "base_uri": "https://localhost:8080/",
          "height": 542
        },
        "id": "W4x8jOKrgl2j",
        "outputId": "35fe0168-f208-4356-8f5b-083cb2e3cd95"
      },
      "source": [
        "plot_queries_results(rnsb_results)"
      ],
      "execution_count": null,
      "outputs": [
        {
          "output_type": "display_data",
          "data": {
            "text/html": [
              "<html>\n",
              "<head><meta charset=\"utf-8\" /></head>\n",
              "<body>\n",
              "    <div>\n",
              "            <script src=\"https://cdnjs.cloudflare.com/ajax/libs/mathjax/2.7.5/MathJax.js?config=TeX-AMS-MML_SVG\"></script><script type=\"text/javascript\">if (window.MathJax) {MathJax.Hub.Config({SVG: {font: \"STIX-Web\"}});}</script>\n",
              "                <script type=\"text/javascript\">window.PlotlyConfig = {MathJaxConfig: 'local'};</script>\n",
              "        <script src=\"https://cdn.plot.ly/plotly-latest.min.js\"></script>    \n",
              "            <div id=\"04a7c3e3-0544-4868-98d9-f326baae1fec\" class=\"plotly-graph-div\" style=\"height:525px; width:100%;\"></div>\n",
              "            <script type=\"text/javascript\">\n",
              "                \n",
              "                    window.PLOTLYENV=window.PLOTLYENV || {};\n",
              "                    \n",
              "                if (document.getElementById(\"04a7c3e3-0544-4868-98d9-f326baae1fec\")) {\n",
              "                    Plotly.newPlot(\n",
              "                        '04a7c3e3-0544-4868-98d9-f326baae1fec',\n",
              "                        [{\"alignmentgroup\": \"True\", \"hoverlabel\": {\"namelength\": 0}, \"hovertemplate\": \"Word Embedding Model=english-512<br>query_name=%{x}<br>value=%{y}\", \"legendgroup\": \"Word Embedding Model=english-512\", \"marker\": {\"color\": \"#636efa\"}, \"name\": \"Word Embedding Model=english-512\", \"offsetgroup\": \"Word Embedding Model=english-512\", \"orientation\": \"v\", \"showlegend\": true, \"textposition\": \"auto\", \"type\": \"bar\", \"x\": [\"Male words and Female words wrt<br> Career and Family\", \"Male words and Female words wrt<br> Intelligence and Appearance\", \"Male words and Female words wrt<br> Strength and Weakness\", \"Male words and Female words wrt<br> Science and Arts\", \"Male words and Female words wrt<br> Math and Arts\"], \"xaxis\": \"x\", \"y\": [0.03978969302870723, 0.04594796567766807, 0.048979485800926426, 0.016830357810808487, 0.017338439166776663], \"yaxis\": \"y\"}, {\"alignmentgroup\": \"True\", \"hoverlabel\": {\"namelength\": 0}, \"hovertemplate\": \"Word Embedding Model=word2vec-google-news-300<br>query_name=%{x}<br>value=%{y}\", \"legendgroup\": \"Word Embedding Model=word2vec-google-news-300\", \"marker\": {\"color\": \"#EF553B\"}, \"name\": \"Word Embedding Model=word2vec-google-news-300\", \"offsetgroup\": \"Word Embedding Model=word2vec-google-news-300\", \"orientation\": \"v\", \"showlegend\": true, \"textposition\": \"auto\", \"type\": \"bar\", \"x\": [\"Male words and Female words wrt<br> Career and Family\", \"Male words and Female words wrt<br> Intelligence and Appearance\", \"Male words and Female words wrt<br> Strength and Weakness\", \"Male words and Female words wrt<br> Science and Arts\", \"Male words and Female words wrt<br> Math and Arts\"], \"xaxis\": \"x\", \"y\": [0.051375496905669636, 0.032985087671858454, 0.020377383259410468, 0.004595015794429952, 0.024692318197408004], \"yaxis\": \"y\"}],\n",
              "                        {\"barmode\": \"group\", \"legend\": {\"tracegroupgap\": 0}, \"margin\": {\"t\": 60}, \"template\": {\"data\": {\"bar\": [{\"error_x\": {\"color\": \"#2a3f5f\"}, \"error_y\": {\"color\": \"#2a3f5f\"}, \"marker\": {\"line\": {\"color\": \"#E5ECF6\", \"width\": 0.5}}, \"type\": \"bar\"}], \"barpolar\": [{\"marker\": {\"line\": {\"color\": \"#E5ECF6\", \"width\": 0.5}}, \"type\": \"barpolar\"}], \"carpet\": [{\"aaxis\": {\"endlinecolor\": \"#2a3f5f\", \"gridcolor\": \"white\", \"linecolor\": \"white\", \"minorgridcolor\": \"white\", \"startlinecolor\": \"#2a3f5f\"}, \"baxis\": {\"endlinecolor\": \"#2a3f5f\", \"gridcolor\": \"white\", \"linecolor\": \"white\", \"minorgridcolor\": \"white\", \"startlinecolor\": \"#2a3f5f\"}, \"type\": \"carpet\"}], \"choropleth\": [{\"colorbar\": {\"outlinewidth\": 0, \"ticks\": \"\"}, \"type\": \"choropleth\"}], \"contour\": [{\"colorbar\": {\"outlinewidth\": 0, \"ticks\": \"\"}, \"colorscale\": [[0.0, \"#0d0887\"], [0.1111111111111111, \"#46039f\"], [0.2222222222222222, \"#7201a8\"], [0.3333333333333333, \"#9c179e\"], [0.4444444444444444, \"#bd3786\"], [0.5555555555555556, \"#d8576b\"], [0.6666666666666666, \"#ed7953\"], [0.7777777777777778, \"#fb9f3a\"], [0.8888888888888888, \"#fdca26\"], [1.0, \"#f0f921\"]], \"type\": \"contour\"}], \"contourcarpet\": [{\"colorbar\": {\"outlinewidth\": 0, \"ticks\": \"\"}, \"type\": \"contourcarpet\"}], \"heatmap\": [{\"colorbar\": {\"outlinewidth\": 0, \"ticks\": \"\"}, \"colorscale\": [[0.0, \"#0d0887\"], [0.1111111111111111, \"#46039f\"], [0.2222222222222222, \"#7201a8\"], [0.3333333333333333, \"#9c179e\"], [0.4444444444444444, \"#bd3786\"], [0.5555555555555556, \"#d8576b\"], [0.6666666666666666, \"#ed7953\"], [0.7777777777777778, \"#fb9f3a\"], [0.8888888888888888, \"#fdca26\"], [1.0, \"#f0f921\"]], \"type\": \"heatmap\"}], \"heatmapgl\": [{\"colorbar\": {\"outlinewidth\": 0, \"ticks\": \"\"}, \"colorscale\": [[0.0, \"#0d0887\"], [0.1111111111111111, \"#46039f\"], [0.2222222222222222, \"#7201a8\"], [0.3333333333333333, \"#9c179e\"], [0.4444444444444444, \"#bd3786\"], [0.5555555555555556, \"#d8576b\"], [0.6666666666666666, \"#ed7953\"], [0.7777777777777778, \"#fb9f3a\"], [0.8888888888888888, \"#fdca26\"], [1.0, \"#f0f921\"]], \"type\": \"heatmapgl\"}], \"histogram\": [{\"marker\": {\"colorbar\": {\"outlinewidth\": 0, \"ticks\": \"\"}}, \"type\": \"histogram\"}], \"histogram2d\": [{\"colorbar\": {\"outlinewidth\": 0, \"ticks\": \"\"}, \"colorscale\": [[0.0, \"#0d0887\"], [0.1111111111111111, \"#46039f\"], [0.2222222222222222, \"#7201a8\"], [0.3333333333333333, \"#9c179e\"], [0.4444444444444444, \"#bd3786\"], [0.5555555555555556, \"#d8576b\"], [0.6666666666666666, \"#ed7953\"], [0.7777777777777778, \"#fb9f3a\"], [0.8888888888888888, \"#fdca26\"], [1.0, \"#f0f921\"]], \"type\": \"histogram2d\"}], \"histogram2dcontour\": [{\"colorbar\": {\"outlinewidth\": 0, \"ticks\": \"\"}, \"colorscale\": [[0.0, \"#0d0887\"], [0.1111111111111111, \"#46039f\"], [0.2222222222222222, \"#7201a8\"], [0.3333333333333333, \"#9c179e\"], [0.4444444444444444, \"#bd3786\"], [0.5555555555555556, \"#d8576b\"], [0.6666666666666666, \"#ed7953\"], [0.7777777777777778, \"#fb9f3a\"], [0.8888888888888888, \"#fdca26\"], [1.0, \"#f0f921\"]], \"type\": \"histogram2dcontour\"}], \"mesh3d\": [{\"colorbar\": {\"outlinewidth\": 0, \"ticks\": \"\"}, \"type\": \"mesh3d\"}], \"parcoords\": [{\"line\": {\"colorbar\": {\"outlinewidth\": 0, \"ticks\": \"\"}}, \"type\": \"parcoords\"}], \"pie\": [{\"automargin\": true, \"type\": \"pie\"}], \"scatter\": [{\"marker\": {\"colorbar\": {\"outlinewidth\": 0, \"ticks\": \"\"}}, \"type\": \"scatter\"}], \"scatter3d\": [{\"line\": {\"colorbar\": {\"outlinewidth\": 0, \"ticks\": \"\"}}, \"marker\": {\"colorbar\": {\"outlinewidth\": 0, \"ticks\": \"\"}}, \"type\": \"scatter3d\"}], \"scattercarpet\": [{\"marker\": {\"colorbar\": {\"outlinewidth\": 0, \"ticks\": \"\"}}, \"type\": \"scattercarpet\"}], \"scattergeo\": [{\"marker\": {\"colorbar\": {\"outlinewidth\": 0, \"ticks\": \"\"}}, \"type\": \"scattergeo\"}], \"scattergl\": [{\"marker\": {\"colorbar\": {\"outlinewidth\": 0, \"ticks\": \"\"}}, \"type\": \"scattergl\"}], \"scattermapbox\": [{\"marker\": {\"colorbar\": {\"outlinewidth\": 0, \"ticks\": \"\"}}, \"type\": \"scattermapbox\"}], \"scatterpolar\": [{\"marker\": {\"colorbar\": {\"outlinewidth\": 0, \"ticks\": \"\"}}, \"type\": \"scatterpolar\"}], \"scatterpolargl\": [{\"marker\": {\"colorbar\": {\"outlinewidth\": 0, \"ticks\": \"\"}}, \"type\": \"scatterpolargl\"}], \"scatterternary\": [{\"marker\": {\"colorbar\": {\"outlinewidth\": 0, \"ticks\": \"\"}}, \"type\": \"scatterternary\"}], \"surface\": [{\"colorbar\": {\"outlinewidth\": 0, \"ticks\": \"\"}, \"colorscale\": [[0.0, \"#0d0887\"], [0.1111111111111111, \"#46039f\"], [0.2222222222222222, \"#7201a8\"], [0.3333333333333333, \"#9c179e\"], [0.4444444444444444, \"#bd3786\"], [0.5555555555555556, \"#d8576b\"], [0.6666666666666666, \"#ed7953\"], [0.7777777777777778, \"#fb9f3a\"], [0.8888888888888888, \"#fdca26\"], [1.0, \"#f0f921\"]], \"type\": \"surface\"}], \"table\": [{\"cells\": {\"fill\": {\"color\": \"#EBF0F8\"}, \"line\": {\"color\": \"white\"}}, \"header\": {\"fill\": {\"color\": \"#C8D4E3\"}, \"line\": {\"color\": \"white\"}}, \"type\": \"table\"}]}, \"layout\": {\"annotationdefaults\": {\"arrowcolor\": \"#2a3f5f\", \"arrowhead\": 0, \"arrowwidth\": 1}, \"coloraxis\": {\"colorbar\": {\"outlinewidth\": 0, \"ticks\": \"\"}}, \"colorscale\": {\"diverging\": [[0, \"#8e0152\"], [0.1, \"#c51b7d\"], [0.2, \"#de77ae\"], [0.3, \"#f1b6da\"], [0.4, \"#fde0ef\"], [0.5, \"#f7f7f7\"], [0.6, \"#e6f5d0\"], [0.7, \"#b8e186\"], [0.8, \"#7fbc41\"], [0.9, \"#4d9221\"], [1, \"#276419\"]], \"sequential\": [[0.0, \"#0d0887\"], [0.1111111111111111, \"#46039f\"], [0.2222222222222222, \"#7201a8\"], [0.3333333333333333, \"#9c179e\"], [0.4444444444444444, \"#bd3786\"], [0.5555555555555556, \"#d8576b\"], [0.6666666666666666, \"#ed7953\"], [0.7777777777777778, \"#fb9f3a\"], [0.8888888888888888, \"#fdca26\"], [1.0, \"#f0f921\"]], \"sequentialminus\": [[0.0, \"#0d0887\"], [0.1111111111111111, \"#46039f\"], [0.2222222222222222, \"#7201a8\"], [0.3333333333333333, \"#9c179e\"], [0.4444444444444444, \"#bd3786\"], [0.5555555555555556, \"#d8576b\"], [0.6666666666666666, \"#ed7953\"], [0.7777777777777778, \"#fb9f3a\"], [0.8888888888888888, \"#fdca26\"], [1.0, \"#f0f921\"]]}, \"colorway\": [\"#636efa\", \"#EF553B\", \"#00cc96\", \"#ab63fa\", \"#FFA15A\", \"#19d3f3\", \"#FF6692\", \"#B6E880\", \"#FF97FF\", \"#FECB52\"], \"font\": {\"color\": \"#2a3f5f\"}, \"geo\": {\"bgcolor\": \"white\", \"lakecolor\": \"white\", \"landcolor\": \"#E5ECF6\", \"showlakes\": true, \"showland\": true, \"subunitcolor\": \"white\"}, \"hoverlabel\": {\"align\": \"left\"}, \"hovermode\": \"closest\", \"mapbox\": {\"style\": \"light\"}, \"paper_bgcolor\": \"white\", \"plot_bgcolor\": \"#E5ECF6\", \"polar\": {\"angularaxis\": {\"gridcolor\": \"white\", \"linecolor\": \"white\", \"ticks\": \"\"}, \"bgcolor\": \"#E5ECF6\", \"radialaxis\": {\"gridcolor\": \"white\", \"linecolor\": \"white\", \"ticks\": \"\"}}, \"scene\": {\"xaxis\": {\"backgroundcolor\": \"#E5ECF6\", \"gridcolor\": \"white\", \"gridwidth\": 2, \"linecolor\": \"white\", \"showbackground\": true, \"ticks\": \"\", \"zerolinecolor\": \"white\"}, \"yaxis\": {\"backgroundcolor\": \"#E5ECF6\", \"gridcolor\": \"white\", \"gridwidth\": 2, \"linecolor\": \"white\", \"showbackground\": true, \"ticks\": \"\", \"zerolinecolor\": \"white\"}, \"zaxis\": {\"backgroundcolor\": \"#E5ECF6\", \"gridcolor\": \"white\", \"gridwidth\": 2, \"linecolor\": \"white\", \"showbackground\": true, \"ticks\": \"\", \"zerolinecolor\": \"white\"}}, \"shapedefaults\": {\"line\": {\"color\": \"#2a3f5f\"}}, \"ternary\": {\"aaxis\": {\"gridcolor\": \"white\", \"linecolor\": \"white\", \"ticks\": \"\"}, \"baxis\": {\"gridcolor\": \"white\", \"linecolor\": \"white\", \"ticks\": \"\"}, \"bgcolor\": \"#E5ECF6\", \"caxis\": {\"gridcolor\": \"white\", \"linecolor\": \"white\", \"ticks\": \"\"}}, \"title\": {\"x\": 0.05}, \"xaxis\": {\"automargin\": true, \"gridcolor\": \"white\", \"linecolor\": \"white\", \"ticks\": \"\", \"title\": {\"standoff\": 15}, \"zerolinecolor\": \"white\", \"zerolinewidth\": 2}, \"yaxis\": {\"automargin\": true, \"gridcolor\": \"white\", \"linecolor\": \"white\", \"ticks\": \"\", \"title\": {\"standoff\": 15}, \"zerolinecolor\": \"white\", \"zerolinewidth\": 2}}}, \"xaxis\": {\"anchor\": \"y\", \"domain\": [0.0, 1.0], \"title\": {\"text\": \"Query\"}}, \"yaxis\": {\"anchor\": \"x\", \"domain\": [0.0, 1.0], \"title\": {\"text\": \"Bias measure\"}}},\n",
              "                        {\"responsive\": true}\n",
              "                    ).then(function(){\n",
              "                            \n",
              "var gd = document.getElementById('04a7c3e3-0544-4868-98d9-f326baae1fec');\n",
              "var x = new MutationObserver(function (mutations, observer) {{\n",
              "        var display = window.getComputedStyle(gd).display;\n",
              "        if (!display || display === 'none') {{\n",
              "            console.log([gd, 'removed!']);\n",
              "            Plotly.purge(gd);\n",
              "            observer.disconnect();\n",
              "        }}\n",
              "}});\n",
              "\n",
              "// Listen for the removal of the full notebook cells\n",
              "var notebookContainer = gd.closest('#notebook-container');\n",
              "if (notebookContainer) {{\n",
              "    x.observe(notebookContainer, {childList: true});\n",
              "}}\n",
              "\n",
              "// Listen for the clearing of the current output cell\n",
              "var outputEl = gd.closest('.output');\n",
              "if (outputEl) {{\n",
              "    x.observe(outputEl, {childList: true});\n",
              "}}\n",
              "\n",
              "                        })\n",
              "                };\n",
              "                \n",
              "            </script>\n",
              "        </div>\n",
              "</body>\n",
              "</html>"
            ]
          },
          "metadata": {
            "tags": []
          }
        }
      ]
    },
    {
      "cell_type": "code",
      "metadata": {
        "colab": {
          "base_uri": "https://localhost:8080/",
          "height": 136
        },
        "id": "B9fRGlrzgo4P",
        "outputId": "cb0209cf-4bcb-4cb9-b7c9-4c4a29ba1b72"
      },
      "source": [
        "rnsb_results = run_queries(RNSB,\n",
        "                        queries,\n",
        "                        [english_512, word2vec_model],\n",
        "                        aggregate_results=True,\n",
        "                        return_only_aggregation=True,\n",
        "                        queries_set_name='Gender bias')\n",
        "rnsb_results"
      ],
      "execution_count": null,
      "outputs": [
        {
          "output_type": "execute_result",
          "data": {
            "text/html": [
              "<div>\n",
              "<style scoped>\n",
              "    .dataframe tbody tr th:only-of-type {\n",
              "        vertical-align: middle;\n",
              "    }\n",
              "\n",
              "    .dataframe tbody tr th {\n",
              "        vertical-align: top;\n",
              "    }\n",
              "\n",
              "    .dataframe thead th {\n",
              "        text-align: right;\n",
              "    }\n",
              "</style>\n",
              "<table border=\"1\" class=\"dataframe\">\n",
              "  <thead>\n",
              "    <tr style=\"text-align: right;\">\n",
              "      <th></th>\n",
              "      <th>RNSB: Gender bias average of abs values score</th>\n",
              "    </tr>\n",
              "    <tr>\n",
              "      <th>model_name</th>\n",
              "      <th></th>\n",
              "    </tr>\n",
              "  </thead>\n",
              "  <tbody>\n",
              "    <tr>\n",
              "      <th>english-512</th>\n",
              "      <td>0.018593</td>\n",
              "    </tr>\n",
              "    <tr>\n",
              "      <th>word2vec-google-news-300</th>\n",
              "      <td>0.016830</td>\n",
              "    </tr>\n",
              "  </tbody>\n",
              "</table>\n",
              "</div>"
            ],
            "text/plain": [
              "                          RNSB: Gender bias average of abs values score\n",
              "model_name                                                             \n",
              "english-512                                                    0.018593\n",
              "word2vec-google-news-300                                       0.016830"
            ]
          },
          "metadata": {
            "tags": []
          },
          "execution_count": 80
        }
      ]
    },
    {
      "cell_type": "code",
      "metadata": {
        "id": "YmEcp3qU038b"
      },
      "source": [
        "gender_career_query = Query(\n",
        "    [male, female],\n",
        "    [career],\n",
        "    ['Male words', 'Female words'],\n",
        "    ['Career'])\n",
        "\n",
        "gender_int_query = Query(\n",
        "    [male, female],\n",
        "    [intelligence],\n",
        "    ['Male words', 'Female words'],\n",
        "    ['Intelligence'])\n",
        "\n",
        "gender_math_query = Query(\n",
        "    [male, female],\n",
        "    [math],\n",
        "    ['Male words', 'Female words'],\n",
        "    ['Math'])\n",
        "\n",
        "gender_science_query = Query(\n",
        "    [male, female],\n",
        "    [science],\n",
        "    ['Male words', 'Female words'],\n",
        "    ['Science'])\n",
        "\n",
        "gender_stren_query = Query(\n",
        "    [male, female],\n",
        "    [strength],\n",
        "    ['Male words', 'Female words'],\n",
        "    ['Strength'])\n",
        "\n",
        "gender_family_query = Query(\n",
        "    [male, female],\n",
        "    [family],\n",
        "    ['Male words', 'Female words'],\n",
        "    ['Family'])\n",
        "\n",
        "gender_app_query = Query(\n",
        "    [male, female],\n",
        "    [appearance],\n",
        "    ['Male words', 'Female words'],\n",
        "    ['Appearance'])\n",
        "\n",
        "gender_arts_query = Query(\n",
        "    [male, female],\n",
        "    [arts1],\n",
        "    ['Male words', 'Female words'],\n",
        "    ['Arts'])\n",
        "\n",
        "gender_weak_query = Query(\n",
        "    [male, female],\n",
        "    [weakness],\n",
        "    ['Male words', 'Female words'],\n",
        "    ['Weakness'])"
      ],
      "execution_count": null,
      "outputs": []
    },
    {
      "cell_type": "code",
      "metadata": {
        "id": "36sQO8W_1k_g"
      },
      "source": [
        "queries = [\n",
        "    gender_career_query,\n",
        "    gender_int_query,\n",
        "    gender_stren_query,\n",
        "    gender_science_query,\n",
        "    gender_math_query,\n",
        "    gender_family_query,\n",
        "    gender_app_query,\n",
        "    gender_weak_query,\n",
        "    gender_arts_query,\n",
        "]"
      ],
      "execution_count": null,
      "outputs": []
    },
    {
      "cell_type": "code",
      "metadata": {
        "colab": {
          "base_uri": "https://localhost:8080/",
          "height": 203
        },
        "id": "x6ncFpn60tRD",
        "outputId": "feab1d42-af3e-4856-f005-1179c4f2fcf6"
      },
      "source": [
        "rnd_results = run_queries(RND, queries, [english_512, word2vec_model])\n",
        "rnd_results"
      ],
      "execution_count": null,
      "outputs": [
        {
          "output_type": "execute_result",
          "data": {
            "text/html": [
              "<div>\n",
              "<style scoped>\n",
              "    .dataframe tbody tr th:only-of-type {\n",
              "        vertical-align: middle;\n",
              "    }\n",
              "\n",
              "    .dataframe tbody tr th {\n",
              "        vertical-align: top;\n",
              "    }\n",
              "\n",
              "    .dataframe thead th {\n",
              "        text-align: right;\n",
              "    }\n",
              "</style>\n",
              "<table border=\"1\" class=\"dataframe\">\n",
              "  <thead>\n",
              "    <tr style=\"text-align: right;\">\n",
              "      <th>query_name</th>\n",
              "      <th>Male words and Female words wrt Career</th>\n",
              "      <th>Male words and Female words wrt Intelligence</th>\n",
              "      <th>Male words and Female words wrt Strength</th>\n",
              "      <th>Male words and Female words wrt Science</th>\n",
              "      <th>Male words and Female words wrt Math</th>\n",
              "      <th>Male words and Female words wrt Family</th>\n",
              "      <th>Male words and Female words wrt Appearance</th>\n",
              "      <th>Male words and Female words wrt Weakness</th>\n",
              "      <th>Male words and Female words wrt Arts</th>\n",
              "    </tr>\n",
              "    <tr>\n",
              "      <th>model_name</th>\n",
              "      <th></th>\n",
              "      <th></th>\n",
              "      <th></th>\n",
              "      <th></th>\n",
              "      <th></th>\n",
              "      <th></th>\n",
              "      <th></th>\n",
              "      <th></th>\n",
              "      <th></th>\n",
              "    </tr>\n",
              "  </thead>\n",
              "  <tbody>\n",
              "    <tr>\n",
              "      <th>english-512</th>\n",
              "      <td>-0.088380</td>\n",
              "      <td>-0.068495</td>\n",
              "      <td>-0.134069</td>\n",
              "      <td>-0.063249</td>\n",
              "      <td>-0.076907</td>\n",
              "      <td>0.049242</td>\n",
              "      <td>-0.018130</td>\n",
              "      <td>-0.042861</td>\n",
              "      <td>-0.051249</td>\n",
              "    </tr>\n",
              "    <tr>\n",
              "      <th>word2vec-google-news-300</th>\n",
              "      <td>-0.142175</td>\n",
              "      <td>-0.171961</td>\n",
              "      <td>-0.186517</td>\n",
              "      <td>-0.124647</td>\n",
              "      <td>-0.142260</td>\n",
              "      <td>0.023003</td>\n",
              "      <td>-0.033555</td>\n",
              "      <td>-0.111489</td>\n",
              "      <td>-0.030781</td>\n",
              "    </tr>\n",
              "  </tbody>\n",
              "</table>\n",
              "</div>"
            ],
            "text/plain": [
              "query_name                Male words and Female words wrt Career  ...  Male words and Female words wrt Arts\n",
              "model_name                                                        ...                                      \n",
              "english-512                                            -0.088380  ...                             -0.051249\n",
              "word2vec-google-news-300                               -0.142175  ...                             -0.030781\n",
              "\n",
              "[2 rows x 9 columns]"
            ]
          },
          "metadata": {
            "tags": []
          },
          "execution_count": 84
        }
      ]
    },
    {
      "cell_type": "code",
      "metadata": {
        "colab": {
          "base_uri": "https://localhost:8080/",
          "height": 542
        },
        "id": "N-_wZtoD1XQo",
        "outputId": "9490dc48-f8e6-4e73-a3b7-a78402353975"
      },
      "source": [
        "plot_queries_results(rnd_results)"
      ],
      "execution_count": null,
      "outputs": [
        {
          "output_type": "display_data",
          "data": {
            "text/html": [
              "<html>\n",
              "<head><meta charset=\"utf-8\" /></head>\n",
              "<body>\n",
              "    <div>\n",
              "            <script src=\"https://cdnjs.cloudflare.com/ajax/libs/mathjax/2.7.5/MathJax.js?config=TeX-AMS-MML_SVG\"></script><script type=\"text/javascript\">if (window.MathJax) {MathJax.Hub.Config({SVG: {font: \"STIX-Web\"}});}</script>\n",
              "                <script type=\"text/javascript\">window.PlotlyConfig = {MathJaxConfig: 'local'};</script>\n",
              "        <script src=\"https://cdn.plot.ly/plotly-latest.min.js\"></script>    \n",
              "            <div id=\"c11639b8-f2c2-4844-ae4a-d5aa8c75be30\" class=\"plotly-graph-div\" style=\"height:525px; width:100%;\"></div>\n",
              "            <script type=\"text/javascript\">\n",
              "                \n",
              "                    window.PLOTLYENV=window.PLOTLYENV || {};\n",
              "                    \n",
              "                if (document.getElementById(\"c11639b8-f2c2-4844-ae4a-d5aa8c75be30\")) {\n",
              "                    Plotly.newPlot(\n",
              "                        'c11639b8-f2c2-4844-ae4a-d5aa8c75be30',\n",
              "                        [{\"alignmentgroup\": \"True\", \"hoverlabel\": {\"namelength\": 0}, \"hovertemplate\": \"Word Embedding Model=english-512<br>query_name=%{x}<br>value=%{y}\", \"legendgroup\": \"Word Embedding Model=english-512\", \"marker\": {\"color\": \"#636efa\"}, \"name\": \"Word Embedding Model=english-512\", \"offsetgroup\": \"Word Embedding Model=english-512\", \"orientation\": \"v\", \"showlegend\": true, \"textposition\": \"auto\", \"type\": \"bar\", \"x\": [\"Male words and Female words wrt<br> Career\", \"Male words and Female words wrt<br> Intelligence\", \"Male words and Female words wrt<br> Strength\", \"Male words and Female words wrt<br> Science\", \"Male words and Female words wrt<br> Math\", \"Male words and Female words wrt<br> Family\", \"Male words and Female words wrt<br> Appearance\", \"Male words and Female words wrt<br> Weakness\", \"Male words and Female words wrt<br> Arts\"], \"xaxis\": \"x\", \"y\": [-0.08838000653805735, -0.06849451588620914, -0.13406858837788835, -0.06324886677916348, -0.0769069352547533, 0.049241845341285284, -0.018130261202547276, -0.042860569971333716, -0.051249457532090356], \"yaxis\": \"y\"}, {\"alignmentgroup\": \"True\", \"hoverlabel\": {\"namelength\": 0}, \"hovertemplate\": \"Word Embedding Model=word2vec-google-news-300<br>query_name=%{x}<br>value=%{y}\", \"legendgroup\": \"Word Embedding Model=word2vec-google-news-300\", \"marker\": {\"color\": \"#EF553B\"}, \"name\": \"Word Embedding Model=word2vec-google-news-300\", \"offsetgroup\": \"Word Embedding Model=word2vec-google-news-300\", \"orientation\": \"v\", \"showlegend\": true, \"textposition\": \"auto\", \"type\": \"bar\", \"x\": [\"Male words and Female words wrt<br> Career\", \"Male words and Female words wrt<br> Intelligence\", \"Male words and Female words wrt<br> Strength\", \"Male words and Female words wrt<br> Science\", \"Male words and Female words wrt<br> Math\", \"Male words and Female words wrt<br> Family\", \"Male words and Female words wrt<br> Appearance\", \"Male words and Female words wrt<br> Weakness\", \"Male words and Female words wrt<br> Arts\"], \"xaxis\": \"x\", \"y\": [-0.14217521594120905, -0.1719607684923255, -0.1865172068277995, -0.12464668750762939, -0.14226007461547852, 0.02300255115215595, -0.03355510036150614, -0.11148862838745117, -0.030780625343322755], \"yaxis\": \"y\"}],\n",
              "                        {\"barmode\": \"group\", \"legend\": {\"tracegroupgap\": 0}, \"margin\": {\"t\": 60}, \"template\": {\"data\": {\"bar\": [{\"error_x\": {\"color\": \"#2a3f5f\"}, \"error_y\": {\"color\": \"#2a3f5f\"}, \"marker\": {\"line\": {\"color\": \"#E5ECF6\", \"width\": 0.5}}, \"type\": \"bar\"}], \"barpolar\": [{\"marker\": {\"line\": {\"color\": \"#E5ECF6\", \"width\": 0.5}}, \"type\": \"barpolar\"}], \"carpet\": [{\"aaxis\": {\"endlinecolor\": \"#2a3f5f\", \"gridcolor\": \"white\", \"linecolor\": \"white\", \"minorgridcolor\": \"white\", \"startlinecolor\": \"#2a3f5f\"}, \"baxis\": {\"endlinecolor\": \"#2a3f5f\", \"gridcolor\": \"white\", \"linecolor\": \"white\", \"minorgridcolor\": \"white\", \"startlinecolor\": \"#2a3f5f\"}, \"type\": \"carpet\"}], \"choropleth\": [{\"colorbar\": {\"outlinewidth\": 0, \"ticks\": \"\"}, \"type\": \"choropleth\"}], \"contour\": [{\"colorbar\": {\"outlinewidth\": 0, \"ticks\": \"\"}, \"colorscale\": [[0.0, \"#0d0887\"], [0.1111111111111111, \"#46039f\"], [0.2222222222222222, \"#7201a8\"], [0.3333333333333333, \"#9c179e\"], [0.4444444444444444, \"#bd3786\"], [0.5555555555555556, \"#d8576b\"], [0.6666666666666666, \"#ed7953\"], [0.7777777777777778, \"#fb9f3a\"], [0.8888888888888888, \"#fdca26\"], [1.0, \"#f0f921\"]], \"type\": \"contour\"}], \"contourcarpet\": [{\"colorbar\": {\"outlinewidth\": 0, \"ticks\": \"\"}, \"type\": \"contourcarpet\"}], \"heatmap\": [{\"colorbar\": {\"outlinewidth\": 0, \"ticks\": \"\"}, \"colorscale\": [[0.0, \"#0d0887\"], [0.1111111111111111, \"#46039f\"], [0.2222222222222222, \"#7201a8\"], [0.3333333333333333, \"#9c179e\"], [0.4444444444444444, \"#bd3786\"], [0.5555555555555556, \"#d8576b\"], [0.6666666666666666, \"#ed7953\"], [0.7777777777777778, \"#fb9f3a\"], [0.8888888888888888, \"#fdca26\"], [1.0, \"#f0f921\"]], \"type\": \"heatmap\"}], \"heatmapgl\": [{\"colorbar\": {\"outlinewidth\": 0, \"ticks\": \"\"}, \"colorscale\": [[0.0, \"#0d0887\"], [0.1111111111111111, \"#46039f\"], [0.2222222222222222, \"#7201a8\"], [0.3333333333333333, \"#9c179e\"], [0.4444444444444444, \"#bd3786\"], [0.5555555555555556, \"#d8576b\"], [0.6666666666666666, \"#ed7953\"], [0.7777777777777778, \"#fb9f3a\"], [0.8888888888888888, \"#fdca26\"], [1.0, \"#f0f921\"]], \"type\": \"heatmapgl\"}], \"histogram\": [{\"marker\": {\"colorbar\": {\"outlinewidth\": 0, \"ticks\": \"\"}}, \"type\": \"histogram\"}], \"histogram2d\": [{\"colorbar\": {\"outlinewidth\": 0, \"ticks\": \"\"}, \"colorscale\": [[0.0, \"#0d0887\"], [0.1111111111111111, \"#46039f\"], [0.2222222222222222, \"#7201a8\"], [0.3333333333333333, \"#9c179e\"], [0.4444444444444444, \"#bd3786\"], [0.5555555555555556, \"#d8576b\"], [0.6666666666666666, \"#ed7953\"], [0.7777777777777778, \"#fb9f3a\"], [0.8888888888888888, \"#fdca26\"], [1.0, \"#f0f921\"]], \"type\": \"histogram2d\"}], \"histogram2dcontour\": [{\"colorbar\": {\"outlinewidth\": 0, \"ticks\": \"\"}, \"colorscale\": [[0.0, \"#0d0887\"], [0.1111111111111111, \"#46039f\"], [0.2222222222222222, \"#7201a8\"], [0.3333333333333333, \"#9c179e\"], [0.4444444444444444, \"#bd3786\"], [0.5555555555555556, \"#d8576b\"], [0.6666666666666666, \"#ed7953\"], [0.7777777777777778, \"#fb9f3a\"], [0.8888888888888888, \"#fdca26\"], [1.0, \"#f0f921\"]], \"type\": \"histogram2dcontour\"}], \"mesh3d\": [{\"colorbar\": {\"outlinewidth\": 0, \"ticks\": \"\"}, \"type\": \"mesh3d\"}], \"parcoords\": [{\"line\": {\"colorbar\": {\"outlinewidth\": 0, \"ticks\": \"\"}}, \"type\": \"parcoords\"}], \"pie\": [{\"automargin\": true, \"type\": \"pie\"}], \"scatter\": [{\"marker\": {\"colorbar\": {\"outlinewidth\": 0, \"ticks\": \"\"}}, \"type\": \"scatter\"}], \"scatter3d\": [{\"line\": {\"colorbar\": {\"outlinewidth\": 0, \"ticks\": \"\"}}, \"marker\": {\"colorbar\": {\"outlinewidth\": 0, \"ticks\": \"\"}}, \"type\": \"scatter3d\"}], \"scattercarpet\": [{\"marker\": {\"colorbar\": {\"outlinewidth\": 0, \"ticks\": \"\"}}, \"type\": \"scattercarpet\"}], \"scattergeo\": [{\"marker\": {\"colorbar\": {\"outlinewidth\": 0, \"ticks\": \"\"}}, \"type\": \"scattergeo\"}], \"scattergl\": [{\"marker\": {\"colorbar\": {\"outlinewidth\": 0, \"ticks\": \"\"}}, \"type\": \"scattergl\"}], \"scattermapbox\": [{\"marker\": {\"colorbar\": {\"outlinewidth\": 0, \"ticks\": \"\"}}, \"type\": \"scattermapbox\"}], \"scatterpolar\": [{\"marker\": {\"colorbar\": {\"outlinewidth\": 0, \"ticks\": \"\"}}, \"type\": \"scatterpolar\"}], \"scatterpolargl\": [{\"marker\": {\"colorbar\": {\"outlinewidth\": 0, \"ticks\": \"\"}}, \"type\": \"scatterpolargl\"}], \"scatterternary\": [{\"marker\": {\"colorbar\": {\"outlinewidth\": 0, \"ticks\": \"\"}}, \"type\": \"scatterternary\"}], \"surface\": [{\"colorbar\": {\"outlinewidth\": 0, \"ticks\": \"\"}, \"colorscale\": [[0.0, \"#0d0887\"], [0.1111111111111111, \"#46039f\"], [0.2222222222222222, \"#7201a8\"], [0.3333333333333333, \"#9c179e\"], [0.4444444444444444, \"#bd3786\"], [0.5555555555555556, \"#d8576b\"], [0.6666666666666666, \"#ed7953\"], [0.7777777777777778, \"#fb9f3a\"], [0.8888888888888888, \"#fdca26\"], [1.0, \"#f0f921\"]], \"type\": \"surface\"}], \"table\": [{\"cells\": {\"fill\": {\"color\": \"#EBF0F8\"}, \"line\": {\"color\": \"white\"}}, \"header\": {\"fill\": {\"color\": \"#C8D4E3\"}, \"line\": {\"color\": \"white\"}}, \"type\": \"table\"}]}, \"layout\": {\"annotationdefaults\": {\"arrowcolor\": \"#2a3f5f\", \"arrowhead\": 0, \"arrowwidth\": 1}, \"coloraxis\": {\"colorbar\": {\"outlinewidth\": 0, \"ticks\": \"\"}}, \"colorscale\": {\"diverging\": [[0, \"#8e0152\"], [0.1, \"#c51b7d\"], [0.2, \"#de77ae\"], [0.3, \"#f1b6da\"], [0.4, \"#fde0ef\"], [0.5, \"#f7f7f7\"], [0.6, \"#e6f5d0\"], [0.7, \"#b8e186\"], [0.8, \"#7fbc41\"], [0.9, \"#4d9221\"], [1, \"#276419\"]], \"sequential\": [[0.0, \"#0d0887\"], [0.1111111111111111, \"#46039f\"], [0.2222222222222222, \"#7201a8\"], [0.3333333333333333, \"#9c179e\"], [0.4444444444444444, \"#bd3786\"], [0.5555555555555556, \"#d8576b\"], [0.6666666666666666, \"#ed7953\"], [0.7777777777777778, \"#fb9f3a\"], [0.8888888888888888, \"#fdca26\"], [1.0, \"#f0f921\"]], \"sequentialminus\": [[0.0, \"#0d0887\"], [0.1111111111111111, \"#46039f\"], [0.2222222222222222, \"#7201a8\"], [0.3333333333333333, \"#9c179e\"], [0.4444444444444444, \"#bd3786\"], [0.5555555555555556, \"#d8576b\"], [0.6666666666666666, \"#ed7953\"], [0.7777777777777778, \"#fb9f3a\"], [0.8888888888888888, \"#fdca26\"], [1.0, \"#f0f921\"]]}, \"colorway\": [\"#636efa\", \"#EF553B\", \"#00cc96\", \"#ab63fa\", \"#FFA15A\", \"#19d3f3\", \"#FF6692\", \"#B6E880\", \"#FF97FF\", \"#FECB52\"], \"font\": {\"color\": \"#2a3f5f\"}, \"geo\": {\"bgcolor\": \"white\", \"lakecolor\": \"white\", \"landcolor\": \"#E5ECF6\", \"showlakes\": true, \"showland\": true, \"subunitcolor\": \"white\"}, \"hoverlabel\": {\"align\": \"left\"}, \"hovermode\": \"closest\", \"mapbox\": {\"style\": \"light\"}, \"paper_bgcolor\": \"white\", \"plot_bgcolor\": \"#E5ECF6\", \"polar\": {\"angularaxis\": {\"gridcolor\": \"white\", \"linecolor\": \"white\", \"ticks\": \"\"}, \"bgcolor\": \"#E5ECF6\", \"radialaxis\": {\"gridcolor\": \"white\", \"linecolor\": \"white\", \"ticks\": \"\"}}, \"scene\": {\"xaxis\": {\"backgroundcolor\": \"#E5ECF6\", \"gridcolor\": \"white\", \"gridwidth\": 2, \"linecolor\": \"white\", \"showbackground\": true, \"ticks\": \"\", \"zerolinecolor\": \"white\"}, \"yaxis\": {\"backgroundcolor\": \"#E5ECF6\", \"gridcolor\": \"white\", \"gridwidth\": 2, \"linecolor\": \"white\", \"showbackground\": true, \"ticks\": \"\", \"zerolinecolor\": \"white\"}, \"zaxis\": {\"backgroundcolor\": \"#E5ECF6\", \"gridcolor\": \"white\", \"gridwidth\": 2, \"linecolor\": \"white\", \"showbackground\": true, \"ticks\": \"\", \"zerolinecolor\": \"white\"}}, \"shapedefaults\": {\"line\": {\"color\": \"#2a3f5f\"}}, \"ternary\": {\"aaxis\": {\"gridcolor\": \"white\", \"linecolor\": \"white\", \"ticks\": \"\"}, \"baxis\": {\"gridcolor\": \"white\", \"linecolor\": \"white\", \"ticks\": \"\"}, \"bgcolor\": \"#E5ECF6\", \"caxis\": {\"gridcolor\": \"white\", \"linecolor\": \"white\", \"ticks\": \"\"}}, \"title\": {\"x\": 0.05}, \"xaxis\": {\"automargin\": true, \"gridcolor\": \"white\", \"linecolor\": \"white\", \"ticks\": \"\", \"title\": {\"standoff\": 15}, \"zerolinecolor\": \"white\", \"zerolinewidth\": 2}, \"yaxis\": {\"automargin\": true, \"gridcolor\": \"white\", \"linecolor\": \"white\", \"ticks\": \"\", \"title\": {\"standoff\": 15}, \"zerolinecolor\": \"white\", \"zerolinewidth\": 2}}}, \"xaxis\": {\"anchor\": \"y\", \"domain\": [0.0, 1.0], \"title\": {\"text\": \"Query\"}}, \"yaxis\": {\"anchor\": \"x\", \"domain\": [0.0, 1.0], \"title\": {\"text\": \"Bias measure\"}}},\n",
              "                        {\"responsive\": true}\n",
              "                    ).then(function(){\n",
              "                            \n",
              "var gd = document.getElementById('c11639b8-f2c2-4844-ae4a-d5aa8c75be30');\n",
              "var x = new MutationObserver(function (mutations, observer) {{\n",
              "        var display = window.getComputedStyle(gd).display;\n",
              "        if (!display || display === 'none') {{\n",
              "            console.log([gd, 'removed!']);\n",
              "            Plotly.purge(gd);\n",
              "            observer.disconnect();\n",
              "        }}\n",
              "}});\n",
              "\n",
              "// Listen for the removal of the full notebook cells\n",
              "var notebookContainer = gd.closest('#notebook-container');\n",
              "if (notebookContainer) {{\n",
              "    x.observe(notebookContainer, {childList: true});\n",
              "}}\n",
              "\n",
              "// Listen for the clearing of the current output cell\n",
              "var outputEl = gd.closest('.output');\n",
              "if (outputEl) {{\n",
              "    x.observe(outputEl, {childList: true});\n",
              "}}\n",
              "\n",
              "                        })\n",
              "                };\n",
              "                \n",
              "            </script>\n",
              "        </div>\n",
              "</body>\n",
              "</html>"
            ]
          },
          "metadata": {
            "tags": []
          }
        }
      ]
    },
    {
      "cell_type": "code",
      "metadata": {
        "colab": {
          "base_uri": "https://localhost:8080/",
          "height": 136
        },
        "id": "aoCnE9Bq15xR",
        "outputId": "821f00ec-d5f3-48f1-b685-dfac8b0de88f"
      },
      "source": [
        "rnd_results = run_queries(RND,\n",
        "                        queries,\n",
        "                        [english_512, word2vec_model],\n",
        "                        aggregate_results=True,\n",
        "                        return_only_aggregation=True,\n",
        "                        queries_set_name='Gender bias')\n",
        "rnd_results"
      ],
      "execution_count": null,
      "outputs": [
        {
          "output_type": "execute_result",
          "data": {
            "text/html": [
              "<div>\n",
              "<style scoped>\n",
              "    .dataframe tbody tr th:only-of-type {\n",
              "        vertical-align: middle;\n",
              "    }\n",
              "\n",
              "    .dataframe tbody tr th {\n",
              "        vertical-align: top;\n",
              "    }\n",
              "\n",
              "    .dataframe thead th {\n",
              "        text-align: right;\n",
              "    }\n",
              "</style>\n",
              "<table border=\"1\" class=\"dataframe\">\n",
              "  <thead>\n",
              "    <tr style=\"text-align: right;\">\n",
              "      <th></th>\n",
              "      <th>RND: Gender bias average of abs values score</th>\n",
              "    </tr>\n",
              "    <tr>\n",
              "      <th>model_name</th>\n",
              "      <th></th>\n",
              "    </tr>\n",
              "  </thead>\n",
              "  <tbody>\n",
              "    <tr>\n",
              "      <th>english-512</th>\n",
              "      <td>0.065842</td>\n",
              "    </tr>\n",
              "    <tr>\n",
              "      <th>word2vec-google-news-300</th>\n",
              "      <td>0.107376</td>\n",
              "    </tr>\n",
              "  </tbody>\n",
              "</table>\n",
              "</div>"
            ],
            "text/plain": [
              "                          RND: Gender bias average of abs values score\n",
              "model_name                                                            \n",
              "english-512                                                   0.065842\n",
              "word2vec-google-news-300                                      0.107376"
            ]
          },
          "metadata": {
            "tags": []
          },
          "execution_count": 86
        }
      ]
    },
    {
      "cell_type": "code",
      "metadata": {
        "colab": {
          "base_uri": "https://localhost:8080/",
          "height": 203
        },
        "id": "0D81PDMy17zU",
        "outputId": "0399f39e-b2d2-40aa-fd2a-3d1d0bd70d61"
      },
      "source": [
        "ect_results = run_queries(ECT, queries, [english_512, word2vec_model])\n",
        "ect_results"
      ],
      "execution_count": null,
      "outputs": [
        {
          "output_type": "execute_result",
          "data": {
            "text/html": [
              "<div>\n",
              "<style scoped>\n",
              "    .dataframe tbody tr th:only-of-type {\n",
              "        vertical-align: middle;\n",
              "    }\n",
              "\n",
              "    .dataframe tbody tr th {\n",
              "        vertical-align: top;\n",
              "    }\n",
              "\n",
              "    .dataframe thead th {\n",
              "        text-align: right;\n",
              "    }\n",
              "</style>\n",
              "<table border=\"1\" class=\"dataframe\">\n",
              "  <thead>\n",
              "    <tr style=\"text-align: right;\">\n",
              "      <th>query_name</th>\n",
              "      <th>Male words and Female words wrt Career</th>\n",
              "      <th>Male words and Female words wrt Intelligence</th>\n",
              "      <th>Male words and Female words wrt Strength</th>\n",
              "      <th>Male words and Female words wrt Science</th>\n",
              "      <th>Male words and Female words wrt Math</th>\n",
              "      <th>Male words and Female words wrt Family</th>\n",
              "      <th>Male words and Female words wrt Appearance</th>\n",
              "      <th>Male words and Female words wrt Weakness</th>\n",
              "      <th>Male words and Female words wrt Arts</th>\n",
              "    </tr>\n",
              "    <tr>\n",
              "      <th>model_name</th>\n",
              "      <th></th>\n",
              "      <th></th>\n",
              "      <th></th>\n",
              "      <th></th>\n",
              "      <th></th>\n",
              "      <th></th>\n",
              "      <th></th>\n",
              "      <th></th>\n",
              "      <th></th>\n",
              "    </tr>\n",
              "  </thead>\n",
              "  <tbody>\n",
              "    <tr>\n",
              "      <th>english-512</th>\n",
              "      <td>0.472527</td>\n",
              "      <td>0.561265</td>\n",
              "      <td>0.589286</td>\n",
              "      <td>0.539394</td>\n",
              "      <td>0.863636</td>\n",
              "      <td>0.675824</td>\n",
              "      <td>0.243478</td>\n",
              "      <td>0.385714</td>\n",
              "      <td>0.536364</td>\n",
              "    </tr>\n",
              "    <tr>\n",
              "      <th>word2vec-google-news-300</th>\n",
              "      <td>0.835165</td>\n",
              "      <td>0.911067</td>\n",
              "      <td>0.725000</td>\n",
              "      <td>0.769697</td>\n",
              "      <td>0.818182</td>\n",
              "      <td>0.763736</td>\n",
              "      <td>0.586957</td>\n",
              "      <td>0.707143</td>\n",
              "      <td>0.575758</td>\n",
              "    </tr>\n",
              "  </tbody>\n",
              "</table>\n",
              "</div>"
            ],
            "text/plain": [
              "query_name                Male words and Female words wrt Career  ...  Male words and Female words wrt Arts\n",
              "model_name                                                        ...                                      \n",
              "english-512                                             0.472527  ...                              0.536364\n",
              "word2vec-google-news-300                                0.835165  ...                              0.575758\n",
              "\n",
              "[2 rows x 9 columns]"
            ]
          },
          "metadata": {
            "tags": []
          },
          "execution_count": 87
        }
      ]
    },
    {
      "cell_type": "code",
      "metadata": {
        "colab": {
          "base_uri": "https://localhost:8080/",
          "height": 542
        },
        "id": "gJQkrC841_qq",
        "outputId": "0beaba6f-8b7c-4b59-f405-8252a4d4c5d1"
      },
      "source": [
        "plot_queries_results(ect_results)"
      ],
      "execution_count": null,
      "outputs": [
        {
          "output_type": "display_data",
          "data": {
            "text/html": [
              "<html>\n",
              "<head><meta charset=\"utf-8\" /></head>\n",
              "<body>\n",
              "    <div>\n",
              "            <script src=\"https://cdnjs.cloudflare.com/ajax/libs/mathjax/2.7.5/MathJax.js?config=TeX-AMS-MML_SVG\"></script><script type=\"text/javascript\">if (window.MathJax) {MathJax.Hub.Config({SVG: {font: \"STIX-Web\"}});}</script>\n",
              "                <script type=\"text/javascript\">window.PlotlyConfig = {MathJaxConfig: 'local'};</script>\n",
              "        <script src=\"https://cdn.plot.ly/plotly-latest.min.js\"></script>    \n",
              "            <div id=\"fbaf5d8c-a8c2-48bc-98f1-c2bf7a25b560\" class=\"plotly-graph-div\" style=\"height:525px; width:100%;\"></div>\n",
              "            <script type=\"text/javascript\">\n",
              "                \n",
              "                    window.PLOTLYENV=window.PLOTLYENV || {};\n",
              "                    \n",
              "                if (document.getElementById(\"fbaf5d8c-a8c2-48bc-98f1-c2bf7a25b560\")) {\n",
              "                    Plotly.newPlot(\n",
              "                        'fbaf5d8c-a8c2-48bc-98f1-c2bf7a25b560',\n",
              "                        [{\"alignmentgroup\": \"True\", \"hoverlabel\": {\"namelength\": 0}, \"hovertemplate\": \"Word Embedding Model=english-512<br>query_name=%{x}<br>value=%{y}\", \"legendgroup\": \"Word Embedding Model=english-512\", \"marker\": {\"color\": \"#636efa\"}, \"name\": \"Word Embedding Model=english-512\", \"offsetgroup\": \"Word Embedding Model=english-512\", \"orientation\": \"v\", \"showlegend\": true, \"textposition\": \"auto\", \"type\": \"bar\", \"x\": [\"Male words and Female words wrt<br> Career\", \"Male words and Female words wrt<br> Intelligence\", \"Male words and Female words wrt<br> Strength\", \"Male words and Female words wrt<br> Science\", \"Male words and Female words wrt<br> Math\", \"Male words and Female words wrt<br> Family\", \"Male words and Female words wrt<br> Appearance\", \"Male words and Female words wrt<br> Weakness\", \"Male words and Female words wrt<br> Arts\"], \"xaxis\": \"x\", \"y\": [0.4725274725274725, 0.5612648221343874, 0.5892857142857142, 0.5393939393939393, 0.8636363636363636, 0.6758241758241759, 0.2434782608695652, 0.3857142857142856, 0.5363636363636364], \"yaxis\": \"y\"}, {\"alignmentgroup\": \"True\", \"hoverlabel\": {\"namelength\": 0}, \"hovertemplate\": \"Word Embedding Model=word2vec-google-news-300<br>query_name=%{x}<br>value=%{y}\", \"legendgroup\": \"Word Embedding Model=word2vec-google-news-300\", \"marker\": {\"color\": \"#EF553B\"}, \"name\": \"Word Embedding Model=word2vec-google-news-300\", \"offsetgroup\": \"Word Embedding Model=word2vec-google-news-300\", \"orientation\": \"v\", \"showlegend\": true, \"textposition\": \"auto\", \"type\": \"bar\", \"x\": [\"Male words and Female words wrt<br> Career\", \"Male words and Female words wrt<br> Intelligence\", \"Male words and Female words wrt<br> Strength\", \"Male words and Female words wrt<br> Science\", \"Male words and Female words wrt<br> Math\", \"Male words and Female words wrt<br> Family\", \"Male words and Female words wrt<br> Appearance\", \"Male words and Female words wrt<br> Weakness\", \"Male words and Female words wrt<br> Arts\"], \"xaxis\": \"x\", \"y\": [0.8351648351648352, 0.9110671936758895, 0.7249999999999999, 0.7696969696969697, 0.8181818181818182, 0.7637362637362637, 0.5869565217391304, 0.7071428571428571, 0.5757575757575757], \"yaxis\": \"y\"}],\n",
              "                        {\"barmode\": \"group\", \"legend\": {\"tracegroupgap\": 0}, \"margin\": {\"t\": 60}, \"template\": {\"data\": {\"bar\": [{\"error_x\": {\"color\": \"#2a3f5f\"}, \"error_y\": {\"color\": \"#2a3f5f\"}, \"marker\": {\"line\": {\"color\": \"#E5ECF6\", \"width\": 0.5}}, \"type\": \"bar\"}], \"barpolar\": [{\"marker\": {\"line\": {\"color\": \"#E5ECF6\", \"width\": 0.5}}, \"type\": \"barpolar\"}], \"carpet\": [{\"aaxis\": {\"endlinecolor\": \"#2a3f5f\", \"gridcolor\": \"white\", \"linecolor\": \"white\", \"minorgridcolor\": \"white\", \"startlinecolor\": \"#2a3f5f\"}, \"baxis\": {\"endlinecolor\": \"#2a3f5f\", \"gridcolor\": \"white\", \"linecolor\": \"white\", \"minorgridcolor\": \"white\", \"startlinecolor\": \"#2a3f5f\"}, \"type\": \"carpet\"}], \"choropleth\": [{\"colorbar\": {\"outlinewidth\": 0, \"ticks\": \"\"}, \"type\": \"choropleth\"}], \"contour\": [{\"colorbar\": {\"outlinewidth\": 0, \"ticks\": \"\"}, \"colorscale\": [[0.0, \"#0d0887\"], [0.1111111111111111, \"#46039f\"], [0.2222222222222222, \"#7201a8\"], [0.3333333333333333, \"#9c179e\"], [0.4444444444444444, \"#bd3786\"], [0.5555555555555556, \"#d8576b\"], [0.6666666666666666, \"#ed7953\"], [0.7777777777777778, \"#fb9f3a\"], [0.8888888888888888, \"#fdca26\"], [1.0, \"#f0f921\"]], \"type\": \"contour\"}], \"contourcarpet\": [{\"colorbar\": {\"outlinewidth\": 0, \"ticks\": \"\"}, \"type\": \"contourcarpet\"}], \"heatmap\": [{\"colorbar\": {\"outlinewidth\": 0, \"ticks\": \"\"}, \"colorscale\": [[0.0, \"#0d0887\"], [0.1111111111111111, \"#46039f\"], [0.2222222222222222, \"#7201a8\"], [0.3333333333333333, \"#9c179e\"], [0.4444444444444444, \"#bd3786\"], [0.5555555555555556, \"#d8576b\"], [0.6666666666666666, \"#ed7953\"], [0.7777777777777778, \"#fb9f3a\"], [0.8888888888888888, \"#fdca26\"], [1.0, \"#f0f921\"]], \"type\": \"heatmap\"}], \"heatmapgl\": [{\"colorbar\": {\"outlinewidth\": 0, \"ticks\": \"\"}, \"colorscale\": [[0.0, \"#0d0887\"], [0.1111111111111111, \"#46039f\"], [0.2222222222222222, \"#7201a8\"], [0.3333333333333333, \"#9c179e\"], [0.4444444444444444, \"#bd3786\"], [0.5555555555555556, \"#d8576b\"], [0.6666666666666666, \"#ed7953\"], [0.7777777777777778, \"#fb9f3a\"], [0.8888888888888888, \"#fdca26\"], [1.0, \"#f0f921\"]], \"type\": \"heatmapgl\"}], \"histogram\": [{\"marker\": {\"colorbar\": {\"outlinewidth\": 0, \"ticks\": \"\"}}, \"type\": \"histogram\"}], \"histogram2d\": [{\"colorbar\": {\"outlinewidth\": 0, \"ticks\": \"\"}, \"colorscale\": [[0.0, \"#0d0887\"], [0.1111111111111111, \"#46039f\"], [0.2222222222222222, \"#7201a8\"], [0.3333333333333333, \"#9c179e\"], [0.4444444444444444, \"#bd3786\"], [0.5555555555555556, \"#d8576b\"], [0.6666666666666666, \"#ed7953\"], [0.7777777777777778, \"#fb9f3a\"], [0.8888888888888888, \"#fdca26\"], [1.0, \"#f0f921\"]], \"type\": \"histogram2d\"}], \"histogram2dcontour\": [{\"colorbar\": {\"outlinewidth\": 0, \"ticks\": \"\"}, \"colorscale\": [[0.0, \"#0d0887\"], [0.1111111111111111, \"#46039f\"], [0.2222222222222222, \"#7201a8\"], [0.3333333333333333, \"#9c179e\"], [0.4444444444444444, \"#bd3786\"], [0.5555555555555556, \"#d8576b\"], [0.6666666666666666, \"#ed7953\"], [0.7777777777777778, \"#fb9f3a\"], [0.8888888888888888, \"#fdca26\"], [1.0, \"#f0f921\"]], \"type\": \"histogram2dcontour\"}], \"mesh3d\": [{\"colorbar\": {\"outlinewidth\": 0, \"ticks\": \"\"}, \"type\": \"mesh3d\"}], \"parcoords\": [{\"line\": {\"colorbar\": {\"outlinewidth\": 0, \"ticks\": \"\"}}, \"type\": \"parcoords\"}], \"pie\": [{\"automargin\": true, \"type\": \"pie\"}], \"scatter\": [{\"marker\": {\"colorbar\": {\"outlinewidth\": 0, \"ticks\": \"\"}}, \"type\": \"scatter\"}], \"scatter3d\": [{\"line\": {\"colorbar\": {\"outlinewidth\": 0, \"ticks\": \"\"}}, \"marker\": {\"colorbar\": {\"outlinewidth\": 0, \"ticks\": \"\"}}, \"type\": \"scatter3d\"}], \"scattercarpet\": [{\"marker\": {\"colorbar\": {\"outlinewidth\": 0, \"ticks\": \"\"}}, \"type\": \"scattercarpet\"}], \"scattergeo\": [{\"marker\": {\"colorbar\": {\"outlinewidth\": 0, \"ticks\": \"\"}}, \"type\": \"scattergeo\"}], \"scattergl\": [{\"marker\": {\"colorbar\": {\"outlinewidth\": 0, \"ticks\": \"\"}}, \"type\": \"scattergl\"}], \"scattermapbox\": [{\"marker\": {\"colorbar\": {\"outlinewidth\": 0, \"ticks\": \"\"}}, \"type\": \"scattermapbox\"}], \"scatterpolar\": [{\"marker\": {\"colorbar\": {\"outlinewidth\": 0, \"ticks\": \"\"}}, \"type\": \"scatterpolar\"}], \"scatterpolargl\": [{\"marker\": {\"colorbar\": {\"outlinewidth\": 0, \"ticks\": \"\"}}, \"type\": \"scatterpolargl\"}], \"scatterternary\": [{\"marker\": {\"colorbar\": {\"outlinewidth\": 0, \"ticks\": \"\"}}, \"type\": \"scatterternary\"}], \"surface\": [{\"colorbar\": {\"outlinewidth\": 0, \"ticks\": \"\"}, \"colorscale\": [[0.0, \"#0d0887\"], [0.1111111111111111, \"#46039f\"], [0.2222222222222222, \"#7201a8\"], [0.3333333333333333, \"#9c179e\"], [0.4444444444444444, \"#bd3786\"], [0.5555555555555556, \"#d8576b\"], [0.6666666666666666, \"#ed7953\"], [0.7777777777777778, \"#fb9f3a\"], [0.8888888888888888, \"#fdca26\"], [1.0, \"#f0f921\"]], \"type\": \"surface\"}], \"table\": [{\"cells\": {\"fill\": {\"color\": \"#EBF0F8\"}, \"line\": {\"color\": \"white\"}}, \"header\": {\"fill\": {\"color\": \"#C8D4E3\"}, \"line\": {\"color\": \"white\"}}, \"type\": \"table\"}]}, \"layout\": {\"annotationdefaults\": {\"arrowcolor\": \"#2a3f5f\", \"arrowhead\": 0, \"arrowwidth\": 1}, \"coloraxis\": {\"colorbar\": {\"outlinewidth\": 0, \"ticks\": \"\"}}, \"colorscale\": {\"diverging\": [[0, \"#8e0152\"], [0.1, \"#c51b7d\"], [0.2, \"#de77ae\"], [0.3, \"#f1b6da\"], [0.4, \"#fde0ef\"], [0.5, \"#f7f7f7\"], [0.6, \"#e6f5d0\"], [0.7, \"#b8e186\"], [0.8, \"#7fbc41\"], [0.9, \"#4d9221\"], [1, \"#276419\"]], \"sequential\": [[0.0, \"#0d0887\"], [0.1111111111111111, \"#46039f\"], [0.2222222222222222, \"#7201a8\"], [0.3333333333333333, \"#9c179e\"], [0.4444444444444444, \"#bd3786\"], [0.5555555555555556, \"#d8576b\"], [0.6666666666666666, \"#ed7953\"], [0.7777777777777778, \"#fb9f3a\"], [0.8888888888888888, \"#fdca26\"], [1.0, \"#f0f921\"]], \"sequentialminus\": [[0.0, \"#0d0887\"], [0.1111111111111111, \"#46039f\"], [0.2222222222222222, \"#7201a8\"], [0.3333333333333333, \"#9c179e\"], [0.4444444444444444, \"#bd3786\"], [0.5555555555555556, \"#d8576b\"], [0.6666666666666666, \"#ed7953\"], [0.7777777777777778, \"#fb9f3a\"], [0.8888888888888888, \"#fdca26\"], [1.0, \"#f0f921\"]]}, \"colorway\": [\"#636efa\", \"#EF553B\", \"#00cc96\", \"#ab63fa\", \"#FFA15A\", \"#19d3f3\", \"#FF6692\", \"#B6E880\", \"#FF97FF\", \"#FECB52\"], \"font\": {\"color\": \"#2a3f5f\"}, \"geo\": {\"bgcolor\": \"white\", \"lakecolor\": \"white\", \"landcolor\": \"#E5ECF6\", \"showlakes\": true, \"showland\": true, \"subunitcolor\": \"white\"}, \"hoverlabel\": {\"align\": \"left\"}, \"hovermode\": \"closest\", \"mapbox\": {\"style\": \"light\"}, \"paper_bgcolor\": \"white\", \"plot_bgcolor\": \"#E5ECF6\", \"polar\": {\"angularaxis\": {\"gridcolor\": \"white\", \"linecolor\": \"white\", \"ticks\": \"\"}, \"bgcolor\": \"#E5ECF6\", \"radialaxis\": {\"gridcolor\": \"white\", \"linecolor\": \"white\", \"ticks\": \"\"}}, \"scene\": {\"xaxis\": {\"backgroundcolor\": \"#E5ECF6\", \"gridcolor\": \"white\", \"gridwidth\": 2, \"linecolor\": \"white\", \"showbackground\": true, \"ticks\": \"\", \"zerolinecolor\": \"white\"}, \"yaxis\": {\"backgroundcolor\": \"#E5ECF6\", \"gridcolor\": \"white\", \"gridwidth\": 2, \"linecolor\": \"white\", \"showbackground\": true, \"ticks\": \"\", \"zerolinecolor\": \"white\"}, \"zaxis\": {\"backgroundcolor\": \"#E5ECF6\", \"gridcolor\": \"white\", \"gridwidth\": 2, \"linecolor\": \"white\", \"showbackground\": true, \"ticks\": \"\", \"zerolinecolor\": \"white\"}}, \"shapedefaults\": {\"line\": {\"color\": \"#2a3f5f\"}}, \"ternary\": {\"aaxis\": {\"gridcolor\": \"white\", \"linecolor\": \"white\", \"ticks\": \"\"}, \"baxis\": {\"gridcolor\": \"white\", \"linecolor\": \"white\", \"ticks\": \"\"}, \"bgcolor\": \"#E5ECF6\", \"caxis\": {\"gridcolor\": \"white\", \"linecolor\": \"white\", \"ticks\": \"\"}}, \"title\": {\"x\": 0.05}, \"xaxis\": {\"automargin\": true, \"gridcolor\": \"white\", \"linecolor\": \"white\", \"ticks\": \"\", \"title\": {\"standoff\": 15}, \"zerolinecolor\": \"white\", \"zerolinewidth\": 2}, \"yaxis\": {\"automargin\": true, \"gridcolor\": \"white\", \"linecolor\": \"white\", \"ticks\": \"\", \"title\": {\"standoff\": 15}, \"zerolinecolor\": \"white\", \"zerolinewidth\": 2}}}, \"xaxis\": {\"anchor\": \"y\", \"domain\": [0.0, 1.0], \"title\": {\"text\": \"Query\"}}, \"yaxis\": {\"anchor\": \"x\", \"domain\": [0.0, 1.0], \"title\": {\"text\": \"Bias measure\"}}},\n",
              "                        {\"responsive\": true}\n",
              "                    ).then(function(){\n",
              "                            \n",
              "var gd = document.getElementById('fbaf5d8c-a8c2-48bc-98f1-c2bf7a25b560');\n",
              "var x = new MutationObserver(function (mutations, observer) {{\n",
              "        var display = window.getComputedStyle(gd).display;\n",
              "        if (!display || display === 'none') {{\n",
              "            console.log([gd, 'removed!']);\n",
              "            Plotly.purge(gd);\n",
              "            observer.disconnect();\n",
              "        }}\n",
              "}});\n",
              "\n",
              "// Listen for the removal of the full notebook cells\n",
              "var notebookContainer = gd.closest('#notebook-container');\n",
              "if (notebookContainer) {{\n",
              "    x.observe(notebookContainer, {childList: true});\n",
              "}}\n",
              "\n",
              "// Listen for the clearing of the current output cell\n",
              "var outputEl = gd.closest('.output');\n",
              "if (outputEl) {{\n",
              "    x.observe(outputEl, {childList: true});\n",
              "}}\n",
              "\n",
              "                        })\n",
              "                };\n",
              "                \n",
              "            </script>\n",
              "        </div>\n",
              "</body>\n",
              "</html>"
            ]
          },
          "metadata": {
            "tags": []
          }
        }
      ]
    },
    {
      "cell_type": "code",
      "metadata": {
        "colab": {
          "base_uri": "https://localhost:8080/",
          "height": 136
        },
        "id": "lteXui0d2Asf",
        "outputId": "3fe3c508-6f1a-49ee-93c0-bc1cd1aa6718"
      },
      "source": [
        "ect_results = run_queries(ECT,\n",
        "                        queries,\n",
        "                        [english_512, word2vec_model],\n",
        "                        aggregate_results=True,\n",
        "                        return_only_aggregation=True,\n",
        "                        queries_set_name='Gender bias')\n",
        "ect_results"
      ],
      "execution_count": null,
      "outputs": [
        {
          "output_type": "execute_result",
          "data": {
            "text/html": [
              "<div>\n",
              "<style scoped>\n",
              "    .dataframe tbody tr th:only-of-type {\n",
              "        vertical-align: middle;\n",
              "    }\n",
              "\n",
              "    .dataframe tbody tr th {\n",
              "        vertical-align: top;\n",
              "    }\n",
              "\n",
              "    .dataframe thead th {\n",
              "        text-align: right;\n",
              "    }\n",
              "</style>\n",
              "<table border=\"1\" class=\"dataframe\">\n",
              "  <thead>\n",
              "    <tr style=\"text-align: right;\">\n",
              "      <th></th>\n",
              "      <th>ECT: Gender bias average of abs values score</th>\n",
              "    </tr>\n",
              "    <tr>\n",
              "      <th>model_name</th>\n",
              "      <th></th>\n",
              "    </tr>\n",
              "  </thead>\n",
              "  <tbody>\n",
              "    <tr>\n",
              "      <th>english-512</th>\n",
              "      <td>0.540832</td>\n",
              "    </tr>\n",
              "    <tr>\n",
              "      <th>word2vec-google-news-300</th>\n",
              "      <td>0.743634</td>\n",
              "    </tr>\n",
              "  </tbody>\n",
              "</table>\n",
              "</div>"
            ],
            "text/plain": [
              "                          ECT: Gender bias average of abs values score\n",
              "model_name                                                            \n",
              "english-512                                                   0.540832\n",
              "word2vec-google-news-300                                      0.743634"
            ]
          },
          "metadata": {
            "tags": []
          },
          "execution_count": 88
        }
      ]
    }
  ]
}