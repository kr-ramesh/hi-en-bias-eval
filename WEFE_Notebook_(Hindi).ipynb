{
  "nbformat": 4,
  "nbformat_minor": 0,
  "metadata": {
    "colab": {
      "name": "WEFE Notebook (Hindi).ipynb",
      "provenance": [],
      "collapsed_sections": [],
      "include_colab_link": true
    },
    "kernelspec": {
      "display_name": "Python 3",
      "name": "python3"
    },
    "accelerator": "GPU"
  },
  "cells": [
    {
      "cell_type": "markdown",
      "metadata": {
        "id": "view-in-github",
        "colab_type": "text"
      },
      "source": [
        "<a href=\"https://colab.research.google.com/github/stolenpyjak/hi-en-bias-eval/blob/main/WEFE_Notebook_(Hindi).ipynb\" target=\"_parent\"><img src=\"https://colab.research.google.com/assets/colab-badge.svg\" alt=\"Open In Colab\"/></a>"
      ]
    },
    {
      "cell_type": "markdown",
      "metadata": {
        "id": "fdT0UII81bbg"
      },
      "source": [
        "**Word Embedding Fairness Evaluation**\n",
        "\n",
        "Link to the documentation for the same: [WEFE Documentation](https://wefe.readthedocs.io/en/latest/loading_embeddings.html)\n",
        "\n",
        "\n"
      ]
    },
    {
      "cell_type": "code",
      "metadata": {
        "id": "aKZ7QJkxO-Zq",
        "colab": {
          "base_uri": "https://localhost:8080/"
        },
        "outputId": "6022750b-70bf-434f-923a-1ecfe633e734"
      },
      "source": [
        "!pip install wefe==0.1.5\n",
        "#WEAT\n",
        "import wefe"
      ],
      "execution_count": null,
      "outputs": [
        {
          "output_type": "stream",
          "text": [
            "Collecting wefe==0.1.5\n",
            "\u001b[?25l  Downloading https://files.pythonhosted.org/packages/e6/11/f49bc6a4a9637bcf354395ce9980f52a4632e2a162e0fabcd27c2c396a20/wefe-0.1.5-py3-none-any.whl (339kB)\n",
            "\r\u001b[K     |█                               | 10kB 24.2MB/s eta 0:00:01\r\u001b[K     |██                              | 20kB 30.7MB/s eta 0:00:01\r\u001b[K     |███                             | 30kB 21.3MB/s eta 0:00:01\r\u001b[K     |███▉                            | 40kB 24.5MB/s eta 0:00:01\r\u001b[K     |████▉                           | 51kB 24.4MB/s eta 0:00:01\r\u001b[K     |█████▉                          | 61kB 27.0MB/s eta 0:00:01\r\u001b[K     |██████▊                         | 71kB 24.2MB/s eta 0:00:01\r\u001b[K     |███████▊                        | 81kB 25.3MB/s eta 0:00:01\r\u001b[K     |████████▊                       | 92kB 22.5MB/s eta 0:00:01\r\u001b[K     |█████████▋                      | 102kB 22.7MB/s eta 0:00:01\r\u001b[K     |██████████▋                     | 112kB 22.7MB/s eta 0:00:01\r\u001b[K     |███████████▋                    | 122kB 22.7MB/s eta 0:00:01\r\u001b[K     |████████████▌                   | 133kB 22.7MB/s eta 0:00:01\r\u001b[K     |█████████████▌                  | 143kB 22.7MB/s eta 0:00:01\r\u001b[K     |██████████████▌                 | 153kB 22.7MB/s eta 0:00:01\r\u001b[K     |███████████████▍                | 163kB 22.7MB/s eta 0:00:01\r\u001b[K     |████████████████▍               | 174kB 22.7MB/s eta 0:00:01\r\u001b[K     |█████████████████▍              | 184kB 22.7MB/s eta 0:00:01\r\u001b[K     |██████████████████▎             | 194kB 22.7MB/s eta 0:00:01\r\u001b[K     |███████████████████▎            | 204kB 22.7MB/s eta 0:00:01\r\u001b[K     |████████████████████▎           | 215kB 22.7MB/s eta 0:00:01\r\u001b[K     |█████████████████████▏          | 225kB 22.7MB/s eta 0:00:01\r\u001b[K     |██████████████████████▏         | 235kB 22.7MB/s eta 0:00:01\r\u001b[K     |███████████████████████▏        | 245kB 22.7MB/s eta 0:00:01\r\u001b[K     |████████████████████████        | 256kB 22.7MB/s eta 0:00:01\r\u001b[K     |█████████████████████████       | 266kB 22.7MB/s eta 0:00:01\r\u001b[K     |██████████████████████████      | 276kB 22.7MB/s eta 0:00:01\r\u001b[K     |███████████████████████████     | 286kB 22.7MB/s eta 0:00:01\r\u001b[K     |████████████████████████████    | 296kB 22.7MB/s eta 0:00:01\r\u001b[K     |█████████████████████████████   | 307kB 22.7MB/s eta 0:00:01\r\u001b[K     |█████████████████████████████▉  | 317kB 22.7MB/s eta 0:00:01\r\u001b[K     |██████████████████████████████▉ | 327kB 22.7MB/s eta 0:00:01\r\u001b[K     |███████████████████████████████▉| 337kB 22.7MB/s eta 0:00:01\r\u001b[K     |████████████████████████████████| 348kB 22.7MB/s \n",
            "\u001b[?25hRequirement already satisfied: scipy in /usr/local/lib/python3.7/dist-packages (from wefe==0.1.5) (1.4.1)\n",
            "Requirement already satisfied: scikit-learn in /usr/local/lib/python3.7/dist-packages (from wefe==0.1.5) (0.22.2.post1)\n",
            "Requirement already satisfied: plotly in /usr/local/lib/python3.7/dist-packages (from wefe==0.1.5) (4.4.1)\n",
            "Requirement already satisfied: numpy in /usr/local/lib/python3.7/dist-packages (from wefe==0.1.5) (1.19.5)\n",
            "Requirement already satisfied: pandas in /usr/local/lib/python3.7/dist-packages (from wefe==0.1.5) (1.1.5)\n",
            "Requirement already satisfied: gensim in /usr/local/lib/python3.7/dist-packages (from wefe==0.1.5) (3.6.0)\n",
            "Requirement already satisfied: joblib>=0.11 in /usr/local/lib/python3.7/dist-packages (from scikit-learn->wefe==0.1.5) (1.0.1)\n",
            "Requirement already satisfied: six in /usr/local/lib/python3.7/dist-packages (from plotly->wefe==0.1.5) (1.15.0)\n",
            "Requirement already satisfied: retrying>=1.3.3 in /usr/local/lib/python3.7/dist-packages (from plotly->wefe==0.1.5) (1.3.3)\n",
            "Requirement already satisfied: pytz>=2017.2 in /usr/local/lib/python3.7/dist-packages (from pandas->wefe==0.1.5) (2018.9)\n",
            "Requirement already satisfied: python-dateutil>=2.7.3 in /usr/local/lib/python3.7/dist-packages (from pandas->wefe==0.1.5) (2.8.1)\n",
            "Requirement already satisfied: smart-open>=1.2.1 in /usr/local/lib/python3.7/dist-packages (from gensim->wefe==0.1.5) (5.0.0)\n",
            "Installing collected packages: wefe\n",
            "Successfully installed wefe-0.1.5\n"
          ],
          "name": "stdout"
        }
      ]
    },
    {
      "cell_type": "code",
      "metadata": {
        "colab": {
          "base_uri": "https://localhost:8080/"
        },
        "id": "QQg8csQIZ7Hx",
        "outputId": "c93eef1d-8b21-4fd4-dd20-2f6928e383eb"
      },
      "source": [
        "!git clone https://github.com/OpenNMT/OpenNMT-tf.git\n",
        "!pip install OpenNMT-tf[tensorflow_gpu]"
      ],
      "execution_count": null,
      "outputs": [
        {
          "output_type": "stream",
          "text": [
            "Cloning into 'OpenNMT-tf'...\n",
            "remote: Enumerating objects: 29444, done.\u001b[K\n",
            "remote: Counting objects: 100% (1101/1101), done.\u001b[K\n",
            "remote: Compressing objects: 100% (460/460), done.\u001b[K\n",
            "remote: Total 29444 (delta 936), reused 724 (delta 635), pack-reused 28343\u001b[K\n",
            "Receiving objects: 100% (29444/29444), 20.10 MiB | 29.83 MiB/s, done.\n",
            "Resolving deltas: 100% (24600/24600), done.\n",
            "Collecting OpenNMT-tf[tensorflow_gpu]\n",
            "\u001b[?25l  Downloading https://files.pythonhosted.org/packages/ce/52/0669f430f051f49db9ef204d7d7e6c7e60b53b1449e8b15615b0c38164c2/OpenNMT_tf-2.18.0-py3-none-any.whl (154kB)\n",
            "\u001b[K     |████████████████████████████████| 163kB 14.8MB/s \n",
            "\u001b[33m  WARNING: OpenNMT-tf 2.18.0 does not provide the extra 'tensorflow_gpu'\u001b[0m\n",
            "\u001b[?25hCollecting rouge<2,>=1.0\n",
            "  Downloading https://files.pythonhosted.org/packages/43/cc/e18e33be20971ff73a056ebdb023476b5a545e744e3fc22acd8c758f1e0d/rouge-1.0.0-py3-none-any.whl\n",
            "Collecting sacrebleu<1.6,>=1.5.0\n",
            "\u001b[?25l  Downloading https://files.pythonhosted.org/packages/7e/57/0c7ca4e31a126189dab99c19951910bd081dea5bbd25f24b77107750eae7/sacrebleu-1.5.1-py3-none-any.whl (54kB)\n",
            "\u001b[K     |████████████████████████████████| 61kB 10.0MB/s \n",
            "\u001b[?25hCollecting ctranslate2<2,>=1.18.1; platform_system == \"Linux\" or platform_system == \"Darwin\"\n",
            "\u001b[?25l  Downloading https://files.pythonhosted.org/packages/70/dd/2bdc55f8dbdbadb6c8d69bf3c14c78e400cabd8b91b7ebe64220b6e2ffeb/ctranslate2-1.20.0-cp37-cp37m-manylinux2014_x86_64.whl (76.8MB)\n",
            "\u001b[K     |████████████████████████████████| 76.8MB 37kB/s \n",
            "\u001b[?25hCollecting tensorflow-addons<0.13,>=0.12\n",
            "\u001b[?25l  Downloading https://files.pythonhosted.org/packages/74/e3/56d2fe76f0bb7c88ed9b2a6a557e25e83e252aec08f13de34369cd850a0b/tensorflow_addons-0.12.1-cp37-cp37m-manylinux2010_x86_64.whl (703kB)\n",
            "\u001b[K     |████████████████████████████████| 706kB 57.5MB/s \n",
            "\u001b[?25hCollecting pyyaml<5.5,>=5.3\n",
            "\u001b[?25l  Downloading https://files.pythonhosted.org/packages/7a/a5/393c087efdc78091afa2af9f1378762f9821c9c1d7a22c5753fb5ac5f97a/PyYAML-5.4.1-cp37-cp37m-manylinux1_x86_64.whl (636kB)\n",
            "\u001b[K     |████████████████████████████████| 645kB 50.6MB/s \n",
            "\u001b[?25hCollecting pyonmttok<2,>=1.23.0; platform_system == \"Linux\" or platform_system == \"Darwin\"\n",
            "\u001b[?25l  Downloading https://files.pythonhosted.org/packages/90/67/cd64b4c2fd0a83eb1088e31e0217b612281d014299993424420f933df3e7/pyonmttok-1.26.0-cp37-cp37m-manylinux1_x86_64.whl (14.3MB)\n",
            "\u001b[K     |████████████████████████████████| 14.3MB 250kB/s \n",
            "\u001b[?25hRequirement already satisfied: six in /usr/local/lib/python3.7/dist-packages (from rouge<2,>=1.0->OpenNMT-tf[tensorflow_gpu]) (1.15.0)\n",
            "Collecting portalocker==2.0.0\n",
            "  Downloading https://files.pythonhosted.org/packages/89/a6/3814b7107e0788040870e8825eebf214d72166adf656ba7d4bf14759a06a/portalocker-2.0.0-py2.py3-none-any.whl\n",
            "Requirement already satisfied: numpy in /usr/local/lib/python3.7/dist-packages (from ctranslate2<2,>=1.18.1; platform_system == \"Linux\" or platform_system == \"Darwin\"->OpenNMT-tf[tensorflow_gpu]) (1.19.5)\n",
            "Requirement already satisfied: typeguard>=2.7 in /usr/local/lib/python3.7/dist-packages (from tensorflow-addons<0.13,>=0.12->OpenNMT-tf[tensorflow_gpu]) (2.7.1)\n",
            "Installing collected packages: rouge, portalocker, sacrebleu, ctranslate2, tensorflow-addons, pyyaml, pyonmttok, OpenNMT-tf\n",
            "  Found existing installation: PyYAML 3.13\n",
            "    Uninstalling PyYAML-3.13:\n",
            "      Successfully uninstalled PyYAML-3.13\n",
            "Successfully installed OpenNMT-tf-2.18.0 ctranslate2-1.20.0 portalocker-2.0.0 pyonmttok-1.26.0 pyyaml-5.4.1 rouge-1.0.0 sacrebleu-1.5.1 tensorflow-addons-0.12.1\n"
          ],
          "name": "stdout"
        }
      ]
    },
    {
      "cell_type": "code",
      "metadata": {
        "colab": {
          "base_uri": "https://localhost:8080/"
        },
        "id": "MCkjGHzsKjv1",
        "outputId": "9aefd9b2-363b-460d-a6a0-87ce02e5c6f4"
      },
      "source": [
        "from google.colab import drive\n",
        "drive.mount('/content/drive',force_remount=True)"
      ],
      "execution_count": null,
      "outputs": [
        {
          "output_type": "stream",
          "text": [
            "Mounted at /content/drive\n"
          ],
          "name": "stdout"
        }
      ]
    },
    {
      "cell_type": "code",
      "metadata": {
        "colab": {
          "base_uri": "https://localhost:8080/"
        },
        "id": "0zcqD382Z9Uc",
        "outputId": "fc5adcf4-a720-4e06-ee63-289af6e08cff"
      },
      "source": [
        "%cd drive/MyDrive/FinalModel"
      ],
      "execution_count": null,
      "outputs": [
        {
          "output_type": "stream",
          "text": [
            "/content/drive/MyDrive/FinalModel\n"
          ],
          "name": "stdout"
        }
      ]
    },
    {
      "cell_type": "code",
      "metadata": {
        "id": "mlhSWxWCmwcI"
      },
      "source": [
        "import tensorflow as tf\n",
        "import opennmt\n",
        "\n",
        "model = opennmt.models.TransformerBase()\n",
        "model.initialize({\n",
        "    \"source_vocabulary\": \"src-vocab-bpe.txt\",\n",
        "    \"target_vocabulary\": \"tgt-vocab-bpe.txt\"\n",
        "})\n",
        "model.create_variables()\n",
        "checkpoint = tf.train.Checkpoint(model=model)\n",
        "checkpoint.restore(\"ckpt-70000\")\n",
        "\n",
        "source_embedding = model.features_inputter.embedding.numpy()\n",
        "target_embedding = model.labels_inputter.embedding.numpy()"
      ],
      "execution_count": null,
      "outputs": []
    },
    {
      "cell_type": "code",
      "metadata": {
        "id": "CgvVZ7rn_cVG"
      },
      "source": [
        "words=[]\n",
        "with open(\"src-vocab-bpe.txt\",\"r\") as f:\n",
        "  content=f.readlines()\n",
        "  for i in content:\n",
        "    words.append(i.strip())\n",
        "f.close()"
      ],
      "execution_count": null,
      "outputs": []
    },
    {
      "cell_type": "code",
      "metadata": {
        "id": "692Tt49Gr85U"
      },
      "source": [
        "for i in words:\n",
        "  if i==\"\":\n",
        "    print(i)"
      ],
      "execution_count": null,
      "outputs": []
    },
    {
      "cell_type": "code",
      "metadata": {
        "id": "lEJIv9jncGj-"
      },
      "source": [
        "words.append('unk')"
      ],
      "execution_count": null,
      "outputs": []
    },
    {
      "cell_type": "code",
      "metadata": {
        "id": "TTReSHCCn3Bc"
      },
      "source": [
        "from gensim.models.keyedvectors import WordEmbeddingsKeyedVectors\n",
        "\n",
        "test = WordEmbeddingsKeyedVectors(vector_size=512)\n",
        "\n",
        "test.add(entities=words, weights=target_embedding)\n"
      ],
      "execution_count": null,
      "outputs": []
    },
    {
      "cell_type": "code",
      "metadata": {
        "id": "BnRRjiMfcj7C",
        "colab": {
          "base_uri": "https://localhost:8080/"
        },
        "outputId": "a1733265-588b-450f-821c-0cb6b365beed"
      },
      "source": [
        "test.load(\"emb_hi.gensim\")"
      ],
      "execution_count": null,
      "outputs": [
        {
          "output_type": "execute_result",
          "data": {
            "text/plain": [
              "<gensim.models.keyedvectors.WordEmbeddingsKeyedVectors at 0x7f58d4cd9390>"
            ]
          },
          "metadata": {
            "tags": []
          },
          "execution_count": 10
        }
      ]
    },
    {
      "cell_type": "code",
      "metadata": {
        "colab": {
          "base_uri": "https://localhost:8080/"
        },
        "id": "ZVlCTKqV1ngi",
        "outputId": "39ad096d-f444-40f8-8b73-f599e39db547"
      },
      "source": [
        "for i,n in embeddings_index.items():\n",
        "  print(i)\n",
        "  print(len(n))\n",
        "  break"
      ],
      "execution_count": null,
      "outputs": [
        {
          "output_type": "stream",
          "text": [
            "SOS\n",
            "256\n"
          ],
          "name": "stdout"
        }
      ]
    },
    {
      "cell_type": "code",
      "metadata": {
        "id": "bcDkqqPe8cIS",
        "colab": {
          "base_uri": "https://localhost:8080/",
          "height": 35
        },
        "outputId": "499129c8-7b12-4464-eadd-6722bf834c9c"
      },
      "source": [
        "from wefe import WordEmbeddingModel, Query, WEAT\n",
        "import gensim.downloader as api\n",
        "\n",
        "hindi_keyed_vectors = test\n",
        "model_hindi = WordEmbeddingModel(test, 'hi-512')\n",
        "\n",
        "\"\"\"hindi_keyed_vectors = hindi_embedding.precomputed_word_embeddings\n",
        "hindi_300 = WordEmbeddingModel(hindi_keyed_vectors, 'hi-300')\"\"\""
      ],
      "execution_count": null,
      "outputs": [
        {
          "output_type": "execute_result",
          "data": {
            "application/vnd.google.colaboratory.intrinsic+json": {
              "type": "string"
            },
            "text/plain": [
              "\"hindi_keyed_vectors = hindi_embedding.precomputed_word_embeddings\\nhindi_300 = WordEmbeddingModel(hindi_keyed_vectors, 'hi-300')\""
            ]
          },
          "metadata": {
            "tags": []
          },
          "execution_count": 11
        }
      ]
    },
    {
      "cell_type": "code",
      "metadata": {
        "id": "8T1Z2NO4lhJn",
        "colab": {
          "base_uri": "https://localhost:8080/"
        },
        "outputId": "23609035-3e0a-419a-8048-93258838af62"
      },
      "source": [
        "!pip install flair\n",
        "from flair.embeddings import WordEmbeddings"
      ],
      "execution_count": null,
      "outputs": [
        {
          "output_type": "stream",
          "text": [
            "Collecting flair\n",
            "\u001b[?25l  Downloading https://files.pythonhosted.org/packages/f0/3a/1b46a0220d6176b22bcb9336619d1731301bc2c75fa926a9ef953e6e4d58/flair-0.8.0.post1-py3-none-any.whl (284kB)\n",
            "\r\u001b[K     |█▏                              | 10kB 23.3MB/s eta 0:00:01\r\u001b[K     |██▎                             | 20kB 30.9MB/s eta 0:00:01\r\u001b[K     |███▌                            | 30kB 23.9MB/s eta 0:00:01\r\u001b[K     |████▋                           | 40kB 27.6MB/s eta 0:00:01\r\u001b[K     |█████▊                          | 51kB 25.9MB/s eta 0:00:01\r\u001b[K     |███████                         | 61kB 28.6MB/s eta 0:00:01\r\u001b[K     |████████                        | 71kB 18.9MB/s eta 0:00:01\r\u001b[K     |█████████▏                      | 81kB 19.9MB/s eta 0:00:01\r\u001b[K     |██████████▍                     | 92kB 18.6MB/s eta 0:00:01\r\u001b[K     |███████████▌                    | 102kB 18.7MB/s eta 0:00:01\r\u001b[K     |████████████▋                   | 112kB 18.7MB/s eta 0:00:01\r\u001b[K     |█████████████▉                  | 122kB 18.7MB/s eta 0:00:01\r\u001b[K     |███████████████                 | 133kB 18.7MB/s eta 0:00:01\r\u001b[K     |████████████████                | 143kB 18.7MB/s eta 0:00:01\r\u001b[K     |█████████████████▎              | 153kB 18.7MB/s eta 0:00:01\r\u001b[K     |██████████████████▍             | 163kB 18.7MB/s eta 0:00:01\r\u001b[K     |███████████████████▋            | 174kB 18.7MB/s eta 0:00:01\r\u001b[K     |████████████████████▊           | 184kB 18.7MB/s eta 0:00:01\r\u001b[K     |█████████████████████▉          | 194kB 18.7MB/s eta 0:00:01\r\u001b[K     |███████████████████████         | 204kB 18.7MB/s eta 0:00:01\r\u001b[K     |████████████████████████▏       | 215kB 18.7MB/s eta 0:00:01\r\u001b[K     |█████████████████████████▎      | 225kB 18.7MB/s eta 0:00:01\r\u001b[K     |██████████████████████████▌     | 235kB 18.7MB/s eta 0:00:01\r\u001b[K     |███████████████████████████▋    | 245kB 18.7MB/s eta 0:00:01\r\u001b[K     |████████████████████████████▊   | 256kB 18.7MB/s eta 0:00:01\r\u001b[K     |██████████████████████████████  | 266kB 18.7MB/s eta 0:00:01\r\u001b[K     |███████████████████████████████ | 276kB 18.7MB/s eta 0:00:01\r\u001b[K     |████████████████████████████████| 286kB 18.7MB/s \n",
            "\u001b[?25hRequirement already satisfied: python-dateutil>=2.6.1 in /usr/local/lib/python3.7/dist-packages (from flair) (2.8.1)\n",
            "Collecting sentencepiece==0.1.95\n",
            "\u001b[?25l  Downloading https://files.pythonhosted.org/packages/f5/99/e0808cb947ba10f575839c43e8fafc9cc44e4a7a2c8f79c60db48220a577/sentencepiece-0.1.95-cp37-cp37m-manylinux2014_x86_64.whl (1.2MB)\n",
            "\u001b[K     |████████████████████████████████| 1.2MB 14.9MB/s \n",
            "\u001b[?25hCollecting janome\n",
            "\u001b[?25l  Downloading https://files.pythonhosted.org/packages/a8/63/98858cbead27df7536c7e300c169da0999e9704d02220dc6700b804eeff0/Janome-0.4.1-py2.py3-none-any.whl (19.7MB)\n",
            "\u001b[K     |████████████████████████████████| 19.7MB 1.3MB/s \n",
            "\u001b[?25hCollecting transformers>=4.0.0\n",
            "\u001b[?25l  Downloading https://files.pythonhosted.org/packages/d8/b2/57495b5309f09fa501866e225c84532d1fd89536ea62406b2181933fb418/transformers-4.5.1-py3-none-any.whl (2.1MB)\n",
            "\u001b[K     |████████████████████████████████| 2.1MB 56.4MB/s \n",
            "\u001b[?25hRequirement already satisfied: gensim<=3.8.3,>=3.4.0 in /usr/local/lib/python3.7/dist-packages (from flair) (3.6.0)\n",
            "Collecting torch<=1.7.1,>=1.5.0\n",
            "\u001b[?25l  Downloading https://files.pythonhosted.org/packages/90/5d/095ddddc91c8a769a68c791c019c5793f9c4456a688ddd235d6670924ecb/torch-1.7.1-cp37-cp37m-manylinux1_x86_64.whl (776.8MB)\n",
            "\u001b[K     |████████████████████████████████| 776.8MB 20kB/s \n",
            "\u001b[?25hRequirement already satisfied: hyperopt>=0.1.1 in /usr/local/lib/python3.7/dist-packages (from flair) (0.1.2)\n",
            "Collecting mpld3==0.3\n",
            "\u001b[?25l  Downloading https://files.pythonhosted.org/packages/91/95/a52d3a83d0a29ba0d6898f6727e9858fe7a43f6c2ce81a5fe7e05f0f4912/mpld3-0.3.tar.gz (788kB)\n",
            "\u001b[K     |████████████████████████████████| 798kB 54.8MB/s \n",
            "\u001b[?25hRequirement already satisfied: matplotlib>=2.2.3 in /usr/local/lib/python3.7/dist-packages (from flair) (3.2.2)\n",
            "Collecting langdetect\n",
            "\u001b[?25l  Downloading https://files.pythonhosted.org/packages/56/a3/8407c1e62d5980188b4acc45ef3d94b933d14a2ebc9ef3505f22cf772570/langdetect-1.0.8.tar.gz (981kB)\n",
            "\u001b[K     |████████████████████████████████| 983kB 44.6MB/s \n",
            "\u001b[?25hCollecting deprecated>=1.2.4\n",
            "  Downloading https://files.pythonhosted.org/packages/fb/73/994edfcba74443146c84b91921fcc269374354118d4f452fb0c54c1cbb12/Deprecated-1.2.12-py2.py3-none-any.whl\n",
            "Requirement already satisfied: scikit-learn>=0.21.3 in /usr/local/lib/python3.7/dist-packages (from flair) (0.22.2.post1)\n",
            "Requirement already satisfied: tqdm>=4.26.0 in /usr/local/lib/python3.7/dist-packages (from flair) (4.41.1)\n",
            "Requirement already satisfied: tabulate in /usr/local/lib/python3.7/dist-packages (from flair) (0.8.9)\n",
            "Collecting huggingface-hub\n",
            "  Downloading https://files.pythonhosted.org/packages/a1/88/7b1e45720ecf59c6c6737ff332f41c955963090a18e72acbcbeac6b25e86/huggingface_hub-0.0.8-py3-none-any.whl\n",
            "Collecting ftfy\n",
            "\u001b[?25l  Downloading https://files.pythonhosted.org/packages/ce/b5/5da463f9c7823e0e575e9908d004e2af4b36efa8d02d3d6dad57094fcb11/ftfy-6.0.1.tar.gz (63kB)\n",
            "\u001b[K     |████████████████████████████████| 71kB 11.8MB/s \n",
            "\u001b[?25hRequirement already satisfied: regex in /usr/local/lib/python3.7/dist-packages (from flair) (2019.12.20)\n",
            "Collecting konoha<5.0.0,>=4.0.0\n",
            "  Downloading https://files.pythonhosted.org/packages/02/be/4dd30d56a0a19619deb9bf41ba8202709fa83b1b301b876572cd6dc38117/konoha-4.6.4-py3-none-any.whl\n",
            "Collecting sqlitedict>=1.6.0\n",
            "  Downloading https://files.pythonhosted.org/packages/5c/2d/b1d99e9ad157dd7de9cd0d36a8a5876b13b55e4b75f7498bc96035fb4e96/sqlitedict-1.7.0.tar.gz\n",
            "Requirement already satisfied: numpy<1.20.0 in /usr/local/lib/python3.7/dist-packages (from flair) (1.19.5)\n",
            "Collecting gdown==3.12.2\n",
            "  Downloading https://files.pythonhosted.org/packages/50/21/92c3cfe56f5c0647145c4b0083d0733dd4890a057eb100a8eeddf949ffe9/gdown-3.12.2.tar.gz\n",
            "  Installing build dependencies ... \u001b[?25l\u001b[?25hdone\n",
            "  Getting requirements to build wheel ... \u001b[?25l\u001b[?25hdone\n",
            "    Preparing wheel metadata ... \u001b[?25l\u001b[?25hdone\n",
            "Collecting segtok>=1.5.7\n",
            "  Downloading https://files.pythonhosted.org/packages/41/08/582dab5f4b1d5ca23bc6927b4bb977c8ff7f3a87a3b98844ef833e2f5623/segtok-1.5.10.tar.gz\n",
            "Requirement already satisfied: lxml in /usr/local/lib/python3.7/dist-packages (from flair) (4.2.6)\n",
            "Collecting bpemb>=0.3.2\n",
            "  Downloading https://files.pythonhosted.org/packages/f2/6f/9191b85109772636a8f8accb122900c34db26c091d2793218aa94954524c/bpemb-0.3.3-py3-none-any.whl\n",
            "Requirement already satisfied: six>=1.5 in /usr/local/lib/python3.7/dist-packages (from python-dateutil>=2.6.1->flair) (1.15.0)\n",
            "Requirement already satisfied: importlib-metadata; python_version < \"3.8\" in /usr/local/lib/python3.7/dist-packages (from transformers>=4.0.0->flair) (3.10.1)\n",
            "Requirement already satisfied: packaging in /usr/local/lib/python3.7/dist-packages (from transformers>=4.0.0->flair) (20.9)\n",
            "Collecting tokenizers<0.11,>=0.10.1\n",
            "\u001b[?25l  Downloading https://files.pythonhosted.org/packages/ae/04/5b870f26a858552025a62f1649c20d29d2672c02ff3c3fb4c688ca46467a/tokenizers-0.10.2-cp37-cp37m-manylinux2010_x86_64.whl (3.3MB)\n",
            "\u001b[K     |████████████████████████████████| 3.3MB 45.5MB/s \n",
            "\u001b[?25hRequirement already satisfied: requests in /usr/local/lib/python3.7/dist-packages (from transformers>=4.0.0->flair) (2.23.0)\n",
            "Collecting sacremoses\n",
            "\u001b[?25l  Downloading https://files.pythonhosted.org/packages/75/ee/67241dc87f266093c533a2d4d3d69438e57d7a90abb216fa076e7d475d4a/sacremoses-0.0.45-py3-none-any.whl (895kB)\n",
            "\u001b[K     |████████████████████████████████| 901kB 49.7MB/s \n",
            "\u001b[?25hRequirement already satisfied: filelock in /usr/local/lib/python3.7/dist-packages (from transformers>=4.0.0->flair) (3.0.12)\n",
            "Requirement already satisfied: scipy>=0.18.1 in /usr/local/lib/python3.7/dist-packages (from gensim<=3.8.3,>=3.4.0->flair) (1.4.1)\n",
            "Requirement already satisfied: smart-open>=1.2.1 in /usr/local/lib/python3.7/dist-packages (from gensim<=3.8.3,>=3.4.0->flair) (5.0.0)\n",
            "Requirement already satisfied: typing-extensions in /usr/local/lib/python3.7/dist-packages (from torch<=1.7.1,>=1.5.0->flair) (3.7.4.3)\n",
            "Requirement already satisfied: networkx in /usr/local/lib/python3.7/dist-packages (from hyperopt>=0.1.1->flair) (2.5.1)\n",
            "Requirement already satisfied: pymongo in /usr/local/lib/python3.7/dist-packages (from hyperopt>=0.1.1->flair) (3.11.3)\n",
            "Requirement already satisfied: future in /usr/local/lib/python3.7/dist-packages (from hyperopt>=0.1.1->flair) (0.16.0)\n",
            "Requirement already satisfied: kiwisolver>=1.0.1 in /usr/local/lib/python3.7/dist-packages (from matplotlib>=2.2.3->flair) (1.3.1)\n",
            "Requirement already satisfied: cycler>=0.10 in /usr/local/lib/python3.7/dist-packages (from matplotlib>=2.2.3->flair) (0.10.0)\n",
            "Requirement already satisfied: pyparsing!=2.0.4,!=2.1.2,!=2.1.6,>=2.0.1 in /usr/local/lib/python3.7/dist-packages (from matplotlib>=2.2.3->flair) (2.4.7)\n",
            "Requirement already satisfied: wrapt<2,>=1.10 in /usr/local/lib/python3.7/dist-packages (from deprecated>=1.2.4->flair) (1.12.1)\n",
            "Requirement already satisfied: joblib>=0.11 in /usr/local/lib/python3.7/dist-packages (from scikit-learn>=0.21.3->flair) (1.0.1)\n",
            "Requirement already satisfied: wcwidth in /usr/local/lib/python3.7/dist-packages (from ftfy->flair) (0.2.5)\n",
            "Collecting overrides<4.0.0,>=3.0.0\n",
            "  Downloading https://files.pythonhosted.org/packages/ff/b1/10f69c00947518e6676bbd43e739733048de64b8dd998e9c2d5a71f44c5d/overrides-3.1.0.tar.gz\n",
            "Requirement already satisfied: zipp>=0.5 in /usr/local/lib/python3.7/dist-packages (from importlib-metadata; python_version < \"3.8\"->transformers>=4.0.0->flair) (3.4.1)\n",
            "Requirement already satisfied: certifi>=2017.4.17 in /usr/local/lib/python3.7/dist-packages (from requests->transformers>=4.0.0->flair) (2020.12.5)\n",
            "Requirement already satisfied: idna<3,>=2.5 in /usr/local/lib/python3.7/dist-packages (from requests->transformers>=4.0.0->flair) (2.10)\n",
            "Requirement already satisfied: chardet<4,>=3.0.2 in /usr/local/lib/python3.7/dist-packages (from requests->transformers>=4.0.0->flair) (3.0.4)\n",
            "Requirement already satisfied: urllib3!=1.25.0,!=1.25.1,<1.26,>=1.21.1 in /usr/local/lib/python3.7/dist-packages (from requests->transformers>=4.0.0->flair) (1.24.3)\n",
            "Requirement already satisfied: click in /usr/local/lib/python3.7/dist-packages (from sacremoses->transformers>=4.0.0->flair) (7.1.2)\n",
            "Requirement already satisfied: decorator<5,>=4.3 in /usr/local/lib/python3.7/dist-packages (from networkx->hyperopt>=0.1.1->flair) (4.4.2)\n",
            "Building wheels for collected packages: gdown\n",
            "  Building wheel for gdown (PEP 517) ... \u001b[?25l\u001b[?25hdone\n",
            "  Created wheel for gdown: filename=gdown-3.12.2-cp37-none-any.whl size=9693 sha256=95dcf5b66f3369d9929d9d224c72a29ffbad4ab4b41bb692e0076667cc63c665\n",
            "  Stored in directory: /root/.cache/pip/wheels/81/d0/d7/d9983facc6f2775411803e0e2d30ebf98efbf2fc6e57701e09\n",
            "Successfully built gdown\n",
            "Building wheels for collected packages: mpld3, langdetect, ftfy, sqlitedict, segtok, overrides\n",
            "  Building wheel for mpld3 (setup.py) ... \u001b[?25l\u001b[?25hdone\n",
            "  Created wheel for mpld3: filename=mpld3-0.3-cp37-none-any.whl size=116679 sha256=a2eb08b2c0d35d9b3072edbdd55f3f648d0f7ceec03205a91b8e38e647f8414e\n",
            "  Stored in directory: /root/.cache/pip/wheels/c0/47/fb/8a64f89aecfe0059830479308ad42d62e898a3e3cefdf6ba28\n",
            "  Building wheel for langdetect (setup.py) ... \u001b[?25l\u001b[?25hdone\n",
            "  Created wheel for langdetect: filename=langdetect-1.0.8-cp37-none-any.whl size=993193 sha256=1ca60069885994b8b318a847f1dc7e9d555d82c09ecacd06eb6d5cd0f397ac17\n",
            "  Stored in directory: /root/.cache/pip/wheels/8d/b3/aa/6d99de9f3841d7d3d40a60ea06e6d669e8e5012e6c8b947a57\n",
            "  Building wheel for ftfy (setup.py) ... \u001b[?25l\u001b[?25hdone\n",
            "  Created wheel for ftfy: filename=ftfy-6.0.1-cp37-none-any.whl size=41573 sha256=b0f244437ecf9d91c0723bb01276813eff461f4e9dd5720c0e46e3c757f60160\n",
            "  Stored in directory: /root/.cache/pip/wheels/ae/73/c7/9056e14b04919e5c262fe80b54133b1a88d73683d05d7ac65c\n",
            "  Building wheel for sqlitedict (setup.py) ... \u001b[?25l\u001b[?25hdone\n",
            "  Created wheel for sqlitedict: filename=sqlitedict-1.7.0-cp37-none-any.whl size=14376 sha256=7413003982c347aaf8e5cb6b08e9a05398f4ba192a17063dc767496d4047e7c5\n",
            "  Stored in directory: /root/.cache/pip/wheels/cf/c6/4f/2c64a43f041415eb8b8740bd80e15e92f0d46c5e464d8e4b9b\n",
            "  Building wheel for segtok (setup.py) ... \u001b[?25l\u001b[?25hdone\n",
            "  Created wheel for segtok: filename=segtok-1.5.10-cp37-none-any.whl size=25019 sha256=1915153e28c18d7237b7b9608dd1e4b80e1f84297ee60863c863ccf6307f461f\n",
            "  Stored in directory: /root/.cache/pip/wheels/b4/39/f6/9ca1c5cabde964d728023b5751c3a206a5c8cc40252321fb6b\n",
            "  Building wheel for overrides (setup.py) ... \u001b[?25l\u001b[?25hdone\n",
            "  Created wheel for overrides: filename=overrides-3.1.0-cp37-none-any.whl size=10174 sha256=5ef5ffea44b8895159e37f4637a3e4539c8674acb0ec604066d6287735eb052c\n",
            "  Stored in directory: /root/.cache/pip/wheels/5c/24/13/6ef8600e6f147c95e595f1289a86a3cc82ed65df57582c65a9\n",
            "Successfully built mpld3 langdetect ftfy sqlitedict segtok overrides\n",
            "\u001b[31mERROR: torchvision 0.9.1+cu101 has requirement torch==1.8.1, but you'll have torch 1.7.1 which is incompatible.\u001b[0m\n",
            "\u001b[31mERROR: torchtext 0.9.1 has requirement torch==1.8.1, but you'll have torch 1.7.1 which is incompatible.\u001b[0m\n",
            "\u001b[31mERROR: konoha 4.6.4 has requirement requests<3.0.0,>=2.25.1, but you'll have requests 2.23.0 which is incompatible.\u001b[0m\n",
            "Installing collected packages: sentencepiece, janome, tokenizers, sacremoses, transformers, torch, mpld3, langdetect, deprecated, huggingface-hub, ftfy, overrides, konoha, sqlitedict, gdown, segtok, bpemb, flair\n",
            "  Found existing installation: torch 1.8.1+cu101\n",
            "    Uninstalling torch-1.8.1+cu101:\n",
            "      Successfully uninstalled torch-1.8.1+cu101\n",
            "  Found existing installation: gdown 3.6.4\n",
            "    Uninstalling gdown-3.6.4:\n",
            "      Successfully uninstalled gdown-3.6.4\n",
            "Successfully installed bpemb-0.3.3 deprecated-1.2.12 flair-0.8.0.post1 ftfy-6.0.1 gdown-3.12.2 huggingface-hub-0.0.8 janome-0.4.1 konoha-4.6.4 langdetect-1.0.8 mpld3-0.3 overrides-3.1.0 sacremoses-0.0.45 segtok-1.5.10 sentencepiece-0.1.95 sqlitedict-1.7.0 tokenizers-0.10.2 torch-1.7.1 transformers-4.5.1\n"
          ],
          "name": "stdout"
        }
      ]
    },
    {
      "cell_type": "code",
      "metadata": {
        "id": "UrdgAKXTnG01",
        "colab": {
          "base_uri": "https://localhost:8080/"
        },
        "outputId": "6f94d772-95a6-4288-af1c-a840ff0540ca"
      },
      "source": [
        "hindi_embedding = WordEmbeddings('hi')\n",
        "hindi_pretrained = hindi_embedding.precomputed_word_embeddings\n",
        "hindi_300 = WordEmbeddingModel(hindi_pretrained, 'hi-300dim')"
      ],
      "execution_count": null,
      "outputs": [
        {
          "output_type": "stream",
          "text": [
            "2021-04-24 07:45:19,748 https://flair.informatik.hu-berlin.de/resources/embeddings/token/hi-wiki-fasttext-300d-1M.vectors.npy not found in cache, downloading to /tmp/tmpp158r92p\n"
          ],
          "name": "stdout"
        },
        {
          "output_type": "stream",
          "text": [
            "100%|██████████| 189618128/189618128 [00:07<00:00, 25178753.43B/s]"
          ],
          "name": "stderr"
        },
        {
          "output_type": "stream",
          "text": [
            "2021-04-24 07:45:27,634 copying /tmp/tmpp158r92p to cache at /root/.flair/embeddings/hi-wiki-fasttext-300d-1M.vectors.npy\n"
          ],
          "name": "stdout"
        },
        {
          "output_type": "stream",
          "text": [
            "\n"
          ],
          "name": "stderr"
        },
        {
          "output_type": "stream",
          "text": [
            "2021-04-24 07:45:28,687 removing temp file /tmp/tmpp158r92p\n",
            "2021-04-24 07:45:30,375 https://flair.informatik.hu-berlin.de/resources/embeddings/token/hi-wiki-fasttext-300d-1M not found in cache, downloading to /tmp/tmpqm_u9ycf\n"
          ],
          "name": "stdout"
        },
        {
          "output_type": "stream",
          "text": [
            "100%|██████████| 7477215/7477215 [00:00<00:00, 8044032.72B/s]"
          ],
          "name": "stderr"
        },
        {
          "output_type": "stream",
          "text": [
            "2021-04-24 07:45:31,686 copying /tmp/tmpqm_u9ycf to cache at /root/.flair/embeddings/hi-wiki-fasttext-300d-1M\n",
            "2021-04-24 07:45:31,698 removing temp file /tmp/tmpqm_u9ycf\n"
          ],
          "name": "stdout"
        },
        {
          "output_type": "stream",
          "text": [
            "\n"
          ],
          "name": "stderr"
        }
      ]
    },
    {
      "cell_type": "code",
      "metadata": {
        "id": "jJHhGwhGc38p"
      },
      "source": [
        "male=['पुरुष', 'मनुष्य', 'लड़का', 'उसका', 'बेटा', 'पिता', 'चाचा', 'दादा', 'पति', 'भाई', 'साहब']\n",
        "female=['महिला', 'स्री', 'लड़की', 'उसकी', 'बेटी', 'मां', 'चाची', 'दादी', 'पत्नी', 'बहन', 'श्रीमती']\n",
        "\n",
        "career=['प्रबंध', 'व्यवसाय', 'पेशेवर', 'निगम', 'उद्योग', 'कार्यालय', 'व्यापार', 'वेतन', 'काम', 'शिक्षा', 'कॉलेज', 'पैसे']\n",
        "family=['घर', 'परिवार', 'जनक', 'बच्चा', 'शिशु', 'देखभाल', 'शादी', 'विवाह', 'रिश्तेदारों', 'गृहस्थी', 'रिश्ता', 'प्यार']\n",
        "\n",
        "math=['बीजगणित', 'ज्यामिति','हिसाब','समीकरण', 'गणना', 'नंबर', 'गणित', 'संख्या', 'तर्क', 'अंकगणित']\n",
        "arts1=['शायरी', 'कला', 'नृत्य', 'साहित्य', 'उपन्यास', 'संगीत', 'नाटक', 'संस्कृति', 'चित्र', 'थियेटर']\n",
        "\n",
        "science=['विज्ञान', 'प्रौद्योगिकी', 'भौतिक', 'रसायन', 'जीव', 'गणित', 'प्रयोग', 'खगोल', 'अभियांत्रिकी', 'कंप्यूटर']\n",
        "arts2=['शायरी', 'कला', 'नृत्य', 'साहित्य', 'उपन्यास', 'संगीत', 'गाना', 'नाटक', 'संस्कृति', 'चित्र']\n",
        "\"\"\"\n",
        "intelligence=['प्रतिभा', 'आविष्कार', 'अनुकूल', 'सामरिक', 'कल्पनाशील', 'चालाक', 'सावधान', 'वार', 'होशियार', 'चालाक', 'प्रतिभाशाली', 'तार्किक', 'बुद्धिमान', 'कौशल', 'परिहास', 'तार्किक', 'रचनात्मक', 'ज्ञान', 'युक्तिसंगत', 'जिज्ञासु']\n",
        "appearance=['मनोहर', 'प्यारा', 'मोटा', 'कामुक', 'भव्य', 'पतला', 'गंजा', 'पुष्ट', 'फैशनेबल', 'कुरूप', 'मांसल', 'पतला', 'कमज़ोर', 'सुंदर', 'स्वस्थ', 'मोटी', 'कमज़ोर', 'पतला', 'सुंदर', 'मजबूत']\n",
        "\"\"\"\n",
        "strength=['शक्ति', 'मजबूत', 'विश्वास', 'प्रमुख', 'आदेश', 'ज़ोर', 'साहसिक', 'सफल', 'जीत', 'नेता', 'चिल्लाओ', 'गतिशील', 'विजेता', 'शक्तिशाली', 'बल']\n",
        "weakness=['कमज़ोर', 'आत्मसमर्पण', 'डर', 'चपेट', 'दुर्बलता', 'निकालना', 'हार', 'असफलता', 'खोना', 'नाज़ुक', 'डरा', 'परास्त', 'शक्तिहीन', 'बेहोश', 'अपूर्ण']\n",
        "\n",
        "intelligence=['प्रतिभा', 'आविष्कार', 'अनुकूल', 'सामरिक', 'कल्पना', 'सावधान', 'वार', 'होशियार', 'चालाक', 'बुद्धिमान', 'कौशल', 'ज्ञान', 'जिज्ञासु']\n",
        "appearance=['मनोहर', 'प्यारा', 'मोटा', 'भव्य', 'पतला', 'गंजा', 'पुष्ट', 'फैशनेबल', 'मांसल', 'कमज़ोर', 'सुंदर', 'स्वस्थ','आकर्षक']"
      ],
      "execution_count": null,
      "outputs": []
    },
    {
      "cell_type": "code",
      "metadata": {
        "colab": {
          "base_uri": "https://localhost:8080/"
        },
        "id": "RkL68YRAeCWJ",
        "outputId": "965aa9f7-0b29-4ee7-a1d2-56d8247a0401"
      },
      "source": [
        "print(len(male))\n",
        "print(len(female))\n",
        "print(len(career))\n",
        "print(len(family))\n",
        "print(len(math))\n",
        "print(len(arts1))\n",
        "print(len(science))\n",
        "print(len(arts2))\n",
        "print(len(intelligence))\n",
        "print(len(appearance))\n",
        "print(len(strength))\n",
        "print(len(weakness))"
      ],
      "execution_count": null,
      "outputs": [
        {
          "output_type": "stream",
          "text": [
            "11\n",
            "11\n",
            "12\n",
            "12\n",
            "10\n",
            "10\n",
            "10\n",
            "10\n",
            "13\n",
            "13\n",
            "15\n",
            "15\n"
          ],
          "name": "stdout"
        }
      ]
    },
    {
      "cell_type": "code",
      "metadata": {
        "colab": {
          "base_uri": "https://localhost:8080/"
        },
        "id": "jNgfsaoU8EET",
        "outputId": "fc5a7151-275d-45ea-9c98-1a6f33d772b6"
      },
      "source": [
        "contains_duplicates = any(intelligence.count(element) > 1 for element in intelligence)\n",
        "print(contains_duplicates)\n",
        "contains_duplicates = any(appearance.count(element) > 1 for element in appearance)\n",
        "print(contains_duplicates)\n",
        "contains_duplicates = any(male.count(element) > 1 for element in male)\n",
        "print(contains_duplicates)\n",
        "contains_duplicates = any(female.count(element) > 1 for element in female)\n",
        "print(contains_duplicates)\n",
        "contains_duplicates = any(strength.count(element) > 1 for element in strength)\n",
        "print(contains_duplicates)\n",
        "contains_duplicates = any(weakness.count(element) > 1 for element in weakness)\n",
        "print(contains_duplicates)\n",
        "contains_duplicates = any(math.count(element) > 1 for element in math)\n",
        "print(contains_duplicates)\n",
        "contains_duplicates = any(science.count(element) > 1 for element in science)\n",
        "print(contains_duplicates)\n",
        "contains_duplicates = any(arts1.count(element) > 1 for element in arts1)\n",
        "print(contains_duplicates)\n",
        "contains_duplicates = any(arts2.count(element) > 1 for element in arts2)\n",
        "print(contains_duplicates)\n",
        "contains_duplicates = any(career.count(element) > 1 for element in career)\n",
        "print(contains_duplicates)\n",
        "contains_duplicates = any(family.count(element) > 1 for element in family)\n",
        "print(contains_duplicates)"
      ],
      "execution_count": null,
      "outputs": [
        {
          "output_type": "stream",
          "text": [
            "False\n",
            "False\n",
            "False\n",
            "False\n",
            "False\n",
            "False\n",
            "False\n",
            "False\n",
            "False\n",
            "False\n",
            "False\n",
            "False\n"
          ],
          "name": "stdout"
        }
      ]
    },
    {
      "cell_type": "code",
      "metadata": {
        "id": "kYzyY-v6eF9H"
      },
      "source": [
        "for i in male: \n",
        "  if i not in words:\n",
        "    print('Male ', i)\n",
        "for i in female: \n",
        "  if i not in words:\n",
        "    print('Female ', i)\n",
        "for i in career: \n",
        "  if i not in words:\n",
        "    print('Career ',i)\n",
        "for i in family: \n",
        "  if i not in words:\n",
        "    print('Family ',i)\n",
        "for i in intelligence: \n",
        "  if i not in words:\n",
        "    print('Int ',i)\n",
        "for i in appearance: \n",
        "  if i not in words:\n",
        "    print('App ',i)\n",
        "for i in math: \n",
        "  if i not in words:\n",
        "    print('Math ',i)\n",
        "for i in arts1: \n",
        "  if i not in words:\n",
        "    print('Arts1 ', i)\n",
        "for i in science: \n",
        "  if i not in words:\n",
        "    print('Science', i)\n",
        "for i in arts2: \n",
        "  if i not in words:\n",
        "    print('Arts2 ',i)\n",
        "for i in strength: \n",
        "  if i not in words:\n",
        "    print('Strength ', i)    \n",
        "for i in weakness: \n",
        "  if i not in words:\n",
        "    print('Weakness ',i)    "
      ],
      "execution_count": null,
      "outputs": []
    },
    {
      "cell_type": "code",
      "metadata": {
        "id": "4RDddbWrSfzv"
      },
      "source": [
        "#male_names=['आदमी', 'लड़का', 'पिता', 'बेटा', 'पुरुष', 'उनके',]\n",
        "#female_names=['महिला', 'लड़की', 'मां', 'बेटी', 'महिला', 'उसके']\n",
        "\n",
        "#career=['प्रबंध', 'पेशेवर', 'निगम', 'वेतन', 'कार्यालय', 'व्यापार']\n",
        "#family=['घर', 'माता-पिता', 'बच्चे', 'परिवार', 'शादी', 'रिश्तेदारों']\n",
        "\n",
        "#male_names=[ 'जत', 'ज़रुर', 'जीएल', 'जीपी']\n",
        "#female_names=['ड़कना', 'दराज', 'दोज़ख़', 'निर्णय']\n",
        "\n",
        "#career=['पेशेवर','वेतन', 'कार्यालय', 'व्यापार','नियंत्रण','पश्च','पढ़ा','बील']\n",
        "#family=['घर', 'बच्चे', 'परिवार', 'शादी','कम्बख्त','काव','ख़बरदार','रेटिंग']\"\"\"\n",
        "\n",
        "gender_occupation_query = Query([male, female],\n",
        "                                [strength, weakness],\n",
        "                                ['Male words', 'Female words'],\n",
        "                                ['Strength', 'Weakness'])"
      ],
      "execution_count": null,
      "outputs": []
    },
    {
      "cell_type": "code",
      "metadata": {
        "id": "co_vudbcmfBg"
      },
      "source": [
        "from wefe.datasets import load_weat\n",
        "from wefe.utils import run_queries\n",
        "from wefe import WordEmbeddingModel, Query, WEAT, RND, RNSB, ECT\n",
        "from wefe.utils import run_queries\n",
        "import gensim.downloader as api\n",
        "\n",
        "# Load the sets used in the weat case study\n",
        "gender_career_family_query = Query(\n",
        "    [male, female],\n",
        "    [career, family],\n",
        "    ['Male words', 'Female words'],\n",
        "    ['Career', 'Family'])\n",
        "\n",
        "gender_int_app_query = Query(\n",
        "    [male, female],\n",
        "    [intelligence, appearance],\n",
        "    ['Male words', 'Female words'],\n",
        "    ['Intelligence', 'Appearance'])\n",
        "\n",
        "gender_math_arts_query = Query(\n",
        "    [male, female],\n",
        "    [math, arts1],\n",
        "    ['Male words', 'Female words'],\n",
        "    ['Math', 'Arts'])\n",
        "\n",
        "gender_science_arts_query = Query(\n",
        "    [male, female],\n",
        "    [science, arts2],\n",
        "    ['Male words', 'Female words'],\n",
        "    ['Science', 'Arts'])\n",
        "\n",
        "gender_stren_weak_query = Query(\n",
        "    [male, female],\n",
        "    [strength, weakness],\n",
        "    ['Male words', 'Female words'],\n",
        "    ['Strength', 'Weakness'])"
      ],
      "execution_count": null,
      "outputs": []
    },
    {
      "cell_type": "code",
      "metadata": {
        "id": "dxeztcNLmie5"
      },
      "source": [
        "queries = [\n",
        "    gender_career_family_query,\n",
        "    gender_int_app_query,\n",
        "    gender_stren_weak_query,\n",
        "    gender_math_arts_query,\n",
        "    gender_science_arts_query\n",
        "]"
      ],
      "execution_count": null,
      "outputs": []
    },
    {
      "cell_type": "markdown",
      "metadata": {
        "id": "PrxlPLPN20qZ"
      },
      "source": [
        "**Testing was done beyond this point**"
      ]
    },
    {
      "cell_type": "code",
      "metadata": {
        "id": "5OaRXr5vgZ4n",
        "colab": {
          "base_uri": "https://localhost:8080/",
          "height": 153
        },
        "outputId": "a24febfe-f9f7-4b8d-813e-53e4ead7a5a2"
      },
      "source": [
        "weat_results = run_queries(WEAT, queries, [hindi_300, model_hindi])\n",
        "weat_results"
      ],
      "execution_count": null,
      "outputs": [
        {
          "output_type": "execute_result",
          "data": {
            "text/html": [
              "<div>\n",
              "<style scoped>\n",
              "    .dataframe tbody tr th:only-of-type {\n",
              "        vertical-align: middle;\n",
              "    }\n",
              "\n",
              "    .dataframe tbody tr th {\n",
              "        vertical-align: top;\n",
              "    }\n",
              "\n",
              "    .dataframe thead th {\n",
              "        text-align: right;\n",
              "    }\n",
              "</style>\n",
              "<table border=\"1\" class=\"dataframe\">\n",
              "  <thead>\n",
              "    <tr style=\"text-align: right;\">\n",
              "      <th>query_name</th>\n",
              "      <th>Male words and Female words wrt Career and Family</th>\n",
              "      <th>Male words and Female words wrt Intelligence and Appearance</th>\n",
              "      <th>Male words and Female words wrt Strength and Weakness</th>\n",
              "      <th>Male words and Female words wrt Math and Arts</th>\n",
              "      <th>Male words and Female words wrt Science and Arts</th>\n",
              "    </tr>\n",
              "    <tr>\n",
              "      <th>model_name</th>\n",
              "      <th></th>\n",
              "      <th></th>\n",
              "      <th></th>\n",
              "      <th></th>\n",
              "      <th></th>\n",
              "    </tr>\n",
              "  </thead>\n",
              "  <tbody>\n",
              "    <tr>\n",
              "      <th>hi-300dim</th>\n",
              "      <td>0.489780</td>\n",
              "      <td>0.295811</td>\n",
              "      <td>0.145927</td>\n",
              "      <td>0.132461</td>\n",
              "      <td>0.301790</td>\n",
              "    </tr>\n",
              "    <tr>\n",
              "      <th>hi-512</th>\n",
              "      <td>0.188042</td>\n",
              "      <td>0.113312</td>\n",
              "      <td>0.151448</td>\n",
              "      <td>0.178016</td>\n",
              "      <td>0.281193</td>\n",
              "    </tr>\n",
              "  </tbody>\n",
              "</table>\n",
              "</div>"
            ],
            "text/plain": [
              "query_name  Male words and Female words wrt Career and Family  ...  Male words and Female words wrt Science and Arts\n",
              "model_name                                                     ...                                                  \n",
              "hi-300dim                                            0.489780  ...                                          0.301790\n",
              "hi-512                                               0.188042  ...                                          0.281193\n",
              "\n",
              "[2 rows x 5 columns]"
            ]
          },
          "metadata": {
            "tags": []
          },
          "execution_count": 17
        }
      ]
    },
    {
      "cell_type": "code",
      "metadata": {
        "colab": {
          "base_uri": "https://localhost:8080/",
          "height": 542
        },
        "id": "W4x8jOKrgl2j",
        "outputId": "2a28bdb2-716d-4d41-e938-c9825df36eb8"
      },
      "source": [
        "from wefe.utils import plot_queries_results\n",
        "plot_queries_results(weat_results)"
      ],
      "execution_count": null,
      "outputs": [
        {
          "output_type": "display_data",
          "data": {
            "text/html": [
              "<html>\n",
              "<head><meta charset=\"utf-8\" /></head>\n",
              "<body>\n",
              "    <div>\n",
              "            <script src=\"https://cdnjs.cloudflare.com/ajax/libs/mathjax/2.7.5/MathJax.js?config=TeX-AMS-MML_SVG\"></script><script type=\"text/javascript\">if (window.MathJax) {MathJax.Hub.Config({SVG: {font: \"STIX-Web\"}});}</script>\n",
              "                <script type=\"text/javascript\">window.PlotlyConfig = {MathJaxConfig: 'local'};</script>\n",
              "        <script src=\"https://cdn.plot.ly/plotly-latest.min.js\"></script>    \n",
              "            <div id=\"9406b74e-30d2-4e2a-9767-2d10dbc90d3e\" class=\"plotly-graph-div\" style=\"height:525px; width:100%;\"></div>\n",
              "            <script type=\"text/javascript\">\n",
              "                \n",
              "                    window.PLOTLYENV=window.PLOTLYENV || {};\n",
              "                    \n",
              "                if (document.getElementById(\"9406b74e-30d2-4e2a-9767-2d10dbc90d3e\")) {\n",
              "                    Plotly.newPlot(\n",
              "                        '9406b74e-30d2-4e2a-9767-2d10dbc90d3e',\n",
              "                        [{\"alignmentgroup\": \"True\", \"hoverlabel\": {\"namelength\": 0}, \"hovertemplate\": \"Word Embedding Model=hi-300dim<br>query_name=%{x}<br>value=%{y}\", \"legendgroup\": \"Word Embedding Model=hi-300dim\", \"marker\": {\"color\": \"#636efa\"}, \"name\": \"Word Embedding Model=hi-300dim\", \"offsetgroup\": \"Word Embedding Model=hi-300dim\", \"orientation\": \"v\", \"showlegend\": true, \"textposition\": \"auto\", \"type\": \"bar\", \"x\": [\"Male words and Female words wrt<br> Career and Family\", \"Male words and Female words wrt<br> Intelligence and Appearance\", \"Male words and Female words wrt<br> Strength and Weakness\", \"Male words and Female words wrt<br> Math and Arts\", \"Male words and Female words wrt<br> Science and Arts\"], \"xaxis\": \"x\", \"y\": [0.4897797107696533, 0.2958108186721802, 0.1459270864725113, 0.13246101140975952, 0.30178987979888916], \"yaxis\": \"y\"}, {\"alignmentgroup\": \"True\", \"hoverlabel\": {\"namelength\": 0}, \"hovertemplate\": \"Word Embedding Model=hi-512<br>query_name=%{x}<br>value=%{y}\", \"legendgroup\": \"Word Embedding Model=hi-512\", \"marker\": {\"color\": \"#EF553B\"}, \"name\": \"Word Embedding Model=hi-512\", \"offsetgroup\": \"Word Embedding Model=hi-512\", \"orientation\": \"v\", \"showlegend\": true, \"textposition\": \"auto\", \"type\": \"bar\", \"x\": [\"Male words and Female words wrt<br> Career and Family\", \"Male words and Female words wrt<br> Intelligence and Appearance\", \"Male words and Female words wrt<br> Strength and Weakness\", \"Male words and Female words wrt<br> Math and Arts\", \"Male words and Female words wrt<br> Science and Arts\"], \"xaxis\": \"x\", \"y\": [0.18804193156041377, 0.1133116089511535, 0.15144761349508334, 0.17801576144673067, 0.2811925960903424], \"yaxis\": \"y\"}],\n",
              "                        {\"barmode\": \"group\", \"legend\": {\"tracegroupgap\": 0}, \"margin\": {\"t\": 60}, \"template\": {\"data\": {\"bar\": [{\"error_x\": {\"color\": \"#2a3f5f\"}, \"error_y\": {\"color\": \"#2a3f5f\"}, \"marker\": {\"line\": {\"color\": \"#E5ECF6\", \"width\": 0.5}}, \"type\": \"bar\"}], \"barpolar\": [{\"marker\": {\"line\": {\"color\": \"#E5ECF6\", \"width\": 0.5}}, \"type\": \"barpolar\"}], \"carpet\": [{\"aaxis\": {\"endlinecolor\": \"#2a3f5f\", \"gridcolor\": \"white\", \"linecolor\": \"white\", \"minorgridcolor\": \"white\", \"startlinecolor\": \"#2a3f5f\"}, \"baxis\": {\"endlinecolor\": \"#2a3f5f\", \"gridcolor\": \"white\", \"linecolor\": \"white\", \"minorgridcolor\": \"white\", \"startlinecolor\": \"#2a3f5f\"}, \"type\": \"carpet\"}], \"choropleth\": [{\"colorbar\": {\"outlinewidth\": 0, \"ticks\": \"\"}, \"type\": \"choropleth\"}], \"contour\": [{\"colorbar\": {\"outlinewidth\": 0, \"ticks\": \"\"}, \"colorscale\": [[0.0, \"#0d0887\"], [0.1111111111111111, \"#46039f\"], [0.2222222222222222, \"#7201a8\"], [0.3333333333333333, \"#9c179e\"], [0.4444444444444444, \"#bd3786\"], [0.5555555555555556, \"#d8576b\"], [0.6666666666666666, \"#ed7953\"], [0.7777777777777778, \"#fb9f3a\"], [0.8888888888888888, \"#fdca26\"], [1.0, \"#f0f921\"]], \"type\": \"contour\"}], \"contourcarpet\": [{\"colorbar\": {\"outlinewidth\": 0, \"ticks\": \"\"}, \"type\": \"contourcarpet\"}], \"heatmap\": [{\"colorbar\": {\"outlinewidth\": 0, \"ticks\": \"\"}, \"colorscale\": [[0.0, \"#0d0887\"], [0.1111111111111111, \"#46039f\"], [0.2222222222222222, \"#7201a8\"], [0.3333333333333333, \"#9c179e\"], [0.4444444444444444, \"#bd3786\"], [0.5555555555555556, \"#d8576b\"], [0.6666666666666666, \"#ed7953\"], [0.7777777777777778, \"#fb9f3a\"], [0.8888888888888888, \"#fdca26\"], [1.0, \"#f0f921\"]], \"type\": \"heatmap\"}], \"heatmapgl\": [{\"colorbar\": {\"outlinewidth\": 0, \"ticks\": \"\"}, \"colorscale\": [[0.0, \"#0d0887\"], [0.1111111111111111, \"#46039f\"], [0.2222222222222222, \"#7201a8\"], [0.3333333333333333, \"#9c179e\"], [0.4444444444444444, \"#bd3786\"], [0.5555555555555556, \"#d8576b\"], [0.6666666666666666, \"#ed7953\"], [0.7777777777777778, \"#fb9f3a\"], [0.8888888888888888, \"#fdca26\"], [1.0, \"#f0f921\"]], \"type\": \"heatmapgl\"}], \"histogram\": [{\"marker\": {\"colorbar\": {\"outlinewidth\": 0, \"ticks\": \"\"}}, \"type\": \"histogram\"}], \"histogram2d\": [{\"colorbar\": {\"outlinewidth\": 0, \"ticks\": \"\"}, \"colorscale\": [[0.0, \"#0d0887\"], [0.1111111111111111, \"#46039f\"], [0.2222222222222222, \"#7201a8\"], [0.3333333333333333, \"#9c179e\"], [0.4444444444444444, \"#bd3786\"], [0.5555555555555556, \"#d8576b\"], [0.6666666666666666, \"#ed7953\"], [0.7777777777777778, \"#fb9f3a\"], [0.8888888888888888, \"#fdca26\"], [1.0, \"#f0f921\"]], \"type\": \"histogram2d\"}], \"histogram2dcontour\": [{\"colorbar\": {\"outlinewidth\": 0, \"ticks\": \"\"}, \"colorscale\": [[0.0, \"#0d0887\"], [0.1111111111111111, \"#46039f\"], [0.2222222222222222, \"#7201a8\"], [0.3333333333333333, \"#9c179e\"], [0.4444444444444444, \"#bd3786\"], [0.5555555555555556, \"#d8576b\"], [0.6666666666666666, \"#ed7953\"], [0.7777777777777778, \"#fb9f3a\"], [0.8888888888888888, \"#fdca26\"], [1.0, \"#f0f921\"]], \"type\": \"histogram2dcontour\"}], \"mesh3d\": [{\"colorbar\": {\"outlinewidth\": 0, \"ticks\": \"\"}, \"type\": \"mesh3d\"}], \"parcoords\": [{\"line\": {\"colorbar\": {\"outlinewidth\": 0, \"ticks\": \"\"}}, \"type\": \"parcoords\"}], \"pie\": [{\"automargin\": true, \"type\": \"pie\"}], \"scatter\": [{\"marker\": {\"colorbar\": {\"outlinewidth\": 0, \"ticks\": \"\"}}, \"type\": \"scatter\"}], \"scatter3d\": [{\"line\": {\"colorbar\": {\"outlinewidth\": 0, \"ticks\": \"\"}}, \"marker\": {\"colorbar\": {\"outlinewidth\": 0, \"ticks\": \"\"}}, \"type\": \"scatter3d\"}], \"scattercarpet\": [{\"marker\": {\"colorbar\": {\"outlinewidth\": 0, \"ticks\": \"\"}}, \"type\": \"scattercarpet\"}], \"scattergeo\": [{\"marker\": {\"colorbar\": {\"outlinewidth\": 0, \"ticks\": \"\"}}, \"type\": \"scattergeo\"}], \"scattergl\": [{\"marker\": {\"colorbar\": {\"outlinewidth\": 0, \"ticks\": \"\"}}, \"type\": \"scattergl\"}], \"scattermapbox\": [{\"marker\": {\"colorbar\": {\"outlinewidth\": 0, \"ticks\": \"\"}}, \"type\": \"scattermapbox\"}], \"scatterpolar\": [{\"marker\": {\"colorbar\": {\"outlinewidth\": 0, \"ticks\": \"\"}}, \"type\": \"scatterpolar\"}], \"scatterpolargl\": [{\"marker\": {\"colorbar\": {\"outlinewidth\": 0, \"ticks\": \"\"}}, \"type\": \"scatterpolargl\"}], \"scatterternary\": [{\"marker\": {\"colorbar\": {\"outlinewidth\": 0, \"ticks\": \"\"}}, \"type\": \"scatterternary\"}], \"surface\": [{\"colorbar\": {\"outlinewidth\": 0, \"ticks\": \"\"}, \"colorscale\": [[0.0, \"#0d0887\"], [0.1111111111111111, \"#46039f\"], [0.2222222222222222, \"#7201a8\"], [0.3333333333333333, \"#9c179e\"], [0.4444444444444444, \"#bd3786\"], [0.5555555555555556, \"#d8576b\"], [0.6666666666666666, \"#ed7953\"], [0.7777777777777778, \"#fb9f3a\"], [0.8888888888888888, \"#fdca26\"], [1.0, \"#f0f921\"]], \"type\": \"surface\"}], \"table\": [{\"cells\": {\"fill\": {\"color\": \"#EBF0F8\"}, \"line\": {\"color\": \"white\"}}, \"header\": {\"fill\": {\"color\": \"#C8D4E3\"}, \"line\": {\"color\": \"white\"}}, \"type\": \"table\"}]}, \"layout\": {\"annotationdefaults\": {\"arrowcolor\": \"#2a3f5f\", \"arrowhead\": 0, \"arrowwidth\": 1}, \"coloraxis\": {\"colorbar\": {\"outlinewidth\": 0, \"ticks\": \"\"}}, \"colorscale\": {\"diverging\": [[0, \"#8e0152\"], [0.1, \"#c51b7d\"], [0.2, \"#de77ae\"], [0.3, \"#f1b6da\"], [0.4, \"#fde0ef\"], [0.5, \"#f7f7f7\"], [0.6, \"#e6f5d0\"], [0.7, \"#b8e186\"], [0.8, \"#7fbc41\"], [0.9, \"#4d9221\"], [1, \"#276419\"]], \"sequential\": [[0.0, \"#0d0887\"], [0.1111111111111111, \"#46039f\"], [0.2222222222222222, \"#7201a8\"], [0.3333333333333333, \"#9c179e\"], [0.4444444444444444, \"#bd3786\"], [0.5555555555555556, \"#d8576b\"], [0.6666666666666666, \"#ed7953\"], [0.7777777777777778, \"#fb9f3a\"], [0.8888888888888888, \"#fdca26\"], [1.0, \"#f0f921\"]], \"sequentialminus\": [[0.0, \"#0d0887\"], [0.1111111111111111, \"#46039f\"], [0.2222222222222222, \"#7201a8\"], [0.3333333333333333, \"#9c179e\"], [0.4444444444444444, \"#bd3786\"], [0.5555555555555556, \"#d8576b\"], [0.6666666666666666, \"#ed7953\"], [0.7777777777777778, \"#fb9f3a\"], [0.8888888888888888, \"#fdca26\"], [1.0, \"#f0f921\"]]}, \"colorway\": [\"#636efa\", \"#EF553B\", \"#00cc96\", \"#ab63fa\", \"#FFA15A\", \"#19d3f3\", \"#FF6692\", \"#B6E880\", \"#FF97FF\", \"#FECB52\"], \"font\": {\"color\": \"#2a3f5f\"}, \"geo\": {\"bgcolor\": \"white\", \"lakecolor\": \"white\", \"landcolor\": \"#E5ECF6\", \"showlakes\": true, \"showland\": true, \"subunitcolor\": \"white\"}, \"hoverlabel\": {\"align\": \"left\"}, \"hovermode\": \"closest\", \"mapbox\": {\"style\": \"light\"}, \"paper_bgcolor\": \"white\", \"plot_bgcolor\": \"#E5ECF6\", \"polar\": {\"angularaxis\": {\"gridcolor\": \"white\", \"linecolor\": \"white\", \"ticks\": \"\"}, \"bgcolor\": \"#E5ECF6\", \"radialaxis\": {\"gridcolor\": \"white\", \"linecolor\": \"white\", \"ticks\": \"\"}}, \"scene\": {\"xaxis\": {\"backgroundcolor\": \"#E5ECF6\", \"gridcolor\": \"white\", \"gridwidth\": 2, \"linecolor\": \"white\", \"showbackground\": true, \"ticks\": \"\", \"zerolinecolor\": \"white\"}, \"yaxis\": {\"backgroundcolor\": \"#E5ECF6\", \"gridcolor\": \"white\", \"gridwidth\": 2, \"linecolor\": \"white\", \"showbackground\": true, \"ticks\": \"\", \"zerolinecolor\": \"white\"}, \"zaxis\": {\"backgroundcolor\": \"#E5ECF6\", \"gridcolor\": \"white\", \"gridwidth\": 2, \"linecolor\": \"white\", \"showbackground\": true, \"ticks\": \"\", \"zerolinecolor\": \"white\"}}, \"shapedefaults\": {\"line\": {\"color\": \"#2a3f5f\"}}, \"ternary\": {\"aaxis\": {\"gridcolor\": \"white\", \"linecolor\": \"white\", \"ticks\": \"\"}, \"baxis\": {\"gridcolor\": \"white\", \"linecolor\": \"white\", \"ticks\": \"\"}, \"bgcolor\": \"#E5ECF6\", \"caxis\": {\"gridcolor\": \"white\", \"linecolor\": \"white\", \"ticks\": \"\"}}, \"title\": {\"x\": 0.05}, \"xaxis\": {\"automargin\": true, \"gridcolor\": \"white\", \"linecolor\": \"white\", \"ticks\": \"\", \"title\": {\"standoff\": 15}, \"zerolinecolor\": \"white\", \"zerolinewidth\": 2}, \"yaxis\": {\"automargin\": true, \"gridcolor\": \"white\", \"linecolor\": \"white\", \"ticks\": \"\", \"title\": {\"standoff\": 15}, \"zerolinecolor\": \"white\", \"zerolinewidth\": 2}}}, \"xaxis\": {\"anchor\": \"y\", \"domain\": [0.0, 1.0], \"title\": {\"text\": \"Query\"}}, \"yaxis\": {\"anchor\": \"x\", \"domain\": [0.0, 1.0], \"title\": {\"text\": \"Bias measure\"}}},\n",
              "                        {\"responsive\": true}\n",
              "                    ).then(function(){\n",
              "                            \n",
              "var gd = document.getElementById('9406b74e-30d2-4e2a-9767-2d10dbc90d3e');\n",
              "var x = new MutationObserver(function (mutations, observer) {{\n",
              "        var display = window.getComputedStyle(gd).display;\n",
              "        if (!display || display === 'none') {{\n",
              "            console.log([gd, 'removed!']);\n",
              "            Plotly.purge(gd);\n",
              "            observer.disconnect();\n",
              "        }}\n",
              "}});\n",
              "\n",
              "// Listen for the removal of the full notebook cells\n",
              "var notebookContainer = gd.closest('#notebook-container');\n",
              "if (notebookContainer) {{\n",
              "    x.observe(notebookContainer, {childList: true});\n",
              "}}\n",
              "\n",
              "// Listen for the clearing of the current output cell\n",
              "var outputEl = gd.closest('.output');\n",
              "if (outputEl) {{\n",
              "    x.observe(outputEl, {childList: true});\n",
              "}}\n",
              "\n",
              "                        })\n",
              "                };\n",
              "                \n",
              "            </script>\n",
              "        </div>\n",
              "</body>\n",
              "</html>"
            ]
          },
          "metadata": {
            "tags": []
          }
        }
      ]
    },
    {
      "cell_type": "code",
      "metadata": {
        "colab": {
          "base_uri": "https://localhost:8080/",
          "height": 136
        },
        "id": "B9fRGlrzgo4P",
        "outputId": "f0b883e6-a0eb-4e2c-e4c4-2fdcd158cefe"
      },
      "source": [
        "weat_results = run_queries(WEAT,\n",
        "                        queries,\n",
        "                        [hindi_300, model_hindi],\n",
        "                        aggregate_results=True,\n",
        "                        return_only_aggregation=True,\n",
        "                        queries_set_name='Gender bias')\n",
        "weat_results"
      ],
      "execution_count": null,
      "outputs": [
        {
          "output_type": "execute_result",
          "data": {
            "text/html": [
              "<div>\n",
              "<style scoped>\n",
              "    .dataframe tbody tr th:only-of-type {\n",
              "        vertical-align: middle;\n",
              "    }\n",
              "\n",
              "    .dataframe tbody tr th {\n",
              "        vertical-align: top;\n",
              "    }\n",
              "\n",
              "    .dataframe thead th {\n",
              "        text-align: right;\n",
              "    }\n",
              "</style>\n",
              "<table border=\"1\" class=\"dataframe\">\n",
              "  <thead>\n",
              "    <tr style=\"text-align: right;\">\n",
              "      <th></th>\n",
              "      <th>WEAT: Gender bias average of abs values score</th>\n",
              "    </tr>\n",
              "    <tr>\n",
              "      <th>model_name</th>\n",
              "      <th></th>\n",
              "    </tr>\n",
              "  </thead>\n",
              "  <tbody>\n",
              "    <tr>\n",
              "      <th>hi-300dim</th>\n",
              "      <td>0.273154</td>\n",
              "    </tr>\n",
              "    <tr>\n",
              "      <th>hi-512</th>\n",
              "      <td>0.182402</td>\n",
              "    </tr>\n",
              "  </tbody>\n",
              "</table>\n",
              "</div>"
            ],
            "text/plain": [
              "            WEAT: Gender bias average of abs values score\n",
              "model_name                                               \n",
              "hi-300dim                                        0.273154\n",
              "hi-512                                           0.182402"
            ]
          },
          "metadata": {
            "tags": []
          },
          "execution_count": 19
        }
      ]
    },
    {
      "cell_type": "code",
      "metadata": {
        "colab": {
          "base_uri": "https://localhost:8080/",
          "height": 153
        },
        "id": "mlNg03-g1EZw",
        "outputId": "bfdd36ab-1dc4-4dee-cfad-7b9127c7c967"
      },
      "source": [
        "rnsb_results = run_queries(RNSB, queries, [hindi_300, model_hindi])\n",
        "rnsb_results"
      ],
      "execution_count": null,
      "outputs": [
        {
          "output_type": "execute_result",
          "data": {
            "text/html": [
              "<div>\n",
              "<style scoped>\n",
              "    .dataframe tbody tr th:only-of-type {\n",
              "        vertical-align: middle;\n",
              "    }\n",
              "\n",
              "    .dataframe tbody tr th {\n",
              "        vertical-align: top;\n",
              "    }\n",
              "\n",
              "    .dataframe thead th {\n",
              "        text-align: right;\n",
              "    }\n",
              "</style>\n",
              "<table border=\"1\" class=\"dataframe\">\n",
              "  <thead>\n",
              "    <tr style=\"text-align: right;\">\n",
              "      <th>query_name</th>\n",
              "      <th>Male words and Female words wrt Career and Family</th>\n",
              "      <th>Male words and Female words wrt Intelligence and Appearance</th>\n",
              "      <th>Male words and Female words wrt Strength and Weakness</th>\n",
              "      <th>Male words and Female words wrt Math and Arts</th>\n",
              "      <th>Male words and Female words wrt Science and Arts</th>\n",
              "    </tr>\n",
              "    <tr>\n",
              "      <th>model_name</th>\n",
              "      <th></th>\n",
              "      <th></th>\n",
              "      <th></th>\n",
              "      <th></th>\n",
              "      <th></th>\n",
              "    </tr>\n",
              "  </thead>\n",
              "  <tbody>\n",
              "    <tr>\n",
              "      <th>hi-300dim</th>\n",
              "      <td>0.030701</td>\n",
              "      <td>0.069657</td>\n",
              "      <td>0.072306</td>\n",
              "      <td>0.017434</td>\n",
              "      <td>0.006600</td>\n",
              "    </tr>\n",
              "    <tr>\n",
              "      <th>hi-512</th>\n",
              "      <td>0.048818</td>\n",
              "      <td>0.023931</td>\n",
              "      <td>0.051128</td>\n",
              "      <td>0.030333</td>\n",
              "      <td>0.009326</td>\n",
              "    </tr>\n",
              "  </tbody>\n",
              "</table>\n",
              "</div>"
            ],
            "text/plain": [
              "query_name  Male words and Female words wrt Career and Family  ...  Male words and Female words wrt Science and Arts\n",
              "model_name                                                     ...                                                  \n",
              "hi-300dim                                            0.030701  ...                                          0.006600\n",
              "hi-512                                               0.048818  ...                                          0.009326\n",
              "\n",
              "[2 rows x 5 columns]"
            ]
          },
          "metadata": {
            "tags": []
          },
          "execution_count": 20
        }
      ]
    },
    {
      "cell_type": "code",
      "metadata": {
        "colab": {
          "base_uri": "https://localhost:8080/",
          "height": 542
        },
        "id": "dB44NhQ91J7v",
        "outputId": "2ae54b20-de90-4f2f-cd4c-866670a7d759"
      },
      "source": [
        "plot_queries_results(rnsb_results)"
      ],
      "execution_count": null,
      "outputs": [
        {
          "output_type": "display_data",
          "data": {
            "text/html": [
              "<html>\n",
              "<head><meta charset=\"utf-8\" /></head>\n",
              "<body>\n",
              "    <div>\n",
              "            <script src=\"https://cdnjs.cloudflare.com/ajax/libs/mathjax/2.7.5/MathJax.js?config=TeX-AMS-MML_SVG\"></script><script type=\"text/javascript\">if (window.MathJax) {MathJax.Hub.Config({SVG: {font: \"STIX-Web\"}});}</script>\n",
              "                <script type=\"text/javascript\">window.PlotlyConfig = {MathJaxConfig: 'local'};</script>\n",
              "        <script src=\"https://cdn.plot.ly/plotly-latest.min.js\"></script>    \n",
              "            <div id=\"651bb566-6b1f-4b8f-ae8a-994471cb4ae5\" class=\"plotly-graph-div\" style=\"height:525px; width:100%;\"></div>\n",
              "            <script type=\"text/javascript\">\n",
              "                \n",
              "                    window.PLOTLYENV=window.PLOTLYENV || {};\n",
              "                    \n",
              "                if (document.getElementById(\"651bb566-6b1f-4b8f-ae8a-994471cb4ae5\")) {\n",
              "                    Plotly.newPlot(\n",
              "                        '651bb566-6b1f-4b8f-ae8a-994471cb4ae5',\n",
              "                        [{\"alignmentgroup\": \"True\", \"hoverlabel\": {\"namelength\": 0}, \"hovertemplate\": \"Word Embedding Model=hi-300dim<br>query_name=%{x}<br>value=%{y}\", \"legendgroup\": \"Word Embedding Model=hi-300dim\", \"marker\": {\"color\": \"#636efa\"}, \"name\": \"Word Embedding Model=hi-300dim\", \"offsetgroup\": \"Word Embedding Model=hi-300dim\", \"orientation\": \"v\", \"showlegend\": true, \"textposition\": \"auto\", \"type\": \"bar\", \"x\": [\"Male words and Female words wrt<br> Career and Family\", \"Male words and Female words wrt<br> Intelligence and Appearance\", \"Male words and Female words wrt<br> Strength and Weakness\", \"Male words and Female words wrt<br> Math and Arts\", \"Male words and Female words wrt<br> Science and Arts\"], \"xaxis\": \"x\", \"y\": [0.030701108972207448, 0.06965743341587821, 0.07230591782402371, 0.017434084320416703, 0.006600072760086483], \"yaxis\": \"y\"}, {\"alignmentgroup\": \"True\", \"hoverlabel\": {\"namelength\": 0}, \"hovertemplate\": \"Word Embedding Model=hi-512<br>query_name=%{x}<br>value=%{y}\", \"legendgroup\": \"Word Embedding Model=hi-512\", \"marker\": {\"color\": \"#EF553B\"}, \"name\": \"Word Embedding Model=hi-512\", \"offsetgroup\": \"Word Embedding Model=hi-512\", \"orientation\": \"v\", \"showlegend\": true, \"textposition\": \"auto\", \"type\": \"bar\", \"x\": [\"Male words and Female words wrt<br> Career and Family\", \"Male words and Female words wrt<br> Intelligence and Appearance\", \"Male words and Female words wrt<br> Strength and Weakness\", \"Male words and Female words wrt<br> Math and Arts\", \"Male words and Female words wrt<br> Science and Arts\"], \"xaxis\": \"x\", \"y\": [0.048818033048617065, 0.023931350945167927, 0.051128164463599926, 0.03033279296224292, 0.009325957872807655], \"yaxis\": \"y\"}],\n",
              "                        {\"barmode\": \"group\", \"legend\": {\"tracegroupgap\": 0}, \"margin\": {\"t\": 60}, \"template\": {\"data\": {\"bar\": [{\"error_x\": {\"color\": \"#2a3f5f\"}, \"error_y\": {\"color\": \"#2a3f5f\"}, \"marker\": {\"line\": {\"color\": \"#E5ECF6\", \"width\": 0.5}}, \"type\": \"bar\"}], \"barpolar\": [{\"marker\": {\"line\": {\"color\": \"#E5ECF6\", \"width\": 0.5}}, \"type\": \"barpolar\"}], \"carpet\": [{\"aaxis\": {\"endlinecolor\": \"#2a3f5f\", \"gridcolor\": \"white\", \"linecolor\": \"white\", \"minorgridcolor\": \"white\", \"startlinecolor\": \"#2a3f5f\"}, \"baxis\": {\"endlinecolor\": \"#2a3f5f\", \"gridcolor\": \"white\", \"linecolor\": \"white\", \"minorgridcolor\": \"white\", \"startlinecolor\": \"#2a3f5f\"}, \"type\": \"carpet\"}], \"choropleth\": [{\"colorbar\": {\"outlinewidth\": 0, \"ticks\": \"\"}, \"type\": \"choropleth\"}], \"contour\": [{\"colorbar\": {\"outlinewidth\": 0, \"ticks\": \"\"}, \"colorscale\": [[0.0, \"#0d0887\"], [0.1111111111111111, \"#46039f\"], [0.2222222222222222, \"#7201a8\"], [0.3333333333333333, \"#9c179e\"], [0.4444444444444444, \"#bd3786\"], [0.5555555555555556, \"#d8576b\"], [0.6666666666666666, \"#ed7953\"], [0.7777777777777778, \"#fb9f3a\"], [0.8888888888888888, \"#fdca26\"], [1.0, \"#f0f921\"]], \"type\": \"contour\"}], \"contourcarpet\": [{\"colorbar\": {\"outlinewidth\": 0, \"ticks\": \"\"}, \"type\": \"contourcarpet\"}], \"heatmap\": [{\"colorbar\": {\"outlinewidth\": 0, \"ticks\": \"\"}, \"colorscale\": [[0.0, \"#0d0887\"], [0.1111111111111111, \"#46039f\"], [0.2222222222222222, \"#7201a8\"], [0.3333333333333333, \"#9c179e\"], [0.4444444444444444, \"#bd3786\"], [0.5555555555555556, \"#d8576b\"], [0.6666666666666666, \"#ed7953\"], [0.7777777777777778, \"#fb9f3a\"], [0.8888888888888888, \"#fdca26\"], [1.0, \"#f0f921\"]], \"type\": \"heatmap\"}], \"heatmapgl\": [{\"colorbar\": {\"outlinewidth\": 0, \"ticks\": \"\"}, \"colorscale\": [[0.0, \"#0d0887\"], [0.1111111111111111, \"#46039f\"], [0.2222222222222222, \"#7201a8\"], [0.3333333333333333, \"#9c179e\"], [0.4444444444444444, \"#bd3786\"], [0.5555555555555556, \"#d8576b\"], [0.6666666666666666, \"#ed7953\"], [0.7777777777777778, \"#fb9f3a\"], [0.8888888888888888, \"#fdca26\"], [1.0, \"#f0f921\"]], \"type\": \"heatmapgl\"}], \"histogram\": [{\"marker\": {\"colorbar\": {\"outlinewidth\": 0, \"ticks\": \"\"}}, \"type\": \"histogram\"}], \"histogram2d\": [{\"colorbar\": {\"outlinewidth\": 0, \"ticks\": \"\"}, \"colorscale\": [[0.0, \"#0d0887\"], [0.1111111111111111, \"#46039f\"], [0.2222222222222222, \"#7201a8\"], [0.3333333333333333, \"#9c179e\"], [0.4444444444444444, \"#bd3786\"], [0.5555555555555556, \"#d8576b\"], [0.6666666666666666, \"#ed7953\"], [0.7777777777777778, \"#fb9f3a\"], [0.8888888888888888, \"#fdca26\"], [1.0, \"#f0f921\"]], \"type\": \"histogram2d\"}], \"histogram2dcontour\": [{\"colorbar\": {\"outlinewidth\": 0, \"ticks\": \"\"}, \"colorscale\": [[0.0, \"#0d0887\"], [0.1111111111111111, \"#46039f\"], [0.2222222222222222, \"#7201a8\"], [0.3333333333333333, \"#9c179e\"], [0.4444444444444444, \"#bd3786\"], [0.5555555555555556, \"#d8576b\"], [0.6666666666666666, \"#ed7953\"], [0.7777777777777778, \"#fb9f3a\"], [0.8888888888888888, \"#fdca26\"], [1.0, \"#f0f921\"]], \"type\": \"histogram2dcontour\"}], \"mesh3d\": [{\"colorbar\": {\"outlinewidth\": 0, \"ticks\": \"\"}, \"type\": \"mesh3d\"}], \"parcoords\": [{\"line\": {\"colorbar\": {\"outlinewidth\": 0, \"ticks\": \"\"}}, \"type\": \"parcoords\"}], \"pie\": [{\"automargin\": true, \"type\": \"pie\"}], \"scatter\": [{\"marker\": {\"colorbar\": {\"outlinewidth\": 0, \"ticks\": \"\"}}, \"type\": \"scatter\"}], \"scatter3d\": [{\"line\": {\"colorbar\": {\"outlinewidth\": 0, \"ticks\": \"\"}}, \"marker\": {\"colorbar\": {\"outlinewidth\": 0, \"ticks\": \"\"}}, \"type\": \"scatter3d\"}], \"scattercarpet\": [{\"marker\": {\"colorbar\": {\"outlinewidth\": 0, \"ticks\": \"\"}}, \"type\": \"scattercarpet\"}], \"scattergeo\": [{\"marker\": {\"colorbar\": {\"outlinewidth\": 0, \"ticks\": \"\"}}, \"type\": \"scattergeo\"}], \"scattergl\": [{\"marker\": {\"colorbar\": {\"outlinewidth\": 0, \"ticks\": \"\"}}, \"type\": \"scattergl\"}], \"scattermapbox\": [{\"marker\": {\"colorbar\": {\"outlinewidth\": 0, \"ticks\": \"\"}}, \"type\": \"scattermapbox\"}], \"scatterpolar\": [{\"marker\": {\"colorbar\": {\"outlinewidth\": 0, \"ticks\": \"\"}}, \"type\": \"scatterpolar\"}], \"scatterpolargl\": [{\"marker\": {\"colorbar\": {\"outlinewidth\": 0, \"ticks\": \"\"}}, \"type\": \"scatterpolargl\"}], \"scatterternary\": [{\"marker\": {\"colorbar\": {\"outlinewidth\": 0, \"ticks\": \"\"}}, \"type\": \"scatterternary\"}], \"surface\": [{\"colorbar\": {\"outlinewidth\": 0, \"ticks\": \"\"}, \"colorscale\": [[0.0, \"#0d0887\"], [0.1111111111111111, \"#46039f\"], [0.2222222222222222, \"#7201a8\"], [0.3333333333333333, \"#9c179e\"], [0.4444444444444444, \"#bd3786\"], [0.5555555555555556, \"#d8576b\"], [0.6666666666666666, \"#ed7953\"], [0.7777777777777778, \"#fb9f3a\"], [0.8888888888888888, \"#fdca26\"], [1.0, \"#f0f921\"]], \"type\": \"surface\"}], \"table\": [{\"cells\": {\"fill\": {\"color\": \"#EBF0F8\"}, \"line\": {\"color\": \"white\"}}, \"header\": {\"fill\": {\"color\": \"#C8D4E3\"}, \"line\": {\"color\": \"white\"}}, \"type\": \"table\"}]}, \"layout\": {\"annotationdefaults\": {\"arrowcolor\": \"#2a3f5f\", \"arrowhead\": 0, \"arrowwidth\": 1}, \"coloraxis\": {\"colorbar\": {\"outlinewidth\": 0, \"ticks\": \"\"}}, \"colorscale\": {\"diverging\": [[0, \"#8e0152\"], [0.1, \"#c51b7d\"], [0.2, \"#de77ae\"], [0.3, \"#f1b6da\"], [0.4, \"#fde0ef\"], [0.5, \"#f7f7f7\"], [0.6, \"#e6f5d0\"], [0.7, \"#b8e186\"], [0.8, \"#7fbc41\"], [0.9, \"#4d9221\"], [1, \"#276419\"]], \"sequential\": [[0.0, \"#0d0887\"], [0.1111111111111111, \"#46039f\"], [0.2222222222222222, \"#7201a8\"], [0.3333333333333333, \"#9c179e\"], [0.4444444444444444, \"#bd3786\"], [0.5555555555555556, \"#d8576b\"], [0.6666666666666666, \"#ed7953\"], [0.7777777777777778, \"#fb9f3a\"], [0.8888888888888888, \"#fdca26\"], [1.0, \"#f0f921\"]], \"sequentialminus\": [[0.0, \"#0d0887\"], [0.1111111111111111, \"#46039f\"], [0.2222222222222222, \"#7201a8\"], [0.3333333333333333, \"#9c179e\"], [0.4444444444444444, \"#bd3786\"], [0.5555555555555556, \"#d8576b\"], [0.6666666666666666, \"#ed7953\"], [0.7777777777777778, \"#fb9f3a\"], [0.8888888888888888, \"#fdca26\"], [1.0, \"#f0f921\"]]}, \"colorway\": [\"#636efa\", \"#EF553B\", \"#00cc96\", \"#ab63fa\", \"#FFA15A\", \"#19d3f3\", \"#FF6692\", \"#B6E880\", \"#FF97FF\", \"#FECB52\"], \"font\": {\"color\": \"#2a3f5f\"}, \"geo\": {\"bgcolor\": \"white\", \"lakecolor\": \"white\", \"landcolor\": \"#E5ECF6\", \"showlakes\": true, \"showland\": true, \"subunitcolor\": \"white\"}, \"hoverlabel\": {\"align\": \"left\"}, \"hovermode\": \"closest\", \"mapbox\": {\"style\": \"light\"}, \"paper_bgcolor\": \"white\", \"plot_bgcolor\": \"#E5ECF6\", \"polar\": {\"angularaxis\": {\"gridcolor\": \"white\", \"linecolor\": \"white\", \"ticks\": \"\"}, \"bgcolor\": \"#E5ECF6\", \"radialaxis\": {\"gridcolor\": \"white\", \"linecolor\": \"white\", \"ticks\": \"\"}}, \"scene\": {\"xaxis\": {\"backgroundcolor\": \"#E5ECF6\", \"gridcolor\": \"white\", \"gridwidth\": 2, \"linecolor\": \"white\", \"showbackground\": true, \"ticks\": \"\", \"zerolinecolor\": \"white\"}, \"yaxis\": {\"backgroundcolor\": \"#E5ECF6\", \"gridcolor\": \"white\", \"gridwidth\": 2, \"linecolor\": \"white\", \"showbackground\": true, \"ticks\": \"\", \"zerolinecolor\": \"white\"}, \"zaxis\": {\"backgroundcolor\": \"#E5ECF6\", \"gridcolor\": \"white\", \"gridwidth\": 2, \"linecolor\": \"white\", \"showbackground\": true, \"ticks\": \"\", \"zerolinecolor\": \"white\"}}, \"shapedefaults\": {\"line\": {\"color\": \"#2a3f5f\"}}, \"ternary\": {\"aaxis\": {\"gridcolor\": \"white\", \"linecolor\": \"white\", \"ticks\": \"\"}, \"baxis\": {\"gridcolor\": \"white\", \"linecolor\": \"white\", \"ticks\": \"\"}, \"bgcolor\": \"#E5ECF6\", \"caxis\": {\"gridcolor\": \"white\", \"linecolor\": \"white\", \"ticks\": \"\"}}, \"title\": {\"x\": 0.05}, \"xaxis\": {\"automargin\": true, \"gridcolor\": \"white\", \"linecolor\": \"white\", \"ticks\": \"\", \"title\": {\"standoff\": 15}, \"zerolinecolor\": \"white\", \"zerolinewidth\": 2}, \"yaxis\": {\"automargin\": true, \"gridcolor\": \"white\", \"linecolor\": \"white\", \"ticks\": \"\", \"title\": {\"standoff\": 15}, \"zerolinecolor\": \"white\", \"zerolinewidth\": 2}}}, \"xaxis\": {\"anchor\": \"y\", \"domain\": [0.0, 1.0], \"title\": {\"text\": \"Query\"}}, \"yaxis\": {\"anchor\": \"x\", \"domain\": [0.0, 1.0], \"title\": {\"text\": \"Bias measure\"}}},\n",
              "                        {\"responsive\": true}\n",
              "                    ).then(function(){\n",
              "                            \n",
              "var gd = document.getElementById('651bb566-6b1f-4b8f-ae8a-994471cb4ae5');\n",
              "var x = new MutationObserver(function (mutations, observer) {{\n",
              "        var display = window.getComputedStyle(gd).display;\n",
              "        if (!display || display === 'none') {{\n",
              "            console.log([gd, 'removed!']);\n",
              "            Plotly.purge(gd);\n",
              "            observer.disconnect();\n",
              "        }}\n",
              "}});\n",
              "\n",
              "// Listen for the removal of the full notebook cells\n",
              "var notebookContainer = gd.closest('#notebook-container');\n",
              "if (notebookContainer) {{\n",
              "    x.observe(notebookContainer, {childList: true});\n",
              "}}\n",
              "\n",
              "// Listen for the clearing of the current output cell\n",
              "var outputEl = gd.closest('.output');\n",
              "if (outputEl) {{\n",
              "    x.observe(outputEl, {childList: true});\n",
              "}}\n",
              "\n",
              "                        })\n",
              "                };\n",
              "                \n",
              "            </script>\n",
              "        </div>\n",
              "</body>\n",
              "</html>"
            ]
          },
          "metadata": {
            "tags": []
          }
        }
      ]
    },
    {
      "cell_type": "code",
      "metadata": {
        "colab": {
          "base_uri": "https://localhost:8080/",
          "height": 136
        },
        "id": "d5MqOp2D1Mvi",
        "outputId": "12c794e0-2c73-43cc-c117-3476a98e2907"
      },
      "source": [
        "rnsb_results = run_queries(RNSB,\n",
        "                        queries,\n",
        "                        [hindi_300, model_hindi],\n",
        "                        aggregate_results=True,\n",
        "                        return_only_aggregation=True,\n",
        "                        queries_set_name='Gender bias')\n",
        "rnsb_results"
      ],
      "execution_count": null,
      "outputs": [
        {
          "output_type": "execute_result",
          "data": {
            "text/html": [
              "<div>\n",
              "<style scoped>\n",
              "    .dataframe tbody tr th:only-of-type {\n",
              "        vertical-align: middle;\n",
              "    }\n",
              "\n",
              "    .dataframe tbody tr th {\n",
              "        vertical-align: top;\n",
              "    }\n",
              "\n",
              "    .dataframe thead th {\n",
              "        text-align: right;\n",
              "    }\n",
              "</style>\n",
              "<table border=\"1\" class=\"dataframe\">\n",
              "  <thead>\n",
              "    <tr style=\"text-align: right;\">\n",
              "      <th></th>\n",
              "      <th>RNSB: Gender bias average of abs values score</th>\n",
              "    </tr>\n",
              "    <tr>\n",
              "      <th>model_name</th>\n",
              "      <th></th>\n",
              "    </tr>\n",
              "  </thead>\n",
              "  <tbody>\n",
              "    <tr>\n",
              "      <th>hi-300dim</th>\n",
              "      <td>0.020650</td>\n",
              "    </tr>\n",
              "    <tr>\n",
              "      <th>hi-512</th>\n",
              "      <td>0.033457</td>\n",
              "    </tr>\n",
              "  </tbody>\n",
              "</table>\n",
              "</div>"
            ],
            "text/plain": [
              "            RNSB: Gender bias average of abs values score\n",
              "model_name                                               \n",
              "hi-300dim                                        0.020650\n",
              "hi-512                                           0.033457"
            ]
          },
          "metadata": {
            "tags": []
          },
          "execution_count": 22
        }
      ]
    },
    {
      "cell_type": "code",
      "metadata": {
        "id": "KW8iVcsA1VI6"
      },
      "source": [
        "gender_career_query = Query(\n",
        "    [male, female],\n",
        "    [career],\n",
        "    ['Male words', 'Female words'],\n",
        "    ['Career'])\n",
        "\n",
        "gender_int_query = Query(\n",
        "    [male, female],\n",
        "    [intelligence],\n",
        "    ['Male words', 'Female words'],\n",
        "    ['Intelligence'])\n",
        "\n",
        "gender_math_query = Query(\n",
        "    [male, female],\n",
        "    [math],\n",
        "    ['Male words', 'Female words'],\n",
        "    ['Math'])\n",
        "\n",
        "gender_science_query = Query(\n",
        "    [male, female],\n",
        "    [science],\n",
        "    ['Male words', 'Female words'],\n",
        "    ['Science'])\n",
        "\n",
        "gender_stren_query = Query(\n",
        "    [male, female],\n",
        "    [strength],\n",
        "    ['Male words', 'Female words'],\n",
        "    ['Strength'])\n",
        "\n",
        "gender_family_query = Query(\n",
        "    [male, female],\n",
        "    [family],\n",
        "    ['Male words', 'Female words'],\n",
        "    ['Family'])\n",
        "\n",
        "gender_app_query = Query(\n",
        "    [male, female],\n",
        "    [appearance],\n",
        "    ['Male words', 'Female words'],\n",
        "    ['Appearance'])\n",
        "\n",
        "gender_arts_query = Query(\n",
        "    [male, female],\n",
        "    [arts1],\n",
        "    ['Male words', 'Female words'],\n",
        "    ['Arts'])\n",
        "\n",
        "gender_weak_query = Query(\n",
        "    [male, female],\n",
        "    [weakness],\n",
        "    ['Male words', 'Female words'],\n",
        "    ['Weakness'])\n",
        "\n",
        "queries = [\n",
        "    gender_career_query,\n",
        "    gender_int_query,\n",
        "    gender_stren_query,\n",
        "    gender_science_query,\n",
        "    gender_math_query,\n",
        "    gender_family_query,\n",
        "    gender_app_query,\n",
        "    gender_weak_query,\n",
        "    gender_arts_query,\n",
        "]"
      ],
      "execution_count": null,
      "outputs": []
    },
    {
      "cell_type": "code",
      "metadata": {
        "colab": {
          "base_uri": "https://localhost:8080/",
          "height": 170
        },
        "id": "MGL6DtJp1ccc",
        "outputId": "e8fc75a0-bd12-4d25-a45a-8eaaa6671dad"
      },
      "source": [
        "rnd_results = run_queries(RND, queries, [hindi_300, model_hindi])\n",
        "rnd_results"
      ],
      "execution_count": null,
      "outputs": [
        {
          "output_type": "execute_result",
          "data": {
            "text/html": [
              "<div>\n",
              "<style scoped>\n",
              "    .dataframe tbody tr th:only-of-type {\n",
              "        vertical-align: middle;\n",
              "    }\n",
              "\n",
              "    .dataframe tbody tr th {\n",
              "        vertical-align: top;\n",
              "    }\n",
              "\n",
              "    .dataframe thead th {\n",
              "        text-align: right;\n",
              "    }\n",
              "</style>\n",
              "<table border=\"1\" class=\"dataframe\">\n",
              "  <thead>\n",
              "    <tr style=\"text-align: right;\">\n",
              "      <th>query_name</th>\n",
              "      <th>Male words and Female words wrt Career</th>\n",
              "      <th>Male words and Female words wrt Intelligence</th>\n",
              "      <th>Male words and Female words wrt Strength</th>\n",
              "      <th>Male words and Female words wrt Science</th>\n",
              "      <th>Male words and Female words wrt Math</th>\n",
              "      <th>Male words and Female words wrt Family</th>\n",
              "      <th>Male words and Female words wrt Appearance</th>\n",
              "      <th>Male words and Female words wrt Weakness</th>\n",
              "      <th>Male words and Female words wrt Arts</th>\n",
              "    </tr>\n",
              "    <tr>\n",
              "      <th>model_name</th>\n",
              "      <th></th>\n",
              "      <th></th>\n",
              "      <th></th>\n",
              "      <th></th>\n",
              "      <th></th>\n",
              "      <th></th>\n",
              "      <th></th>\n",
              "      <th></th>\n",
              "      <th></th>\n",
              "    </tr>\n",
              "  </thead>\n",
              "  <tbody>\n",
              "    <tr>\n",
              "      <th>hi-300dim</th>\n",
              "      <td>-0.211134</td>\n",
              "      <td>-0.267416</td>\n",
              "      <td>-0.219197</td>\n",
              "      <td>-0.230438</td>\n",
              "      <td>-0.166289</td>\n",
              "      <td>0.009901</td>\n",
              "      <td>-0.139647</td>\n",
              "      <td>-0.156286</td>\n",
              "      <td>-0.120592</td>\n",
              "    </tr>\n",
              "    <tr>\n",
              "      <th>hi-512</th>\n",
              "      <td>-0.024021</td>\n",
              "      <td>-0.021244</td>\n",
              "      <td>-0.004021</td>\n",
              "      <td>0.023362</td>\n",
              "      <td>0.048344</td>\n",
              "      <td>0.024608</td>\n",
              "      <td>0.007718</td>\n",
              "      <td>0.035245</td>\n",
              "      <td>0.093366</td>\n",
              "    </tr>\n",
              "  </tbody>\n",
              "</table>\n",
              "</div>"
            ],
            "text/plain": [
              "query_name  Male words and Female words wrt Career  ...  Male words and Female words wrt Arts\n",
              "model_name                                          ...                                      \n",
              "hi-300dim                                -0.211134  ...                             -0.120592\n",
              "hi-512                                   -0.024021  ...                              0.093366\n",
              "\n",
              "[2 rows x 9 columns]"
            ]
          },
          "metadata": {
            "tags": []
          },
          "execution_count": 24
        }
      ]
    },
    {
      "cell_type": "code",
      "metadata": {
        "colab": {
          "base_uri": "https://localhost:8080/",
          "height": 542
        },
        "id": "xwkNHS-q1eR9",
        "outputId": "c0b0597a-1159-4bbf-a274-9f2719f1bd85"
      },
      "source": [
        "plot_queries_results(rnd_results)"
      ],
      "execution_count": null,
      "outputs": [
        {
          "output_type": "display_data",
          "data": {
            "text/html": [
              "<html>\n",
              "<head><meta charset=\"utf-8\" /></head>\n",
              "<body>\n",
              "    <div>\n",
              "            <script src=\"https://cdnjs.cloudflare.com/ajax/libs/mathjax/2.7.5/MathJax.js?config=TeX-AMS-MML_SVG\"></script><script type=\"text/javascript\">if (window.MathJax) {MathJax.Hub.Config({SVG: {font: \"STIX-Web\"}});}</script>\n",
              "                <script type=\"text/javascript\">window.PlotlyConfig = {MathJaxConfig: 'local'};</script>\n",
              "        <script src=\"https://cdn.plot.ly/plotly-latest.min.js\"></script>    \n",
              "            <div id=\"0b808766-858d-4e93-8879-1d322dd23169\" class=\"plotly-graph-div\" style=\"height:525px; width:100%;\"></div>\n",
              "            <script type=\"text/javascript\">\n",
              "                \n",
              "                    window.PLOTLYENV=window.PLOTLYENV || {};\n",
              "                    \n",
              "                if (document.getElementById(\"0b808766-858d-4e93-8879-1d322dd23169\")) {\n",
              "                    Plotly.newPlot(\n",
              "                        '0b808766-858d-4e93-8879-1d322dd23169',\n",
              "                        [{\"alignmentgroup\": \"True\", \"hoverlabel\": {\"namelength\": 0}, \"hovertemplate\": \"Word Embedding Model=hi-300dim<br>query_name=%{x}<br>value=%{y}\", \"legendgroup\": \"Word Embedding Model=hi-300dim\", \"marker\": {\"color\": \"#636efa\"}, \"name\": \"Word Embedding Model=hi-300dim\", \"offsetgroup\": \"Word Embedding Model=hi-300dim\", \"orientation\": \"v\", \"showlegend\": true, \"textposition\": \"auto\", \"type\": \"bar\", \"x\": [\"Male words and Female words wrt<br> Career\", \"Male words and Female words wrt<br> Intelligence\", \"Male words and Female words wrt<br> Strength\", \"Male words and Female words wrt<br> Science\", \"Male words and Female words wrt<br> Math\", \"Male words and Female words wrt<br> Family\", \"Male words and Female words wrt<br> Appearance\", \"Male words and Female words wrt<br> Weakness\", \"Male words and Female words wrt<br> Arts\"], \"xaxis\": \"x\", \"y\": [-0.21113351980845133, -0.26741649554325986, -0.21919717788696289, -0.23043813705444335, -0.1662888526916504, 0.009900768597920736, -0.13964660351093, -0.15628604888916015, -0.12059216499328614], \"yaxis\": \"y\"}, {\"alignmentgroup\": \"True\", \"hoverlabel\": {\"namelength\": 0}, \"hovertemplate\": \"Word Embedding Model=hi-512<br>query_name=%{x}<br>value=%{y}\", \"legendgroup\": \"Word Embedding Model=hi-512\", \"marker\": {\"color\": \"#EF553B\"}, \"name\": \"Word Embedding Model=hi-512\", \"offsetgroup\": \"Word Embedding Model=hi-512\", \"orientation\": \"v\", \"showlegend\": true, \"textposition\": \"auto\", \"type\": \"bar\", \"x\": [\"Male words and Female words wrt<br> Career\", \"Male words and Female words wrt<br> Intelligence\", \"Male words and Female words wrt<br> Strength\", \"Male words and Female words wrt<br> Science\", \"Male words and Female words wrt<br> Math\", \"Male words and Female words wrt<br> Family\", \"Male words and Female words wrt<br> Appearance\", \"Male words and Female words wrt<br> Weakness\", \"Male words and Female words wrt<br> Arts\"], \"xaxis\": \"x\", \"y\": [-0.024021210013016863, -0.021244059609301143, -0.004021406511536707, 0.023362217279661656, 0.04834355725801935, 0.024608222623669202, 0.007718444225119674, 0.035244510420421156, 0.09336583717623759], \"yaxis\": \"y\"}],\n",
              "                        {\"barmode\": \"group\", \"legend\": {\"tracegroupgap\": 0}, \"margin\": {\"t\": 60}, \"template\": {\"data\": {\"bar\": [{\"error_x\": {\"color\": \"#2a3f5f\"}, \"error_y\": {\"color\": \"#2a3f5f\"}, \"marker\": {\"line\": {\"color\": \"#E5ECF6\", \"width\": 0.5}}, \"type\": \"bar\"}], \"barpolar\": [{\"marker\": {\"line\": {\"color\": \"#E5ECF6\", \"width\": 0.5}}, \"type\": \"barpolar\"}], \"carpet\": [{\"aaxis\": {\"endlinecolor\": \"#2a3f5f\", \"gridcolor\": \"white\", \"linecolor\": \"white\", \"minorgridcolor\": \"white\", \"startlinecolor\": \"#2a3f5f\"}, \"baxis\": {\"endlinecolor\": \"#2a3f5f\", \"gridcolor\": \"white\", \"linecolor\": \"white\", \"minorgridcolor\": \"white\", \"startlinecolor\": \"#2a3f5f\"}, \"type\": \"carpet\"}], \"choropleth\": [{\"colorbar\": {\"outlinewidth\": 0, \"ticks\": \"\"}, \"type\": \"choropleth\"}], \"contour\": [{\"colorbar\": {\"outlinewidth\": 0, \"ticks\": \"\"}, \"colorscale\": [[0.0, \"#0d0887\"], [0.1111111111111111, \"#46039f\"], [0.2222222222222222, \"#7201a8\"], [0.3333333333333333, \"#9c179e\"], [0.4444444444444444, \"#bd3786\"], [0.5555555555555556, \"#d8576b\"], [0.6666666666666666, \"#ed7953\"], [0.7777777777777778, \"#fb9f3a\"], [0.8888888888888888, \"#fdca26\"], [1.0, \"#f0f921\"]], \"type\": \"contour\"}], \"contourcarpet\": [{\"colorbar\": {\"outlinewidth\": 0, \"ticks\": \"\"}, \"type\": \"contourcarpet\"}], \"heatmap\": [{\"colorbar\": {\"outlinewidth\": 0, \"ticks\": \"\"}, \"colorscale\": [[0.0, \"#0d0887\"], [0.1111111111111111, \"#46039f\"], [0.2222222222222222, \"#7201a8\"], [0.3333333333333333, \"#9c179e\"], [0.4444444444444444, \"#bd3786\"], [0.5555555555555556, \"#d8576b\"], [0.6666666666666666, \"#ed7953\"], [0.7777777777777778, \"#fb9f3a\"], [0.8888888888888888, \"#fdca26\"], [1.0, \"#f0f921\"]], \"type\": \"heatmap\"}], \"heatmapgl\": [{\"colorbar\": {\"outlinewidth\": 0, \"ticks\": \"\"}, \"colorscale\": [[0.0, \"#0d0887\"], [0.1111111111111111, \"#46039f\"], [0.2222222222222222, \"#7201a8\"], [0.3333333333333333, \"#9c179e\"], [0.4444444444444444, \"#bd3786\"], [0.5555555555555556, \"#d8576b\"], [0.6666666666666666, \"#ed7953\"], [0.7777777777777778, \"#fb9f3a\"], [0.8888888888888888, \"#fdca26\"], [1.0, \"#f0f921\"]], \"type\": \"heatmapgl\"}], \"histogram\": [{\"marker\": {\"colorbar\": {\"outlinewidth\": 0, \"ticks\": \"\"}}, \"type\": \"histogram\"}], \"histogram2d\": [{\"colorbar\": {\"outlinewidth\": 0, \"ticks\": \"\"}, \"colorscale\": [[0.0, \"#0d0887\"], [0.1111111111111111, \"#46039f\"], [0.2222222222222222, \"#7201a8\"], [0.3333333333333333, \"#9c179e\"], [0.4444444444444444, \"#bd3786\"], [0.5555555555555556, \"#d8576b\"], [0.6666666666666666, \"#ed7953\"], [0.7777777777777778, \"#fb9f3a\"], [0.8888888888888888, \"#fdca26\"], [1.0, \"#f0f921\"]], \"type\": \"histogram2d\"}], \"histogram2dcontour\": [{\"colorbar\": {\"outlinewidth\": 0, \"ticks\": \"\"}, \"colorscale\": [[0.0, \"#0d0887\"], [0.1111111111111111, \"#46039f\"], [0.2222222222222222, \"#7201a8\"], [0.3333333333333333, \"#9c179e\"], [0.4444444444444444, \"#bd3786\"], [0.5555555555555556, \"#d8576b\"], [0.6666666666666666, \"#ed7953\"], [0.7777777777777778, \"#fb9f3a\"], [0.8888888888888888, \"#fdca26\"], [1.0, \"#f0f921\"]], \"type\": \"histogram2dcontour\"}], \"mesh3d\": [{\"colorbar\": {\"outlinewidth\": 0, \"ticks\": \"\"}, \"type\": \"mesh3d\"}], \"parcoords\": [{\"line\": {\"colorbar\": {\"outlinewidth\": 0, \"ticks\": \"\"}}, \"type\": \"parcoords\"}], \"pie\": [{\"automargin\": true, \"type\": \"pie\"}], \"scatter\": [{\"marker\": {\"colorbar\": {\"outlinewidth\": 0, \"ticks\": \"\"}}, \"type\": \"scatter\"}], \"scatter3d\": [{\"line\": {\"colorbar\": {\"outlinewidth\": 0, \"ticks\": \"\"}}, \"marker\": {\"colorbar\": {\"outlinewidth\": 0, \"ticks\": \"\"}}, \"type\": \"scatter3d\"}], \"scattercarpet\": [{\"marker\": {\"colorbar\": {\"outlinewidth\": 0, \"ticks\": \"\"}}, \"type\": \"scattercarpet\"}], \"scattergeo\": [{\"marker\": {\"colorbar\": {\"outlinewidth\": 0, \"ticks\": \"\"}}, \"type\": \"scattergeo\"}], \"scattergl\": [{\"marker\": {\"colorbar\": {\"outlinewidth\": 0, \"ticks\": \"\"}}, \"type\": \"scattergl\"}], \"scattermapbox\": [{\"marker\": {\"colorbar\": {\"outlinewidth\": 0, \"ticks\": \"\"}}, \"type\": \"scattermapbox\"}], \"scatterpolar\": [{\"marker\": {\"colorbar\": {\"outlinewidth\": 0, \"ticks\": \"\"}}, \"type\": \"scatterpolar\"}], \"scatterpolargl\": [{\"marker\": {\"colorbar\": {\"outlinewidth\": 0, \"ticks\": \"\"}}, \"type\": \"scatterpolargl\"}], \"scatterternary\": [{\"marker\": {\"colorbar\": {\"outlinewidth\": 0, \"ticks\": \"\"}}, \"type\": \"scatterternary\"}], \"surface\": [{\"colorbar\": {\"outlinewidth\": 0, \"ticks\": \"\"}, \"colorscale\": [[0.0, \"#0d0887\"], [0.1111111111111111, \"#46039f\"], [0.2222222222222222, \"#7201a8\"], [0.3333333333333333, \"#9c179e\"], [0.4444444444444444, \"#bd3786\"], [0.5555555555555556, \"#d8576b\"], [0.6666666666666666, \"#ed7953\"], [0.7777777777777778, \"#fb9f3a\"], [0.8888888888888888, \"#fdca26\"], [1.0, \"#f0f921\"]], \"type\": \"surface\"}], \"table\": [{\"cells\": {\"fill\": {\"color\": \"#EBF0F8\"}, \"line\": {\"color\": \"white\"}}, \"header\": {\"fill\": {\"color\": \"#C8D4E3\"}, \"line\": {\"color\": \"white\"}}, \"type\": \"table\"}]}, \"layout\": {\"annotationdefaults\": {\"arrowcolor\": \"#2a3f5f\", \"arrowhead\": 0, \"arrowwidth\": 1}, \"coloraxis\": {\"colorbar\": {\"outlinewidth\": 0, \"ticks\": \"\"}}, \"colorscale\": {\"diverging\": [[0, \"#8e0152\"], [0.1, \"#c51b7d\"], [0.2, \"#de77ae\"], [0.3, \"#f1b6da\"], [0.4, \"#fde0ef\"], [0.5, \"#f7f7f7\"], [0.6, \"#e6f5d0\"], [0.7, \"#b8e186\"], [0.8, \"#7fbc41\"], [0.9, \"#4d9221\"], [1, \"#276419\"]], \"sequential\": [[0.0, \"#0d0887\"], [0.1111111111111111, \"#46039f\"], [0.2222222222222222, \"#7201a8\"], [0.3333333333333333, \"#9c179e\"], [0.4444444444444444, \"#bd3786\"], [0.5555555555555556, \"#d8576b\"], [0.6666666666666666, \"#ed7953\"], [0.7777777777777778, \"#fb9f3a\"], [0.8888888888888888, \"#fdca26\"], [1.0, \"#f0f921\"]], \"sequentialminus\": [[0.0, \"#0d0887\"], [0.1111111111111111, \"#46039f\"], [0.2222222222222222, \"#7201a8\"], [0.3333333333333333, \"#9c179e\"], [0.4444444444444444, \"#bd3786\"], [0.5555555555555556, \"#d8576b\"], [0.6666666666666666, \"#ed7953\"], [0.7777777777777778, \"#fb9f3a\"], [0.8888888888888888, \"#fdca26\"], [1.0, \"#f0f921\"]]}, \"colorway\": [\"#636efa\", \"#EF553B\", \"#00cc96\", \"#ab63fa\", \"#FFA15A\", \"#19d3f3\", \"#FF6692\", \"#B6E880\", \"#FF97FF\", \"#FECB52\"], \"font\": {\"color\": \"#2a3f5f\"}, \"geo\": {\"bgcolor\": \"white\", \"lakecolor\": \"white\", \"landcolor\": \"#E5ECF6\", \"showlakes\": true, \"showland\": true, \"subunitcolor\": \"white\"}, \"hoverlabel\": {\"align\": \"left\"}, \"hovermode\": \"closest\", \"mapbox\": {\"style\": \"light\"}, \"paper_bgcolor\": \"white\", \"plot_bgcolor\": \"#E5ECF6\", \"polar\": {\"angularaxis\": {\"gridcolor\": \"white\", \"linecolor\": \"white\", \"ticks\": \"\"}, \"bgcolor\": \"#E5ECF6\", \"radialaxis\": {\"gridcolor\": \"white\", \"linecolor\": \"white\", \"ticks\": \"\"}}, \"scene\": {\"xaxis\": {\"backgroundcolor\": \"#E5ECF6\", \"gridcolor\": \"white\", \"gridwidth\": 2, \"linecolor\": \"white\", \"showbackground\": true, \"ticks\": \"\", \"zerolinecolor\": \"white\"}, \"yaxis\": {\"backgroundcolor\": \"#E5ECF6\", \"gridcolor\": \"white\", \"gridwidth\": 2, \"linecolor\": \"white\", \"showbackground\": true, \"ticks\": \"\", \"zerolinecolor\": \"white\"}, \"zaxis\": {\"backgroundcolor\": \"#E5ECF6\", \"gridcolor\": \"white\", \"gridwidth\": 2, \"linecolor\": \"white\", \"showbackground\": true, \"ticks\": \"\", \"zerolinecolor\": \"white\"}}, \"shapedefaults\": {\"line\": {\"color\": \"#2a3f5f\"}}, \"ternary\": {\"aaxis\": {\"gridcolor\": \"white\", \"linecolor\": \"white\", \"ticks\": \"\"}, \"baxis\": {\"gridcolor\": \"white\", \"linecolor\": \"white\", \"ticks\": \"\"}, \"bgcolor\": \"#E5ECF6\", \"caxis\": {\"gridcolor\": \"white\", \"linecolor\": \"white\", \"ticks\": \"\"}}, \"title\": {\"x\": 0.05}, \"xaxis\": {\"automargin\": true, \"gridcolor\": \"white\", \"linecolor\": \"white\", \"ticks\": \"\", \"title\": {\"standoff\": 15}, \"zerolinecolor\": \"white\", \"zerolinewidth\": 2}, \"yaxis\": {\"automargin\": true, \"gridcolor\": \"white\", \"linecolor\": \"white\", \"ticks\": \"\", \"title\": {\"standoff\": 15}, \"zerolinecolor\": \"white\", \"zerolinewidth\": 2}}}, \"xaxis\": {\"anchor\": \"y\", \"domain\": [0.0, 1.0], \"title\": {\"text\": \"Query\"}}, \"yaxis\": {\"anchor\": \"x\", \"domain\": [0.0, 1.0], \"title\": {\"text\": \"Bias measure\"}}},\n",
              "                        {\"responsive\": true}\n",
              "                    ).then(function(){\n",
              "                            \n",
              "var gd = document.getElementById('0b808766-858d-4e93-8879-1d322dd23169');\n",
              "var x = new MutationObserver(function (mutations, observer) {{\n",
              "        var display = window.getComputedStyle(gd).display;\n",
              "        if (!display || display === 'none') {{\n",
              "            console.log([gd, 'removed!']);\n",
              "            Plotly.purge(gd);\n",
              "            observer.disconnect();\n",
              "        }}\n",
              "}});\n",
              "\n",
              "// Listen for the removal of the full notebook cells\n",
              "var notebookContainer = gd.closest('#notebook-container');\n",
              "if (notebookContainer) {{\n",
              "    x.observe(notebookContainer, {childList: true});\n",
              "}}\n",
              "\n",
              "// Listen for the clearing of the current output cell\n",
              "var outputEl = gd.closest('.output');\n",
              "if (outputEl) {{\n",
              "    x.observe(outputEl, {childList: true});\n",
              "}}\n",
              "\n",
              "                        })\n",
              "                };\n",
              "                \n",
              "            </script>\n",
              "        </div>\n",
              "</body>\n",
              "</html>"
            ]
          },
          "metadata": {
            "tags": []
          }
        }
      ]
    },
    {
      "cell_type": "code",
      "metadata": {
        "colab": {
          "base_uri": "https://localhost:8080/",
          "height": 136
        },
        "id": "pgKT0t7L1gPA",
        "outputId": "bc589839-4e58-40dd-a121-e4b03ddabdbd"
      },
      "source": [
        "rnd_results = run_queries(RND,\n",
        "                        queries,\n",
        "                        [hindi_300, model_hindi],\n",
        "                        aggregate_results=True,\n",
        "                        return_only_aggregation=True,\n",
        "                        queries_set_name='Gender bias')\n",
        "rnd_results"
      ],
      "execution_count": null,
      "outputs": [
        {
          "output_type": "execute_result",
          "data": {
            "text/html": [
              "<div>\n",
              "<style scoped>\n",
              "    .dataframe tbody tr th:only-of-type {\n",
              "        vertical-align: middle;\n",
              "    }\n",
              "\n",
              "    .dataframe tbody tr th {\n",
              "        vertical-align: top;\n",
              "    }\n",
              "\n",
              "    .dataframe thead th {\n",
              "        text-align: right;\n",
              "    }\n",
              "</style>\n",
              "<table border=\"1\" class=\"dataframe\">\n",
              "  <thead>\n",
              "    <tr style=\"text-align: right;\">\n",
              "      <th></th>\n",
              "      <th>RND: Gender bias average of abs values score</th>\n",
              "    </tr>\n",
              "    <tr>\n",
              "      <th>model_name</th>\n",
              "      <th></th>\n",
              "    </tr>\n",
              "  </thead>\n",
              "  <tbody>\n",
              "    <tr>\n",
              "      <th>hi-300dim</th>\n",
              "      <td>0.168989</td>\n",
              "    </tr>\n",
              "    <tr>\n",
              "      <th>hi-512</th>\n",
              "      <td>0.031325</td>\n",
              "    </tr>\n",
              "  </tbody>\n",
              "</table>\n",
              "</div>"
            ],
            "text/plain": [
              "            RND: Gender bias average of abs values score\n",
              "model_name                                              \n",
              "hi-300dim                                       0.168989\n",
              "hi-512                                          0.031325"
            ]
          },
          "metadata": {
            "tags": []
          },
          "execution_count": 26
        }
      ]
    },
    {
      "cell_type": "code",
      "metadata": {
        "colab": {
          "base_uri": "https://localhost:8080/",
          "height": 170
        },
        "id": "MeaVJzXz1h5z",
        "outputId": "780cd781-1fb3-4a66-f5f6-0c4893c3f846"
      },
      "source": [
        "ect_results = run_queries(ECT, queries, [hindi_300, model_hindi])\n",
        "ect_results"
      ],
      "execution_count": null,
      "outputs": [
        {
          "output_type": "execute_result",
          "data": {
            "text/html": [
              "<div>\n",
              "<style scoped>\n",
              "    .dataframe tbody tr th:only-of-type {\n",
              "        vertical-align: middle;\n",
              "    }\n",
              "\n",
              "    .dataframe tbody tr th {\n",
              "        vertical-align: top;\n",
              "    }\n",
              "\n",
              "    .dataframe thead th {\n",
              "        text-align: right;\n",
              "    }\n",
              "</style>\n",
              "<table border=\"1\" class=\"dataframe\">\n",
              "  <thead>\n",
              "    <tr style=\"text-align: right;\">\n",
              "      <th>query_name</th>\n",
              "      <th>Male words and Female words wrt Career</th>\n",
              "      <th>Male words and Female words wrt Intelligence</th>\n",
              "      <th>Male words and Female words wrt Strength</th>\n",
              "      <th>Male words and Female words wrt Science</th>\n",
              "      <th>Male words and Female words wrt Math</th>\n",
              "      <th>Male words and Female words wrt Family</th>\n",
              "      <th>Male words and Female words wrt Appearance</th>\n",
              "      <th>Male words and Female words wrt Weakness</th>\n",
              "      <th>Male words and Female words wrt Arts</th>\n",
              "    </tr>\n",
              "    <tr>\n",
              "      <th>model_name</th>\n",
              "      <th></th>\n",
              "      <th></th>\n",
              "      <th></th>\n",
              "      <th></th>\n",
              "      <th></th>\n",
              "      <th></th>\n",
              "      <th></th>\n",
              "      <th></th>\n",
              "      <th></th>\n",
              "    </tr>\n",
              "  </thead>\n",
              "  <tbody>\n",
              "    <tr>\n",
              "      <th>hi-300dim</th>\n",
              "      <td>0.727273</td>\n",
              "      <td>0.972527</td>\n",
              "      <td>0.939286</td>\n",
              "      <td>0.721212</td>\n",
              "      <td>0.709091</td>\n",
              "      <td>0.930070</td>\n",
              "      <td>0.763736</td>\n",
              "      <td>0.889286</td>\n",
              "      <td>0.951515</td>\n",
              "    </tr>\n",
              "    <tr>\n",
              "      <th>hi-512</th>\n",
              "      <td>0.237762</td>\n",
              "      <td>0.236264</td>\n",
              "      <td>-0.139286</td>\n",
              "      <td>0.430303</td>\n",
              "      <td>0.418182</td>\n",
              "      <td>-0.286713</td>\n",
              "      <td>0.296703</td>\n",
              "      <td>0.203571</td>\n",
              "      <td>0.442424</td>\n",
              "    </tr>\n",
              "  </tbody>\n",
              "</table>\n",
              "</div>"
            ],
            "text/plain": [
              "query_name  Male words and Female words wrt Career  ...  Male words and Female words wrt Arts\n",
              "model_name                                          ...                                      \n",
              "hi-300dim                                 0.727273  ...                              0.951515\n",
              "hi-512                                    0.237762  ...                              0.442424\n",
              "\n",
              "[2 rows x 9 columns]"
            ]
          },
          "metadata": {
            "tags": []
          },
          "execution_count": 27
        }
      ]
    },
    {
      "cell_type": "code",
      "metadata": {
        "colab": {
          "base_uri": "https://localhost:8080/",
          "height": 542
        },
        "id": "wXrY09w01jq8",
        "outputId": "e5809190-2971-4605-bee1-0a67a1f0b82f"
      },
      "source": [
        "plot_queries_results(ect_results)"
      ],
      "execution_count": null,
      "outputs": [
        {
          "output_type": "display_data",
          "data": {
            "text/html": [
              "<html>\n",
              "<head><meta charset=\"utf-8\" /></head>\n",
              "<body>\n",
              "    <div>\n",
              "            <script src=\"https://cdnjs.cloudflare.com/ajax/libs/mathjax/2.7.5/MathJax.js?config=TeX-AMS-MML_SVG\"></script><script type=\"text/javascript\">if (window.MathJax) {MathJax.Hub.Config({SVG: {font: \"STIX-Web\"}});}</script>\n",
              "                <script type=\"text/javascript\">window.PlotlyConfig = {MathJaxConfig: 'local'};</script>\n",
              "        <script src=\"https://cdn.plot.ly/plotly-latest.min.js\"></script>    \n",
              "            <div id=\"14c9ed53-34ff-4edf-abe2-5ec51b9c3bb9\" class=\"plotly-graph-div\" style=\"height:525px; width:100%;\"></div>\n",
              "            <script type=\"text/javascript\">\n",
              "                \n",
              "                    window.PLOTLYENV=window.PLOTLYENV || {};\n",
              "                    \n",
              "                if (document.getElementById(\"14c9ed53-34ff-4edf-abe2-5ec51b9c3bb9\")) {\n",
              "                    Plotly.newPlot(\n",
              "                        '14c9ed53-34ff-4edf-abe2-5ec51b9c3bb9',\n",
              "                        [{\"alignmentgroup\": \"True\", \"hoverlabel\": {\"namelength\": 0}, \"hovertemplate\": \"Word Embedding Model=hi-300dim<br>query_name=%{x}<br>value=%{y}\", \"legendgroup\": \"Word Embedding Model=hi-300dim\", \"marker\": {\"color\": \"#636efa\"}, \"name\": \"Word Embedding Model=hi-300dim\", \"offsetgroup\": \"Word Embedding Model=hi-300dim\", \"orientation\": \"v\", \"showlegend\": true, \"textposition\": \"auto\", \"type\": \"bar\", \"x\": [\"Male words and Female words wrt<br> Career\", \"Male words and Female words wrt<br> Intelligence\", \"Male words and Female words wrt<br> Strength\", \"Male words and Female words wrt<br> Science\", \"Male words and Female words wrt<br> Math\", \"Male words and Female words wrt<br> Family\", \"Male words and Female words wrt<br> Appearance\", \"Male words and Female words wrt<br> Weakness\", \"Male words and Female words wrt<br> Arts\"], \"xaxis\": \"x\", \"y\": [0.7272727272727274, 0.9725274725274725, 0.9392857142857142, 0.7212121212121211, 0.709090909090909, 0.9300699300699302, 0.7637362637362637, 0.8892857142857141, 0.9515151515151514], \"yaxis\": \"y\"}, {\"alignmentgroup\": \"True\", \"hoverlabel\": {\"namelength\": 0}, \"hovertemplate\": \"Word Embedding Model=hi-512<br>query_name=%{x}<br>value=%{y}\", \"legendgroup\": \"Word Embedding Model=hi-512\", \"marker\": {\"color\": \"#EF553B\"}, \"name\": \"Word Embedding Model=hi-512\", \"offsetgroup\": \"Word Embedding Model=hi-512\", \"orientation\": \"v\", \"showlegend\": true, \"textposition\": \"auto\", \"type\": \"bar\", \"x\": [\"Male words and Female words wrt<br> Career\", \"Male words and Female words wrt<br> Intelligence\", \"Male words and Female words wrt<br> Strength\", \"Male words and Female words wrt<br> Science\", \"Male words and Female words wrt<br> Math\", \"Male words and Female words wrt<br> Family\", \"Male words and Female words wrt<br> Appearance\", \"Male words and Female words wrt<br> Weakness\", \"Male words and Female words wrt<br> Arts\"], \"xaxis\": \"x\", \"y\": [0.2377622377622378, 0.23626373626373626, -0.13928571428571426, 0.43030303030303024, 0.41818181818181815, -0.2867132867132868, 0.2967032967032967, 0.20357142857142854, 0.4424242424242424], \"yaxis\": \"y\"}],\n",
              "                        {\"barmode\": \"group\", \"legend\": {\"tracegroupgap\": 0}, \"margin\": {\"t\": 60}, \"template\": {\"data\": {\"bar\": [{\"error_x\": {\"color\": \"#2a3f5f\"}, \"error_y\": {\"color\": \"#2a3f5f\"}, \"marker\": {\"line\": {\"color\": \"#E5ECF6\", \"width\": 0.5}}, \"type\": \"bar\"}], \"barpolar\": [{\"marker\": {\"line\": {\"color\": \"#E5ECF6\", \"width\": 0.5}}, \"type\": \"barpolar\"}], \"carpet\": [{\"aaxis\": {\"endlinecolor\": \"#2a3f5f\", \"gridcolor\": \"white\", \"linecolor\": \"white\", \"minorgridcolor\": \"white\", \"startlinecolor\": \"#2a3f5f\"}, \"baxis\": {\"endlinecolor\": \"#2a3f5f\", \"gridcolor\": \"white\", \"linecolor\": \"white\", \"minorgridcolor\": \"white\", \"startlinecolor\": \"#2a3f5f\"}, \"type\": \"carpet\"}], \"choropleth\": [{\"colorbar\": {\"outlinewidth\": 0, \"ticks\": \"\"}, \"type\": \"choropleth\"}], \"contour\": [{\"colorbar\": {\"outlinewidth\": 0, \"ticks\": \"\"}, \"colorscale\": [[0.0, \"#0d0887\"], [0.1111111111111111, \"#46039f\"], [0.2222222222222222, \"#7201a8\"], [0.3333333333333333, \"#9c179e\"], [0.4444444444444444, \"#bd3786\"], [0.5555555555555556, \"#d8576b\"], [0.6666666666666666, \"#ed7953\"], [0.7777777777777778, \"#fb9f3a\"], [0.8888888888888888, \"#fdca26\"], [1.0, \"#f0f921\"]], \"type\": \"contour\"}], \"contourcarpet\": [{\"colorbar\": {\"outlinewidth\": 0, \"ticks\": \"\"}, \"type\": \"contourcarpet\"}], \"heatmap\": [{\"colorbar\": {\"outlinewidth\": 0, \"ticks\": \"\"}, \"colorscale\": [[0.0, \"#0d0887\"], [0.1111111111111111, \"#46039f\"], [0.2222222222222222, \"#7201a8\"], [0.3333333333333333, \"#9c179e\"], [0.4444444444444444, \"#bd3786\"], [0.5555555555555556, \"#d8576b\"], [0.6666666666666666, \"#ed7953\"], [0.7777777777777778, \"#fb9f3a\"], [0.8888888888888888, \"#fdca26\"], [1.0, \"#f0f921\"]], \"type\": \"heatmap\"}], \"heatmapgl\": [{\"colorbar\": {\"outlinewidth\": 0, \"ticks\": \"\"}, \"colorscale\": [[0.0, \"#0d0887\"], [0.1111111111111111, \"#46039f\"], [0.2222222222222222, \"#7201a8\"], [0.3333333333333333, \"#9c179e\"], [0.4444444444444444, \"#bd3786\"], [0.5555555555555556, \"#d8576b\"], [0.6666666666666666, \"#ed7953\"], [0.7777777777777778, \"#fb9f3a\"], [0.8888888888888888, \"#fdca26\"], [1.0, \"#f0f921\"]], \"type\": \"heatmapgl\"}], \"histogram\": [{\"marker\": {\"colorbar\": {\"outlinewidth\": 0, \"ticks\": \"\"}}, \"type\": \"histogram\"}], \"histogram2d\": [{\"colorbar\": {\"outlinewidth\": 0, \"ticks\": \"\"}, \"colorscale\": [[0.0, \"#0d0887\"], [0.1111111111111111, \"#46039f\"], [0.2222222222222222, \"#7201a8\"], [0.3333333333333333, \"#9c179e\"], [0.4444444444444444, \"#bd3786\"], [0.5555555555555556, \"#d8576b\"], [0.6666666666666666, \"#ed7953\"], [0.7777777777777778, \"#fb9f3a\"], [0.8888888888888888, \"#fdca26\"], [1.0, \"#f0f921\"]], \"type\": \"histogram2d\"}], \"histogram2dcontour\": [{\"colorbar\": {\"outlinewidth\": 0, \"ticks\": \"\"}, \"colorscale\": [[0.0, \"#0d0887\"], [0.1111111111111111, \"#46039f\"], [0.2222222222222222, \"#7201a8\"], [0.3333333333333333, \"#9c179e\"], [0.4444444444444444, \"#bd3786\"], [0.5555555555555556, \"#d8576b\"], [0.6666666666666666, \"#ed7953\"], [0.7777777777777778, \"#fb9f3a\"], [0.8888888888888888, \"#fdca26\"], [1.0, \"#f0f921\"]], \"type\": \"histogram2dcontour\"}], \"mesh3d\": [{\"colorbar\": {\"outlinewidth\": 0, \"ticks\": \"\"}, \"type\": \"mesh3d\"}], \"parcoords\": [{\"line\": {\"colorbar\": {\"outlinewidth\": 0, \"ticks\": \"\"}}, \"type\": \"parcoords\"}], \"pie\": [{\"automargin\": true, \"type\": \"pie\"}], \"scatter\": [{\"marker\": {\"colorbar\": {\"outlinewidth\": 0, \"ticks\": \"\"}}, \"type\": \"scatter\"}], \"scatter3d\": [{\"line\": {\"colorbar\": {\"outlinewidth\": 0, \"ticks\": \"\"}}, \"marker\": {\"colorbar\": {\"outlinewidth\": 0, \"ticks\": \"\"}}, \"type\": \"scatter3d\"}], \"scattercarpet\": [{\"marker\": {\"colorbar\": {\"outlinewidth\": 0, \"ticks\": \"\"}}, \"type\": \"scattercarpet\"}], \"scattergeo\": [{\"marker\": {\"colorbar\": {\"outlinewidth\": 0, \"ticks\": \"\"}}, \"type\": \"scattergeo\"}], \"scattergl\": [{\"marker\": {\"colorbar\": {\"outlinewidth\": 0, \"ticks\": \"\"}}, \"type\": \"scattergl\"}], \"scattermapbox\": [{\"marker\": {\"colorbar\": {\"outlinewidth\": 0, \"ticks\": \"\"}}, \"type\": \"scattermapbox\"}], \"scatterpolar\": [{\"marker\": {\"colorbar\": {\"outlinewidth\": 0, \"ticks\": \"\"}}, \"type\": \"scatterpolar\"}], \"scatterpolargl\": [{\"marker\": {\"colorbar\": {\"outlinewidth\": 0, \"ticks\": \"\"}}, \"type\": \"scatterpolargl\"}], \"scatterternary\": [{\"marker\": {\"colorbar\": {\"outlinewidth\": 0, \"ticks\": \"\"}}, \"type\": \"scatterternary\"}], \"surface\": [{\"colorbar\": {\"outlinewidth\": 0, \"ticks\": \"\"}, \"colorscale\": [[0.0, \"#0d0887\"], [0.1111111111111111, \"#46039f\"], [0.2222222222222222, \"#7201a8\"], [0.3333333333333333, \"#9c179e\"], [0.4444444444444444, \"#bd3786\"], [0.5555555555555556, \"#d8576b\"], [0.6666666666666666, \"#ed7953\"], [0.7777777777777778, \"#fb9f3a\"], [0.8888888888888888, \"#fdca26\"], [1.0, \"#f0f921\"]], \"type\": \"surface\"}], \"table\": [{\"cells\": {\"fill\": {\"color\": \"#EBF0F8\"}, \"line\": {\"color\": \"white\"}}, \"header\": {\"fill\": {\"color\": \"#C8D4E3\"}, \"line\": {\"color\": \"white\"}}, \"type\": \"table\"}]}, \"layout\": {\"annotationdefaults\": {\"arrowcolor\": \"#2a3f5f\", \"arrowhead\": 0, \"arrowwidth\": 1}, \"coloraxis\": {\"colorbar\": {\"outlinewidth\": 0, \"ticks\": \"\"}}, \"colorscale\": {\"diverging\": [[0, \"#8e0152\"], [0.1, \"#c51b7d\"], [0.2, \"#de77ae\"], [0.3, \"#f1b6da\"], [0.4, \"#fde0ef\"], [0.5, \"#f7f7f7\"], [0.6, \"#e6f5d0\"], [0.7, \"#b8e186\"], [0.8, \"#7fbc41\"], [0.9, \"#4d9221\"], [1, \"#276419\"]], \"sequential\": [[0.0, \"#0d0887\"], [0.1111111111111111, \"#46039f\"], [0.2222222222222222, \"#7201a8\"], [0.3333333333333333, \"#9c179e\"], [0.4444444444444444, \"#bd3786\"], [0.5555555555555556, \"#d8576b\"], [0.6666666666666666, \"#ed7953\"], [0.7777777777777778, \"#fb9f3a\"], [0.8888888888888888, \"#fdca26\"], [1.0, \"#f0f921\"]], \"sequentialminus\": [[0.0, \"#0d0887\"], [0.1111111111111111, \"#46039f\"], [0.2222222222222222, \"#7201a8\"], [0.3333333333333333, \"#9c179e\"], [0.4444444444444444, \"#bd3786\"], [0.5555555555555556, \"#d8576b\"], [0.6666666666666666, \"#ed7953\"], [0.7777777777777778, \"#fb9f3a\"], [0.8888888888888888, \"#fdca26\"], [1.0, \"#f0f921\"]]}, \"colorway\": [\"#636efa\", \"#EF553B\", \"#00cc96\", \"#ab63fa\", \"#FFA15A\", \"#19d3f3\", \"#FF6692\", \"#B6E880\", \"#FF97FF\", \"#FECB52\"], \"font\": {\"color\": \"#2a3f5f\"}, \"geo\": {\"bgcolor\": \"white\", \"lakecolor\": \"white\", \"landcolor\": \"#E5ECF6\", \"showlakes\": true, \"showland\": true, \"subunitcolor\": \"white\"}, \"hoverlabel\": {\"align\": \"left\"}, \"hovermode\": \"closest\", \"mapbox\": {\"style\": \"light\"}, \"paper_bgcolor\": \"white\", \"plot_bgcolor\": \"#E5ECF6\", \"polar\": {\"angularaxis\": {\"gridcolor\": \"white\", \"linecolor\": \"white\", \"ticks\": \"\"}, \"bgcolor\": \"#E5ECF6\", \"radialaxis\": {\"gridcolor\": \"white\", \"linecolor\": \"white\", \"ticks\": \"\"}}, \"scene\": {\"xaxis\": {\"backgroundcolor\": \"#E5ECF6\", \"gridcolor\": \"white\", \"gridwidth\": 2, \"linecolor\": \"white\", \"showbackground\": true, \"ticks\": \"\", \"zerolinecolor\": \"white\"}, \"yaxis\": {\"backgroundcolor\": \"#E5ECF6\", \"gridcolor\": \"white\", \"gridwidth\": 2, \"linecolor\": \"white\", \"showbackground\": true, \"ticks\": \"\", \"zerolinecolor\": \"white\"}, \"zaxis\": {\"backgroundcolor\": \"#E5ECF6\", \"gridcolor\": \"white\", \"gridwidth\": 2, \"linecolor\": \"white\", \"showbackground\": true, \"ticks\": \"\", \"zerolinecolor\": \"white\"}}, \"shapedefaults\": {\"line\": {\"color\": \"#2a3f5f\"}}, \"ternary\": {\"aaxis\": {\"gridcolor\": \"white\", \"linecolor\": \"white\", \"ticks\": \"\"}, \"baxis\": {\"gridcolor\": \"white\", \"linecolor\": \"white\", \"ticks\": \"\"}, \"bgcolor\": \"#E5ECF6\", \"caxis\": {\"gridcolor\": \"white\", \"linecolor\": \"white\", \"ticks\": \"\"}}, \"title\": {\"x\": 0.05}, \"xaxis\": {\"automargin\": true, \"gridcolor\": \"white\", \"linecolor\": \"white\", \"ticks\": \"\", \"title\": {\"standoff\": 15}, \"zerolinecolor\": \"white\", \"zerolinewidth\": 2}, \"yaxis\": {\"automargin\": true, \"gridcolor\": \"white\", \"linecolor\": \"white\", \"ticks\": \"\", \"title\": {\"standoff\": 15}, \"zerolinecolor\": \"white\", \"zerolinewidth\": 2}}}, \"xaxis\": {\"anchor\": \"y\", \"domain\": [0.0, 1.0], \"title\": {\"text\": \"Query\"}}, \"yaxis\": {\"anchor\": \"x\", \"domain\": [0.0, 1.0], \"title\": {\"text\": \"Bias measure\"}}},\n",
              "                        {\"responsive\": true}\n",
              "                    ).then(function(){\n",
              "                            \n",
              "var gd = document.getElementById('14c9ed53-34ff-4edf-abe2-5ec51b9c3bb9');\n",
              "var x = new MutationObserver(function (mutations, observer) {{\n",
              "        var display = window.getComputedStyle(gd).display;\n",
              "        if (!display || display === 'none') {{\n",
              "            console.log([gd, 'removed!']);\n",
              "            Plotly.purge(gd);\n",
              "            observer.disconnect();\n",
              "        }}\n",
              "}});\n",
              "\n",
              "// Listen for the removal of the full notebook cells\n",
              "var notebookContainer = gd.closest('#notebook-container');\n",
              "if (notebookContainer) {{\n",
              "    x.observe(notebookContainer, {childList: true});\n",
              "}}\n",
              "\n",
              "// Listen for the clearing of the current output cell\n",
              "var outputEl = gd.closest('.output');\n",
              "if (outputEl) {{\n",
              "    x.observe(outputEl, {childList: true});\n",
              "}}\n",
              "\n",
              "                        })\n",
              "                };\n",
              "                \n",
              "            </script>\n",
              "        </div>\n",
              "</body>\n",
              "</html>"
            ]
          },
          "metadata": {
            "tags": []
          }
        }
      ]
    },
    {
      "cell_type": "code",
      "metadata": {
        "colab": {
          "base_uri": "https://localhost:8080/",
          "height": 136
        },
        "id": "DfZ7cUDT1l9k",
        "outputId": "57d02a6d-dc59-468b-ee11-b73f5cb6c933"
      },
      "source": [
        "ect_results = run_queries(ECT,\n",
        "                        queries,\n",
        "                        [hindi_300, model_hindi],\n",
        "                        aggregate_results=True,\n",
        "                        return_only_aggregation=True,\n",
        "                        queries_set_name='Gender bias')\n",
        "ect_results"
      ],
      "execution_count": null,
      "outputs": [
        {
          "output_type": "execute_result",
          "data": {
            "text/html": [
              "<div>\n",
              "<style scoped>\n",
              "    .dataframe tbody tr th:only-of-type {\n",
              "        vertical-align: middle;\n",
              "    }\n",
              "\n",
              "    .dataframe tbody tr th {\n",
              "        vertical-align: top;\n",
              "    }\n",
              "\n",
              "    .dataframe thead th {\n",
              "        text-align: right;\n",
              "    }\n",
              "</style>\n",
              "<table border=\"1\" class=\"dataframe\">\n",
              "  <thead>\n",
              "    <tr style=\"text-align: right;\">\n",
              "      <th></th>\n",
              "      <th>ECT: Gender bias average of abs values score</th>\n",
              "    </tr>\n",
              "    <tr>\n",
              "      <th>model_name</th>\n",
              "      <th></th>\n",
              "    </tr>\n",
              "  </thead>\n",
              "  <tbody>\n",
              "    <tr>\n",
              "      <th>hi-300dim</th>\n",
              "      <td>0.844888</td>\n",
              "    </tr>\n",
              "    <tr>\n",
              "      <th>hi-512</th>\n",
              "      <td>0.299023</td>\n",
              "    </tr>\n",
              "  </tbody>\n",
              "</table>\n",
              "</div>"
            ],
            "text/plain": [
              "            ECT: Gender bias average of abs values score\n",
              "model_name                                              \n",
              "hi-300dim                                       0.844888\n",
              "hi-512                                          0.299023"
            ]
          },
          "metadata": {
            "tags": []
          },
          "execution_count": 29
        }
      ]
    }
  ]
}